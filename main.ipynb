{
 "cells": [
  {
   "cell_type": "markdown",
   "id": "5e6f9806",
   "metadata": {},
   "source": [
    "# Image Segmantation for Pothole Detection\n",
    "(we know this would be very helpful in Romania expecially)"
   ]
  },
  {
   "cell_type": "markdown",
   "id": "1a7765e4",
   "metadata": {},
   "source": [
    "Let's import the dataset:"
   ]
  },
  {
   "cell_type": "code",
   "execution_count": 33,
   "id": "7b5fc2a2",
   "metadata": {},
   "outputs": [
    {
     "name": "stdout",
     "output_type": "stream",
     "text": [
      "Warning: Looks like you're using an outdated `kagglehub` version, please consider updating (latest version: 0.3.12)\n",
      "Path to dataset files: C:\\Users\\Tudor\\.cache\\kagglehub\\datasets\\farzadnekouei\\pothole-image-segmentation-dataset\\versions\\2\n"
     ]
    }
   ],
   "source": [
    "import kagglehub\n",
    "\n",
    "# Download latest version\n",
    "path = kagglehub.dataset_download(\"farzadnekouei/pothole-image-segmentation-dataset\")\n",
    "\n",
    "print(\"Path to dataset files:\", path)"
   ]
  },
  {
   "cell_type": "code",
   "execution_count": 53,
   "id": "4826920c",
   "metadata": {},
   "outputs": [],
   "source": [
    "# imports\n",
    "import torch\n",
    "import torch.nn as nn\n",
    "import torch.nn.functional as F\n",
    "import torch.optim as optim\n",
    "from torch.utils.data import DataLoader\n",
    "import torchvision.transforms as transforms\n",
    "from PIL import Image"
   ]
  },
  {
   "cell_type": "markdown",
   "id": "fd9cc30a",
   "metadata": {},
   "source": [
    "Define basic block of U-Net"
   ]
  },
  {
   "cell_type": "code",
   "execution_count": 35,
   "id": "cc0eaebb",
   "metadata": {},
   "outputs": [],
   "source": [
    "class downConv(nn.Module):\n",
    "    def __init__(self, in_c, out_c):\n",
    "        super().__init__()\n",
    "        self.conv = nn.Sequential(\n",
    "            nn.Conv2d(in_c, out_c, kernel_size=3, padding=1),\n",
    "            nn.BatchNorm2d(out_c),\n",
    "            nn.ReLU(inplace=True),\n",
    "            nn.Conv2d(out_c, out_c, kernel_size=3, padding=1),\n",
    "            nn.BatchNorm2d(out_c),\n",
    "            nn.ReLU(inplace=True),\n",
    "        )\n",
    "\n",
    "    def forward(self, x):\n",
    "        return self.conv(x)\n",
    "\n",
    "class upConv(nn.Module):\n",
    "    def __init__(self, in_c, out_c):\n",
    "        super().__init__()\n",
    "        self.conv = nn.Sequential(\n",
    "            nn.Conv2d(in_c, in_c // 2, kernel_size=3, padding=1),\n",
    "            nn.BatchNorm2d(in_c // 2),\n",
    "            nn.ReLU(inplace=True),\n",
    "            nn.Conv2d(in_c // 2, out_c, kernel_size=3, padding=1),\n",
    "            nn.BatchNorm2d(out_c),\n",
    "            nn.ReLU(inplace=True),\n",
    "        )\n",
    "\n",
    "    def forward(self, x):\n",
    "        return self.conv(x)"
   ]
  },
  {
   "cell_type": "markdown",
   "id": "22f90543",
   "metadata": {},
   "source": [
    "Define U-Net"
   ]
  },
  {
   "cell_type": "code",
   "execution_count": 36,
   "id": "a0917d8d",
   "metadata": {},
   "outputs": [],
   "source": [
    "class unet_encoder(nn.Module):\n",
    "    def __init__(self):\n",
    "        super().__init__()\n",
    "\n",
    "        self.block1 = downConv(in_c=3, out_c=64)\n",
    "        self.block2 = downConv(in_c=64, out_c=128)\n",
    "        self.block3 = downConv(in_c=128, out_c=256)\n",
    "        self.block4 = downConv(in_c=256, out_c=512)\n",
    "        self.block5 = downConv(in_c=512, out_c=1024)\n",
    "        \n",
    "        self.pool = nn.MaxPool2d(2)\n",
    "\n",
    "    def forward(self, x):\n",
    "        x1 = self.block1(x)\n",
    "        print(x1.shape)\n",
    "        x2 = self.block2(self.pool(x1))\n",
    "        print(x2.shape)\n",
    "        x3 = self.block3(self.pool(x2))\n",
    "        print(x3.shape)\n",
    "        x4 = self.block4(self.pool(x3))\n",
    "        print(x4.shape)\n",
    "        x5 = self.block5(self.pool(x4))\n",
    "        print(x5.shape)\n",
    "\n",
    "        return [x1, x2, x3, x4, x5]\n",
    "    \n",
    "class unet_decoder(nn.Module):\n",
    "    def __init__(self):\n",
    "        super().__init__()\n",
    "\n",
    "        self.upconv1 = nn.ConvTranspose2d(in_channels=1024, out_channels=512, kernel_size=2, stride=2,)\n",
    "        self.upconv2 = nn.ConvTranspose2d(in_channels=512, out_channels=256, kernel_size=2, stride=2,)\n",
    "        self.upconv3 = nn.ConvTranspose2d(in_channels=256, out_channels=128, kernel_size=2, stride=2,)\n",
    "        self.upconv4 = nn.ConvTranspose2d(in_channels=128, out_channels=64, kernel_size=2, stride=2,)\n",
    "        \n",
    "        self.block1 = upConv(in_c=1024, out_c=512)\n",
    "        self.block2 = upConv(in_c=512, out_c=256)\n",
    "        self.block3 = upConv(in_c=256, out_c=128)\n",
    "        self.block4 = upConv(in_c=128, out_c=64)\n",
    "\n",
    "    def forward(self, x_set):\n",
    "        x1_1, x1_2, x1_3, x1_4, x1_5 = x_set\n",
    "        \n",
    "        x2_1 = self.upconv1(x1_5)\n",
    "        x1_4 = x1_4[:, :, :x2_1.shape[2], :x2_1.shape[3]]\n",
    "        \n",
    "        x2_1 = torch.cat([x2_1, x1_4], dim=1)\n",
    "        x2_1 = self.block1(x2_1)\n",
    "        print(x2_1.shape)\n",
    "        \n",
    "        x2_2 = self.upconv2(x2_1)\n",
    "        x1_3 = x1_3[:, :, :x2_2.shape[2], :x2_2.shape[3]]\n",
    "        \n",
    "        x2_2 = torch.cat([x2_2, x1_3], dim=1)\n",
    "        x2_2 = self.block2(x2_2)\n",
    "        print(x2_2.shape)\n",
    "\n",
    "        x2_3 = self.upconv3(x2_2)\n",
    "        x1_2 = x1_2[:, :, :x2_3.shape[2], :x2_3.shape[3]]\n",
    "        \n",
    "        x2_3 = torch.cat([x2_3, x1_2], dim=1)\n",
    "        x2_3 = self.block3(x2_3)\n",
    "        print(x2_3.shape)\n",
    "\n",
    "        x2_4 = self.upconv4(x2_3)\n",
    "        x1_1 = x1_1[:, :, :x2_4.shape[2], :x2_4.shape[3]]\n",
    "        \n",
    "        x2_4 = torch.cat([x2_4, x1_1], dim=1)\n",
    "        x2_4 = self.block4(x2_4)\n",
    "        print(x2_4.shape)\n",
    "        \n",
    "        return x2_4"
   ]
  },
  {
   "cell_type": "code",
   "execution_count": 37,
   "id": "de299e26",
   "metadata": {},
   "outputs": [],
   "source": [
    "class u_net(nn.Module):\n",
    "    def __init__(self):\n",
    "        super().__init__()\n",
    "\n",
    "        self.part1 = unet_encoder()\n",
    "        self.part2 = unet_decoder()\n",
    "\n",
    "        self.seg_head = nn.Sequential(\n",
    "            nn.Conv2d(64, 2, kernel_size=1),\n",
    "            nn.Sigmoid()\n",
    "        )\n",
    "\n",
    "    def forward(self, x):\n",
    "        x1 = self.part1(x)\n",
    "        x2 = self.part2(x1)\n",
    "\n",
    "        x = self.seg_head(x2)\n",
    "\n",
    "        return x"
   ]
  },
  {
   "cell_type": "markdown",
   "id": "eb9271d8",
   "metadata": {},
   "source": [
    "### Setup a Dataset and a DataLoader"
   ]
  },
  {
   "cell_type": "code",
   "execution_count": 73,
   "id": "98bbbc62",
   "metadata": {},
   "outputs": [],
   "source": [
    "import os\n",
    "import cv2\n",
    "import numpy as np\n",
    "from torch.utils.data import Dataset\n",
    "\n",
    "class YoloSegmentationDataset(Dataset):\n",
    "    def __init__(self, image_dir, label_dir, image_size=(640, 640), transform=None):\n",
    "        self.image_dir = image_dir\n",
    "        self.label_dir = label_dir\n",
    "        self.image_size = image_size\n",
    "        self.transform = transform\n",
    "\n",
    "        self.image_files = sorted([f for f in os.listdir(image_dir) if f.endswith(('.jpg', '.png', '.jpeg'))])\n",
    "\n",
    "    def __len__(self):\n",
    "        return len(self.image_files)\n",
    "\n",
    "    def __getitem__(self, idx):\n",
    "        image_name = self.image_files[idx]\n",
    "        img_path = os.path.join(self.image_dir, image_name)\n",
    "        label_path = os.path.join(self.label_dir, os.path.splitext(image_name)[0] + \".txt\")\n",
    "\n",
    "        # Load image as PIL Image\n",
    "        image = Image.open(img_path).convert(\"RGB\")\n",
    "\n",
    "        # Get original width, height for mask scaling\n",
    "        w, h = image.size\n",
    "\n",
    "        mask = np.zeros((h, w), dtype=np.uint8)\n",
    "        if os.path.exists(label_path):\n",
    "            with open(label_path, \"r\") as file:\n",
    "                for line in file:\n",
    "                    parts = list(map(float, line.strip().split()))\n",
    "                    cls, coords = parts[0], parts[1:]\n",
    "                    points = np.array(coords).reshape(-1, 2)\n",
    "                    points[:, 0] *= w\n",
    "                    points[:, 1] *= h\n",
    "                    points = points.astype(np.int32)\n",
    "                    cv2.fillPoly(mask, [points], color=1)\n",
    "\n",
    "        # Resize mask with cv2 (to 256x256, same as transform.Resize)\n",
    "        mask = cv2.resize(mask, (128, 128), interpolation=cv2.INTER_NEAREST)\n",
    "\n",
    "        # Apply transforms on PIL image (Resize + ToTensor + Normalize)\n",
    "        if self.transform:\n",
    "            image = self.transform(image)\n",
    "\n",
    "        # Convert mask to tensor\n",
    "        mask = torch.tensor(mask, dtype=torch.float32).unsqueeze(0)\n",
    "\n",
    "        return image, mask"
   ]
  },
  {
   "cell_type": "code",
   "execution_count": 74,
   "id": "2db38694",
   "metadata": {},
   "outputs": [],
   "source": [
    "from torch.utils.data import DataLoader\n",
    "from torchvision import transforms\n",
    "\n",
    "transform = transforms.Compose([\n",
    "    transforms.Resize((128, 128)),\n",
    "    transforms.ToTensor(),  # Converts to [0, 1] range\n",
    "    transforms.Normalize([0.5, 0.5, 0.5], [0.5, 0.5, 0.5])  # Normalize for U-Net\n",
    "])\n",
    "\n",
    "train_dataset = YoloSegmentationDataset(\n",
    "    image_dir=path + '/Pothole_Segmentation_YOLOv8/train/images',\n",
    "    label_dir=path +'/Pothole_Segmentation_YOLOv8/train/labels',\n",
    "    transform=transform\n",
    ")\n",
    "\n",
    "val_dataset = YoloSegmentationDataset(\n",
    "    image_dir=path +'/Pothole_Segmentation_YOLOv8/valid/images',\n",
    "    label_dir=path +'/Pothole_Segmentation_YOLOv8/valid/labels',\n",
    "    transform=transform\n",
    ")\n",
    "\n",
    "train_loader = DataLoader(train_dataset, batch_size=32, shuffle=True)\n",
    "val_loader = DataLoader(val_dataset, batch_size=32, shuffle=False)"
   ]
  },
  {
   "cell_type": "markdown",
   "id": "c0d5a5d7",
   "metadata": {},
   "source": [
    "Let's take a look at the image with it's new size"
   ]
  },
  {
   "cell_type": "code",
   "execution_count": 75,
   "id": "c7df97b7",
   "metadata": {},
   "outputs": [
    {
     "name": "stderr",
     "output_type": "stream",
     "text": [
      "Clipping input data to the valid range for imshow with RGB data ([0..1] for floats or [0..255] for integers). Got range [-0.9607843..1.0].\n"
     ]
    },
    {
     "data": {
      "text/plain": [
       "Text(0.5, 1.0, 'Mask')"
      ]
     },
     "execution_count": 75,
     "metadata": {},
     "output_type": "execute_result"
    },
    {
     "data": {
      "image/png": "[encoded data removed]",
      "text/plain": [
       "<Figure size 640x480 with 2 Axes>"
      ]
     },
     "metadata": {},
     "output_type": "display_data"
    }
   ],
   "source": [
    "from matplotlib import pyplot as plt  \n",
    "\n",
    "img, mask = train_dataset[66]\n",
    "img_disp = img.permute(1, 2, 0).numpy()\n",
    "mask_disp = mask.squeeze(0).numpy()\n",
    "\n",
    "plt.subplot(1, 2, 1)\n",
    "plt.imshow(img_disp)\n",
    "plt.title(\"Image\")\n",
    "\n",
    "plt.subplot(1, 2, 2)\n",
    "plt.imshow(mask_disp, cmap='gray')\n",
    "plt.title(\"Mask\")"
   ]
  },
  {
   "cell_type": "code",
   "execution_count": 76,
   "id": "11bad073",
   "metadata": {},
   "outputs": [
    {
     "name": "stdout",
     "output_type": "stream",
     "text": [
      "720\n"
     ]
    },
    {
     "data": {
      "text/plain": [
       "60"
      ]
     },
     "execution_count": 76,
     "metadata": {},
     "output_type": "execute_result"
    }
   ],
   "source": [
    "print(len(train_dataset))\n",
    "len(val_dataset)"
   ]
  },
  {
   "cell_type": "markdown",
   "id": "35962ebb",
   "metadata": {},
   "source": [
    "### Train the model"
   ]
  },
  {
   "cell_type": "code",
   "execution_count": 77,
   "id": "5f133e51",
   "metadata": {},
   "outputs": [],
   "source": [
    "model = u_net()\n",
    "\n",
    "optimizer = optim.Adam(model.parameters(), lr=1e-4)\n",
    "criterion = nn.BCELoss()"
   ]
  },
  {
   "cell_type": "code",
   "execution_count": 78,
   "id": "dedc49f6",
   "metadata": {},
   "outputs": [],
   "source": [
    "from tqdm import tqdm # cool library\n",
    "\n",
    "def train(model, dataloader, optimizer, criterion):\n",
    "    model.train()\n",
    "    running_loss = 0.0\n",
    "    \n",
    "    for images, masks in tqdm(dataloader):\n",
    "\n",
    "        outputs = model(images)\n",
    "        \n",
    "        # If model outputs 2 channels, reduce to 1\n",
    "        if outputs.shape[1] == 2:\n",
    "            outputs = outputs[:, 1:2, :, :]  # Take channel 1 (positive class)\n",
    "\n",
    "        loss = criterion(outputs, masks)\n",
    "        \n",
    "        optimizer.zero_grad()\n",
    "        loss.backward()\n",
    "        optimizer.step()\n",
    "\n",
    "        running_loss += loss.item() * images.size(0)\n",
    "\n",
    "    epoch_loss = running_loss / len(dataloader.dataset)\n",
    "    return epoch_loss\n"
   ]
  },
  {
   "cell_type": "code",
   "execution_count": 79,
   "id": "ae3b1b08",
   "metadata": {},
   "outputs": [],
   "source": [
    "def validate(model, dataloader, criterion):\n",
    "    model.eval()\n",
    "    running_loss = 0.0\n",
    "    \n",
    "    with torch.no_grad():\n",
    "        for images, masks in tqdm(dataloader):\n",
    "            outputs = model(images)\n",
    "            if outputs.shape[1] == 2:\n",
    "                outputs = outputs[:, 1:2, :, :]\n",
    "\n",
    "            loss = criterion(outputs, masks)\n",
    "            running_loss += loss.item() * images.size(0)\n",
    "\n",
    "    epoch_loss = running_loss / len(dataloader.dataset)\n",
    "    return epoch_loss\n"
   ]
  },
  {
   "cell_type": "markdown",
   "id": "40711597",
   "metadata": {},
   "source": [
    "Ok now let;s train the U net"
   ]
  },
  {
   "cell_type": "code",
   "execution_count": null,
   "id": "09f0cfbb",
   "metadata": {},
   "outputs": [
    {
     "name": "stdout",
     "output_type": "stream",
     "text": [
      "\n",
      "Epoch 1/20\n"
     ]
    },
    {
     "name": "stderr",
     "output_type": "stream",
     "text": [
      "  0%|          | 0/23 [00:00<?, ?it/s]"
     ]
    },
    {
     "name": "stdout",
     "output_type": "stream",
     "text": [
      "torch.Size([32, 64, 128, 128])\n",
      "torch.Size([32, 128, 64, 64])\n",
      "torch.Size([32, 256, 32, 32])\n",
      "torch.Size([32, 512, 16, 16])\n",
      "torch.Size([32, 1024, 8, 8])\n",
      "torch.Size([32, 512, 16, 16])\n",
      "torch.Size([32, 256, 32, 32])\n",
      "torch.Size([32, 128, 64, 64])\n",
      "torch.Size([32, 64, 128, 128])\n"
     ]
    },
    {
     "name": "stderr",
     "output_type": "stream",
     "text": [
      "  4%|▍         | 1/23 [00:34<12:34, 34.29s/it]"
     ]
    },
    {
     "name": "stdout",
     "output_type": "stream",
     "text": [
      "torch.Size([32, 64, 128, 128])\n",
      "torch.Size([32, 128, 64, 64])\n",
      "torch.Size([32, 256, 32, 32])\n",
      "torch.Size([32, 512, 16, 16])\n",
      "torch.Size([32, 1024, 8, 8])\n",
      "torch.Size([32, 512, 16, 16])\n",
      "torch.Size([32, 256, 32, 32])\n",
      "torch.Size([32, 128, 64, 64])\n",
      "torch.Size([32, 64, 128, 128])\n"
     ]
    },
    {
     "name": "stderr",
     "output_type": "stream",
     "text": [
      "  9%|▊         | 2/23 [01:09<12:06, 34.59s/it]"
     ]
    },
    {
     "name": "stdout",
     "output_type": "stream",
     "text": [
      "torch.Size([32, 64, 128, 128])\n",
      "torch.Size([32, 128, 64, 64])\n",
      "torch.Size([32, 256, 32, 32])\n",
      "torch.Size([32, 512, 16, 16])\n",
      "torch.Size([32, 1024, 8, 8])\n",
      "torch.Size([32, 512, 16, 16])\n",
      "torch.Size([32, 256, 32, 32])\n",
      "torch.Size([32, 128, 64, 64])\n",
      "torch.Size([32, 64, 128, 128])\n"
     ]
    },
    {
     "name": "stderr",
     "output_type": "stream",
     "text": [
      " 13%|█▎        | 3/23 [01:43<11:25, 34.29s/it]"
     ]
    },
    {
     "name": "stdout",
     "output_type": "stream",
     "text": [
      "torch.Size([32, 64, 128, 128])\n",
      "torch.Size([32, 128, 64, 64])\n",
      "torch.Size([32, 256, 32, 32])\n",
      "torch.Size([32, 512, 16, 16])\n",
      "torch.Size([32, 1024, 8, 8])\n",
      "torch.Size([32, 512, 16, 16])\n",
      "torch.Size([32, 256, 32, 32])\n",
      "torch.Size([32, 128, 64, 64])\n",
      "torch.Size([32, 64, 128, 128])\n"
     ]
    },
    {
     "name": "stderr",
     "output_type": "stream",
     "text": [
      " 17%|█▋        | 4/23 [02:17<10:51, 34.29s/it]"
     ]
    },
    {
     "name": "stdout",
     "output_type": "stream",
     "text": [
      "torch.Size([32, 64, 128, 128])\n",
      "torch.Size([32, 128, 64, 64])\n",
      "torch.Size([32, 256, 32, 32])\n",
      "torch.Size([32, 512, 16, 16])\n",
      "torch.Size([32, 1024, 8, 8])\n",
      "torch.Size([32, 512, 16, 16])\n",
      "torch.Size([32, 256, 32, 32])\n",
      "torch.Size([32, 128, 64, 64])\n",
      "torch.Size([32, 64, 128, 128])\n"
     ]
    },
    {
     "name": "stderr",
     "output_type": "stream",
     "text": [
      " 22%|██▏       | 5/23 [02:50<10:08, 33.81s/it]"
     ]
    },
    {
     "name": "stdout",
     "output_type": "stream",
     "text": [
      "torch.Size([32, 64, 128, 128])\n",
      "torch.Size([32, 128, 64, 64])\n",
      "torch.Size([32, 256, 32, 32])\n",
      "torch.Size([32, 512, 16, 16])\n",
      "torch.Size([32, 1024, 8, 8])\n",
      "torch.Size([32, 512, 16, 16])\n",
      "torch.Size([32, 256, 32, 32])\n",
      "torch.Size([32, 128, 64, 64])\n",
      "torch.Size([32, 64, 128, 128])\n"
     ]
    },
    {
     "name": "stderr",
     "output_type": "stream",
     "text": [
      " 26%|██▌       | 6/23 [03:22<09:28, 33.44s/it]"
     ]
    },
    {
     "name": "stdout",
     "output_type": "stream",
     "text": [
      "torch.Size([32, 64, 128, 128])\n",
      "torch.Size([32, 128, 64, 64])\n",
      "torch.Size([32, 256, 32, 32])\n",
      "torch.Size([32, 512, 16, 16])\n",
      "torch.Size([32, 1024, 8, 8])\n",
      "torch.Size([32, 512, 16, 16])\n",
      "torch.Size([32, 256, 32, 32])\n",
      "torch.Size([32, 128, 64, 64])\n",
      "torch.Size([32, 64, 128, 128])\n"
     ]
    },
    {
     "name": "stderr",
     "output_type": "stream",
     "text": [
      " 30%|███       | 7/23 [03:56<08:55, 33.47s/it]"
     ]
    },
    {
     "name": "stdout",
     "output_type": "stream",
     "text": [
      "torch.Size([32, 64, 128, 128])\n",
      "torch.Size([32, 128, 64, 64])\n",
      "torch.Size([32, 256, 32, 32])\n",
      "torch.Size([32, 512, 16, 16])\n",
      "torch.Size([32, 1024, 8, 8])\n",
      "torch.Size([32, 512, 16, 16])\n",
      "torch.Size([32, 256, 32, 32])\n",
      "torch.Size([32, 128, 64, 64])\n",
      "torch.Size([32, 64, 128, 128])\n"
     ]
    },
    {
     "name": "stderr",
     "output_type": "stream",
     "text": [
      " 35%|███▍      | 8/23 [04:30<08:26, 33.76s/it]"
     ]
    },
    {
     "name": "stdout",
     "output_type": "stream",
     "text": [
      "torch.Size([32, 64, 128, 128])\n",
      "torch.Size([32, 128, 64, 64])\n",
      "torch.Size([32, 256, 32, 32])\n",
      "torch.Size([32, 512, 16, 16])\n",
      "torch.Size([32, 1024, 8, 8])\n",
      "torch.Size([32, 512, 16, 16])\n",
      "torch.Size([32, 256, 32, 32])\n",
      "torch.Size([32, 128, 64, 64])\n",
      "torch.Size([32, 64, 128, 128])\n"
     ]
    },
    {
     "name": "stderr",
     "output_type": "stream",
     "text": [
      " 39%|███▉      | 9/23 [05:05<07:56, 34.01s/it]"
     ]
    },
    {
     "name": "stdout",
     "output_type": "stream",
     "text": [
      "torch.Size([32, 64, 128, 128])\n",
      "torch.Size([32, 128, 64, 64])\n",
      "torch.Size([32, 256, 32, 32])\n",
      "torch.Size([32, 512, 16, 16])\n",
      "torch.Size([32, 1024, 8, 8])\n",
      "torch.Size([32, 512, 16, 16])\n",
      "torch.Size([32, 256, 32, 32])\n",
      "torch.Size([32, 128, 64, 64])\n",
      "torch.Size([32, 64, 128, 128])\n"
     ]
    },
    {
     "name": "stderr",
     "output_type": "stream",
     "text": [
      " 43%|████▎     | 10/23 [06:26<10:29, 48.39s/it]"
     ]
    },
    {
     "name": "stdout",
     "output_type": "stream",
     "text": [
      "torch.Size([32, 64, 128, 128])\n",
      "torch.Size([32, 128, 64, 64])\n",
      "torch.Size([32, 256, 32, 32])\n",
      "torch.Size([32, 512, 16, 16])\n",
      "torch.Size([32, 1024, 8, 8])\n",
      "torch.Size([32, 512, 16, 16])\n",
      "torch.Size([32, 256, 32, 32])\n",
      "torch.Size([32, 128, 64, 64])\n",
      "torch.Size([32, 64, 128, 128])\n"
     ]
    },
    {
     "name": "stderr",
     "output_type": "stream",
     "text": [
      " 48%|████▊     | 11/23 [07:39<11:11, 55.92s/it]"
     ]
    },
    {
     "name": "stdout",
     "output_type": "stream",
     "text": [
      "torch.Size([32, 64, 128, 128])\n",
      "torch.Size([32, 128, 64, 64])\n",
      "torch.Size([32, 256, 32, 32])\n",
      "torch.Size([32, 512, 16, 16])\n",
      "torch.Size([32, 1024, 8, 8])\n",
      "torch.Size([32, 512, 16, 16])\n",
      "torch.Size([32, 256, 32, 32])\n",
      "torch.Size([32, 128, 64, 64])\n",
      "torch.Size([32, 64, 128, 128])\n"
     ]
    },
    {
     "name": "stderr",
     "output_type": "stream",
     "text": [
      " 52%|█████▏    | 12/23 [09:10<12:14, 66.74s/it]"
     ]
    },
    {
     "name": "stdout",
     "output_type": "stream",
     "text": [
      "torch.Size([32, 64, 128, 128])\n",
      "torch.Size([32, 128, 64, 64])\n",
      "torch.Size([32, 256, 32, 32])\n",
      "torch.Size([32, 512, 16, 16])\n",
      "torch.Size([32, 1024, 8, 8])\n",
      "torch.Size([32, 512, 16, 16])\n",
      "torch.Size([32, 256, 32, 32])\n",
      "torch.Size([32, 128, 64, 64])\n",
      "torch.Size([32, 64, 128, 128])\n"
     ]
    },
    {
     "name": "stderr",
     "output_type": "stream",
     "text": [
      " 57%|█████▋    | 13/23 [10:42<12:22, 74.27s/it]"
     ]
    },
    {
     "name": "stdout",
     "output_type": "stream",
     "text": [
      "torch.Size([32, 64, 128, 128])\n",
      "torch.Size([32, 128, 64, 64])\n",
      "torch.Size([32, 256, 32, 32])\n",
      "torch.Size([32, 512, 16, 16])\n",
      "torch.Size([32, 1024, 8, 8])\n",
      "torch.Size([32, 512, 16, 16])\n",
      "torch.Size([32, 256, 32, 32])\n",
      "torch.Size([32, 128, 64, 64])\n",
      "torch.Size([32, 64, 128, 128])\n"
     ]
    },
    {
     "name": "stderr",
     "output_type": "stream",
     "text": [
      " 61%|██████    | 14/23 [12:14<11:56, 79.60s/it]"
     ]
    },
    {
     "name": "stdout",
     "output_type": "stream",
     "text": [
      "torch.Size([32, 64, 128, 128])\n",
      "torch.Size([32, 128, 64, 64])\n",
      "torch.Size([32, 256, 32, 32])\n",
      "torch.Size([32, 512, 16, 16])\n",
      "torch.Size([32, 1024, 8, 8])\n",
      "torch.Size([32, 512, 16, 16])\n",
      "torch.Size([32, 256, 32, 32])\n",
      "torch.Size([32, 128, 64, 64])\n",
      "torch.Size([32, 64, 128, 128])\n"
     ]
    },
    {
     "name": "stderr",
     "output_type": "stream",
     "text": [
      " 65%|██████▌   | 15/23 [13:37<10:45, 80.63s/it]"
     ]
    },
    {
     "name": "stdout",
     "output_type": "stream",
     "text": [
      "torch.Size([32, 64, 128, 128])\n",
      "torch.Size([32, 128, 64, 64])\n",
      "torch.Size([32, 256, 32, 32])\n",
      "torch.Size([32, 512, 16, 16])\n",
      "torch.Size([32, 1024, 8, 8])\n",
      "torch.Size([32, 512, 16, 16])\n",
      "torch.Size([32, 256, 32, 32])\n",
      "torch.Size([32, 128, 64, 64])\n",
      "torch.Size([32, 64, 128, 128])\n"
     ]
    },
    {
     "name": "stderr",
     "output_type": "stream",
     "text": [
      " 70%|██████▉   | 16/23 [15:11<09:53, 84.82s/it]"
     ]
    },
    {
     "name": "stdout",
     "output_type": "stream",
     "text": [
      "torch.Size([32, 64, 128, 128])\n",
      "torch.Size([32, 128, 64, 64])\n",
      "torch.Size([32, 256, 32, 32])\n",
      "torch.Size([32, 512, 16, 16])\n",
      "torch.Size([32, 1024, 8, 8])\n",
      "torch.Size([32, 512, 16, 16])\n",
      "torch.Size([32, 256, 32, 32])\n",
      "torch.Size([32, 128, 64, 64])\n",
      "torch.Size([32, 64, 128, 128])\n"
     ]
    },
    {
     "name": "stderr",
     "output_type": "stream",
     "text": [
      " 74%|███████▍  | 17/23 [16:45<08:45, 87.52s/it]"
     ]
    },
    {
     "name": "stdout",
     "output_type": "stream",
     "text": [
      "torch.Size([32, 64, 128, 128])\n",
      "torch.Size([32, 128, 64, 64])\n",
      "torch.Size([32, 256, 32, 32])\n",
      "torch.Size([32, 512, 16, 16])\n",
      "torch.Size([32, 1024, 8, 8])\n",
      "torch.Size([32, 512, 16, 16])\n",
      "torch.Size([32, 256, 32, 32])\n",
      "torch.Size([32, 128, 64, 64])\n",
      "torch.Size([32, 64, 128, 128])\n"
     ]
    },
    {
     "name": "stderr",
     "output_type": "stream",
     "text": [
      " 78%|███████▊  | 18/23 [18:18<07:26, 89.23s/it]"
     ]
    },
    {
     "name": "stdout",
     "output_type": "stream",
     "text": [
      "torch.Size([32, 64, 128, 128])\n",
      "torch.Size([32, 128, 64, 64])\n",
      "torch.Size([32, 256, 32, 32])\n",
      "torch.Size([32, 512, 16, 16])\n",
      "torch.Size([32, 1024, 8, 8])\n",
      "torch.Size([32, 512, 16, 16])\n",
      "torch.Size([32, 256, 32, 32])\n",
      "torch.Size([32, 128, 64, 64])\n",
      "torch.Size([32, 64, 128, 128])\n"
     ]
    },
    {
     "name": "stderr",
     "output_type": "stream",
     "text": [
      " 83%|████████▎ | 19/23 [19:55<06:05, 91.49s/it]"
     ]
    },
    {
     "name": "stdout",
     "output_type": "stream",
     "text": [
      "torch.Size([32, 64, 128, 128])\n",
      "torch.Size([32, 128, 64, 64])\n",
      "torch.Size([32, 256, 32, 32])\n",
      "torch.Size([32, 512, 16, 16])\n",
      "torch.Size([32, 1024, 8, 8])\n",
      "torch.Size([32, 512, 16, 16])\n",
      "torch.Size([32, 256, 32, 32])\n",
      "torch.Size([32, 128, 64, 64])\n",
      "torch.Size([32, 64, 128, 128])\n"
     ]
    },
    {
     "name": "stderr",
     "output_type": "stream",
     "text": [
      " 87%|████████▋ | 20/23 [21:05<04:15, 85.20s/it]"
     ]
    },
    {
     "name": "stdout",
     "output_type": "stream",
     "text": [
      "torch.Size([32, 64, 128, 128])\n",
      "torch.Size([32, 128, 64, 64])\n",
      "torch.Size([32, 256, 32, 32])\n",
      "torch.Size([32, 512, 16, 16])\n",
      "torch.Size([32, 1024, 8, 8])\n",
      "torch.Size([32, 512, 16, 16])\n",
      "torch.Size([32, 256, 32, 32])\n",
      "torch.Size([32, 128, 64, 64])\n",
      "torch.Size([32, 64, 128, 128])\n"
     ]
    },
    {
     "name": "stderr",
     "output_type": "stream",
     "text": [
      " 91%|█████████▏| 21/23 [21:43<02:22, 71.04s/it]"
     ]
    },
    {
     "name": "stdout",
     "output_type": "stream",
     "text": [
      "torch.Size([32, 64, 128, 128])\n",
      "torch.Size([32, 128, 64, 64])\n",
      "torch.Size([32, 256, 32, 32])\n",
      "torch.Size([32, 512, 16, 16])\n",
      "torch.Size([32, 1024, 8, 8])\n",
      "torch.Size([32, 512, 16, 16])\n",
      "torch.Size([32, 256, 32, 32])\n",
      "torch.Size([32, 128, 64, 64])\n",
      "torch.Size([32, 64, 128, 128])\n"
     ]
    },
    {
     "name": "stderr",
     "output_type": "stream",
     "text": [
      " 96%|█████████▌| 22/23 [22:21<01:00, 60.98s/it]"
     ]
    },
    {
     "name": "stdout",
     "output_type": "stream",
     "text": [
      "torch.Size([16, 64, 128, 128])\n",
      "torch.Size([16, 128, 64, 64])\n",
      "torch.Size([16, 256, 32, 32])\n",
      "torch.Size([16, 512, 16, 16])\n",
      "torch.Size([16, 1024, 8, 8])\n",
      "torch.Size([16, 512, 16, 16])\n",
      "torch.Size([16, 256, 32, 32])\n",
      "torch.Size([16, 128, 64, 64])\n",
      "torch.Size([16, 64, 128, 128])\n"
     ]
    },
    {
     "name": "stderr",
     "output_type": "stream",
     "text": [
      "100%|██████████| 23/23 [22:40<00:00, 59.15s/it]\n",
      "  0%|          | 0/2 [00:00<?, ?it/s]"
     ]
    },
    {
     "name": "stdout",
     "output_type": "stream",
     "text": [
      "torch.Size([32, 64, 128, 128])\n",
      "torch.Size([32, 128, 64, 64])\n",
      "torch.Size([32, 256, 32, 32])\n",
      "torch.Size([32, 512, 16, 16])\n",
      "torch.Size([32, 1024, 8, 8])\n",
      "torch.Size([32, 512, 16, 16])\n",
      "torch.Size([32, 256, 32, 32])\n",
      "torch.Size([32, 128, 64, 64])\n"
     ]
    },
    {
     "name": "stderr",
     "output_type": "stream",
     "text": [
      " 50%|█████     | 1/2 [00:13<00:13, 13.08s/it]"
     ]
    },
    {
     "name": "stdout",
     "output_type": "stream",
     "text": [
      "torch.Size([32, 64, 128, 128])\n",
      "torch.Size([28, 64, 128, 128])\n",
      "torch.Size([28, 128, 64, 64])\n",
      "torch.Size([28, 256, 32, 32])\n",
      "torch.Size([28, 512, 16, 16])\n",
      "torch.Size([28, 1024, 8, 8])\n",
      "torch.Size([28, 512, 16, 16])\n",
      "torch.Size([28, 256, 32, 32])\n",
      "torch.Size([28, 128, 64, 64])\n"
     ]
    },
    {
     "name": "stderr",
     "output_type": "stream",
     "text": [
      "100%|██████████| 2/2 [00:25<00:00, 12.66s/it]\n"
     ]
    },
    {
     "name": "stdout",
     "output_type": "stream",
     "text": [
      "torch.Size([28, 64, 128, 128])\n",
      "Train Loss: 0.6284 | Val Loss: 0.6224\n",
      "\n",
      "Epoch 2/20\n"
     ]
    },
    {
     "name": "stderr",
     "output_type": "stream",
     "text": [
      "  0%|          | 0/23 [00:00<?, ?it/s]"
     ]
    },
    {
     "name": "stdout",
     "output_type": "stream",
     "text": [
      "torch.Size([32, 64, 128, 128])\n",
      "torch.Size([32, 128, 64, 64])\n",
      "torch.Size([32, 256, 32, 32])\n",
      "torch.Size([32, 512, 16, 16])\n",
      "torch.Size([32, 1024, 8, 8])\n",
      "torch.Size([32, 512, 16, 16])\n",
      "torch.Size([32, 256, 32, 32])\n",
      "torch.Size([32, 128, 64, 64])\n",
      "torch.Size([32, 64, 128, 128])\n"
     ]
    },
    {
     "name": "stderr",
     "output_type": "stream",
     "text": [
      "  4%|▍         | 1/23 [00:35<13:08, 35.82s/it]"
     ]
    },
    {
     "name": "stdout",
     "output_type": "stream",
     "text": [
      "torch.Size([32, 64, 128, 128])\n",
      "torch.Size([32, 128, 64, 64])\n",
      "torch.Size([32, 256, 32, 32])\n",
      "torch.Size([32, 512, 16, 16])\n",
      "torch.Size([32, 1024, 8, 8])\n",
      "torch.Size([32, 512, 16, 16])\n",
      "torch.Size([32, 256, 32, 32])\n",
      "torch.Size([32, 128, 64, 64])\n",
      "torch.Size([32, 64, 128, 128])\n"
     ]
    },
    {
     "name": "stderr",
     "output_type": "stream",
     "text": [
      "  9%|▊         | 2/23 [01:10<12:23, 35.39s/it]"
     ]
    },
    {
     "name": "stdout",
     "output_type": "stream",
     "text": [
      "torch.Size([32, 64, 128, 128])\n",
      "torch.Size([32, 128, 64, 64])\n",
      "torch.Size([32, 256, 32, 32])\n",
      "torch.Size([32, 512, 16, 16])\n",
      "torch.Size([32, 1024, 8, 8])\n",
      "torch.Size([32, 512, 16, 16])\n",
      "torch.Size([32, 256, 32, 32])\n",
      "torch.Size([32, 128, 64, 64])\n",
      "torch.Size([32, 64, 128, 128])\n"
     ]
    },
    {
     "name": "stderr",
     "output_type": "stream",
     "text": [
      " 13%|█▎        | 3/23 [01:41<10:59, 33.00s/it]"
     ]
    },
    {
     "name": "stdout",
     "output_type": "stream",
     "text": [
      "torch.Size([32, 64, 128, 128])\n",
      "torch.Size([32, 128, 64, 64])\n",
      "torch.Size([32, 256, 32, 32])\n",
      "torch.Size([32, 512, 16, 16])\n",
      "torch.Size([32, 1024, 8, 8])\n",
      "torch.Size([32, 512, 16, 16])\n",
      "torch.Size([32, 256, 32, 32])\n",
      "torch.Size([32, 128, 64, 64])\n",
      "torch.Size([32, 64, 128, 128])\n"
     ]
    },
    {
     "name": "stderr",
     "output_type": "stream",
     "text": [
      " 17%|█▋        | 4/23 [02:11<10:07, 32.00s/it]"
     ]
    },
    {
     "name": "stdout",
     "output_type": "stream",
     "text": [
      "torch.Size([32, 64, 128, 128])\n",
      "torch.Size([32, 128, 64, 64])\n",
      "torch.Size([32, 256, 32, 32])\n",
      "torch.Size([32, 512, 16, 16])\n",
      "torch.Size([32, 1024, 8, 8])\n",
      "torch.Size([32, 512, 16, 16])\n",
      "torch.Size([32, 256, 32, 32])\n",
      "torch.Size([32, 128, 64, 64])\n",
      "torch.Size([32, 64, 128, 128])\n"
     ]
    },
    {
     "name": "stderr",
     "output_type": "stream",
     "text": [
      " 22%|██▏       | 5/23 [02:41<09:25, 31.43s/it]"
     ]
    },
    {
     "name": "stdout",
     "output_type": "stream",
     "text": [
      "torch.Size([32, 64, 128, 128])\n",
      "torch.Size([32, 128, 64, 64])\n",
      "torch.Size([32, 256, 32, 32])\n",
      "torch.Size([32, 512, 16, 16])\n",
      "torch.Size([32, 1024, 8, 8])\n",
      "torch.Size([32, 512, 16, 16])\n",
      "torch.Size([32, 256, 32, 32])\n",
      "torch.Size([32, 128, 64, 64])\n",
      "torch.Size([32, 64, 128, 128])\n"
     ]
    },
    {
     "name": "stderr",
     "output_type": "stream",
     "text": [
      " 26%|██▌       | 6/23 [03:12<08:46, 30.97s/it]"
     ]
    },
    {
     "name": "stdout",
     "output_type": "stream",
     "text": [
      "torch.Size([32, 64, 128, 128])\n",
      "torch.Size([32, 128, 64, 64])\n",
      "torch.Size([32, 256, 32, 32])\n",
      "torch.Size([32, 512, 16, 16])\n",
      "torch.Size([32, 1024, 8, 8])\n",
      "torch.Size([32, 512, 16, 16])\n",
      "torch.Size([32, 256, 32, 32])\n",
      "torch.Size([32, 128, 64, 64])\n",
      "torch.Size([32, 64, 128, 128])\n"
     ]
    },
    {
     "name": "stderr",
     "output_type": "stream",
     "text": [
      " 30%|███       | 7/23 [03:42<08:10, 30.68s/it]"
     ]
    },
    {
     "name": "stdout",
     "output_type": "stream",
     "text": [
      "torch.Size([32, 64, 128, 128])\n",
      "torch.Size([32, 128, 64, 64])\n",
      "torch.Size([32, 256, 32, 32])\n",
      "torch.Size([32, 512, 16, 16])\n",
      "torch.Size([32, 1024, 8, 8])\n",
      "torch.Size([32, 512, 16, 16])\n",
      "torch.Size([32, 256, 32, 32])\n",
      "torch.Size([32, 128, 64, 64])\n",
      "torch.Size([32, 64, 128, 128])\n"
     ]
    },
    {
     "name": "stderr",
     "output_type": "stream",
     "text": [
      " 35%|███▍      | 8/23 [04:12<07:38, 30.56s/it]"
     ]
    },
    {
     "name": "stdout",
     "output_type": "stream",
     "text": [
      "torch.Size([32, 64, 128, 128])\n",
      "torch.Size([32, 128, 64, 64])\n",
      "torch.Size([32, 256, 32, 32])\n",
      "torch.Size([32, 512, 16, 16])\n",
      "torch.Size([32, 1024, 8, 8])\n",
      "torch.Size([32, 512, 16, 16])\n",
      "torch.Size([32, 256, 32, 32])\n",
      "torch.Size([32, 128, 64, 64])\n",
      "torch.Size([32, 64, 128, 128])\n"
     ]
    },
    {
     "name": "stderr",
     "output_type": "stream",
     "text": [
      " 39%|███▉      | 9/23 [04:42<07:05, 30.43s/it]"
     ]
    },
    {
     "name": "stdout",
     "output_type": "stream",
     "text": [
      "torch.Size([32, 64, 128, 128])\n",
      "torch.Size([32, 128, 64, 64])\n",
      "torch.Size([32, 256, 32, 32])\n",
      "torch.Size([32, 512, 16, 16])\n",
      "torch.Size([32, 1024, 8, 8])\n",
      "torch.Size([32, 512, 16, 16])\n",
      "torch.Size([32, 256, 32, 32])\n",
      "torch.Size([32, 128, 64, 64])\n",
      "torch.Size([32, 64, 128, 128])\n"
     ]
    },
    {
     "name": "stderr",
     "output_type": "stream",
     "text": [
      " 43%|████▎     | 10/23 [05:14<06:39, 30.76s/it]"
     ]
    },
    {
     "name": "stdout",
     "output_type": "stream",
     "text": [
      "torch.Size([32, 64, 128, 128])\n",
      "torch.Size([32, 128, 64, 64])\n",
      "torch.Size([32, 256, 32, 32])\n",
      "torch.Size([32, 512, 16, 16])\n",
      "torch.Size([32, 1024, 8, 8])\n",
      "torch.Size([32, 512, 16, 16])\n",
      "torch.Size([32, 256, 32, 32])\n",
      "torch.Size([32, 128, 64, 64])\n",
      "torch.Size([32, 64, 128, 128])\n"
     ]
    },
    {
     "name": "stderr",
     "output_type": "stream",
     "text": [
      " 48%|████▊     | 11/23 [05:44<06:08, 30.69s/it]"
     ]
    },
    {
     "name": "stdout",
     "output_type": "stream",
     "text": [
      "torch.Size([32, 64, 128, 128])\n",
      "torch.Size([32, 128, 64, 64])\n",
      "torch.Size([32, 256, 32, 32])\n",
      "torch.Size([32, 512, 16, 16])\n",
      "torch.Size([32, 1024, 8, 8])\n",
      "torch.Size([32, 512, 16, 16])\n",
      "torch.Size([32, 256, 32, 32])\n",
      "torch.Size([32, 128, 64, 64])\n",
      "torch.Size([32, 64, 128, 128])\n"
     ]
    },
    {
     "name": "stderr",
     "output_type": "stream",
     "text": [
      " 52%|█████▏    | 12/23 [06:14<05:36, 30.59s/it]"
     ]
    },
    {
     "name": "stdout",
     "output_type": "stream",
     "text": [
      "torch.Size([32, 64, 128, 128])\n",
      "torch.Size([32, 128, 64, 64])\n",
      "torch.Size([32, 256, 32, 32])\n",
      "torch.Size([32, 512, 16, 16])\n",
      "torch.Size([32, 1024, 8, 8])\n",
      "torch.Size([32, 512, 16, 16])\n",
      "torch.Size([32, 256, 32, 32])\n",
      "torch.Size([32, 128, 64, 64])\n",
      "torch.Size([32, 64, 128, 128])\n"
     ]
    },
    {
     "name": "stderr",
     "output_type": "stream",
     "text": [
      " 57%|█████▋    | 13/23 [06:44<05:04, 30.43s/it]"
     ]
    },
    {
     "name": "stdout",
     "output_type": "stream",
     "text": [
      "torch.Size([32, 64, 128, 128])\n",
      "torch.Size([32, 128, 64, 64])\n",
      "torch.Size([32, 256, 32, 32])\n",
      "torch.Size([32, 512, 16, 16])\n",
      "torch.Size([32, 1024, 8, 8])\n",
      "torch.Size([32, 512, 16, 16])\n",
      "torch.Size([32, 256, 32, 32])\n",
      "torch.Size([32, 128, 64, 64])\n",
      "torch.Size([32, 64, 128, 128])\n"
     ]
    },
    {
     "name": "stderr",
     "output_type": "stream",
     "text": [
      " 61%|██████    | 14/23 [07:15<04:32, 30.32s/it]"
     ]
    },
    {
     "name": "stdout",
     "output_type": "stream",
     "text": [
      "torch.Size([32, 64, 128, 128])\n",
      "torch.Size([32, 128, 64, 64])\n",
      "torch.Size([32, 256, 32, 32])\n",
      "torch.Size([32, 512, 16, 16])\n",
      "torch.Size([32, 1024, 8, 8])\n",
      "torch.Size([32, 512, 16, 16])\n",
      "torch.Size([32, 256, 32, 32])\n",
      "torch.Size([32, 128, 64, 64])\n",
      "torch.Size([32, 64, 128, 128])\n"
     ]
    },
    {
     "name": "stderr",
     "output_type": "stream",
     "text": [
      " 65%|██████▌   | 15/23 [07:44<04:01, 30.20s/it]"
     ]
    },
    {
     "name": "stdout",
     "output_type": "stream",
     "text": [
      "torch.Size([32, 64, 128, 128])\n",
      "torch.Size([32, 128, 64, 64])\n",
      "torch.Size([32, 256, 32, 32])\n",
      "torch.Size([32, 512, 16, 16])\n",
      "torch.Size([32, 1024, 8, 8])\n",
      "torch.Size([32, 512, 16, 16])\n",
      "torch.Size([32, 256, 32, 32])\n",
      "torch.Size([32, 128, 64, 64])\n",
      "torch.Size([32, 64, 128, 128])\n"
     ]
    },
    {
     "name": "stderr",
     "output_type": "stream",
     "text": [
      " 70%|██████▉   | 16/23 [08:14<03:30, 30.12s/it]"
     ]
    },
    {
     "name": "stdout",
     "output_type": "stream",
     "text": [
      "torch.Size([32, 64, 128, 128])\n",
      "torch.Size([32, 128, 64, 64])\n",
      "torch.Size([32, 256, 32, 32])\n",
      "torch.Size([32, 512, 16, 16])\n",
      "torch.Size([32, 1024, 8, 8])\n",
      "torch.Size([32, 512, 16, 16])\n",
      "torch.Size([32, 256, 32, 32])\n",
      "torch.Size([32, 128, 64, 64])\n",
      "torch.Size([32, 64, 128, 128])\n"
     ]
    },
    {
     "name": "stderr",
     "output_type": "stream",
     "text": [
      " 74%|███████▍  | 17/23 [08:44<03:00, 30.06s/it]"
     ]
    },
    {
     "name": "stdout",
     "output_type": "stream",
     "text": [
      "torch.Size([32, 64, 128, 128])\n",
      "torch.Size([32, 128, 64, 64])\n",
      "torch.Size([32, 256, 32, 32])\n",
      "torch.Size([32, 512, 16, 16])\n",
      "torch.Size([32, 1024, 8, 8])\n",
      "torch.Size([32, 512, 16, 16])\n",
      "torch.Size([32, 256, 32, 32])\n",
      "torch.Size([32, 128, 64, 64])\n",
      "torch.Size([32, 64, 128, 128])\n"
     ]
    },
    {
     "name": "stderr",
     "output_type": "stream",
     "text": [
      " 78%|███████▊  | 18/23 [09:16<02:33, 30.68s/it]"
     ]
    },
    {
     "name": "stdout",
     "output_type": "stream",
     "text": [
      "torch.Size([32, 64, 128, 128])\n",
      "torch.Size([32, 128, 64, 64])\n",
      "torch.Size([32, 256, 32, 32])\n",
      "torch.Size([32, 512, 16, 16])\n",
      "torch.Size([32, 1024, 8, 8])\n",
      "torch.Size([32, 512, 16, 16])\n",
      "torch.Size([32, 256, 32, 32])\n",
      "torch.Size([32, 128, 64, 64])\n",
      "torch.Size([32, 64, 128, 128])\n"
     ]
    },
    {
     "name": "stderr",
     "output_type": "stream",
     "text": [
      " 83%|████████▎ | 19/23 [10:11<02:30, 37.74s/it]"
     ]
    },
    {
     "name": "stdout",
     "output_type": "stream",
     "text": [
      "torch.Size([32, 64, 128, 128])\n",
      "torch.Size([32, 128, 64, 64])\n",
      "torch.Size([32, 256, 32, 32])\n",
      "torch.Size([32, 512, 16, 16])\n",
      "torch.Size([32, 1024, 8, 8])\n",
      "torch.Size([32, 512, 16, 16])\n",
      "torch.Size([32, 256, 32, 32])\n",
      "torch.Size([32, 128, 64, 64])\n",
      "torch.Size([32, 64, 128, 128])\n"
     ]
    },
    {
     "name": "stderr",
     "output_type": "stream",
     "text": [
      " 87%|████████▋ | 20/23 [11:48<02:47, 55.73s/it]"
     ]
    },
    {
     "name": "stdout",
     "output_type": "stream",
     "text": [
      "torch.Size([32, 64, 128, 128])\n",
      "torch.Size([32, 128, 64, 64])\n",
      "torch.Size([32, 256, 32, 32])\n",
      "torch.Size([32, 512, 16, 16])\n",
      "torch.Size([32, 1024, 8, 8])\n",
      "torch.Size([32, 512, 16, 16])\n",
      "torch.Size([32, 256, 32, 32])\n",
      "torch.Size([32, 128, 64, 64])\n",
      "torch.Size([32, 64, 128, 128])\n"
     ]
    },
    {
     "name": "stderr",
     "output_type": "stream",
     "text": [
      " 91%|█████████▏| 21/23 [13:27<02:17, 68.64s/it]"
     ]
    },
    {
     "name": "stdout",
     "output_type": "stream",
     "text": [
      "torch.Size([32, 64, 128, 128])\n",
      "torch.Size([32, 128, 64, 64])\n",
      "torch.Size([32, 256, 32, 32])\n",
      "torch.Size([32, 512, 16, 16])\n",
      "torch.Size([32, 1024, 8, 8])\n",
      "torch.Size([32, 512, 16, 16])\n",
      "torch.Size([32, 256, 32, 32])\n",
      "torch.Size([32, 128, 64, 64])\n",
      "torch.Size([32, 64, 128, 128])\n"
     ]
    },
    {
     "name": "stderr",
     "output_type": "stream",
     "text": [
      " 96%|█████████▌| 22/23 [15:07<01:17, 77.95s/it]"
     ]
    },
    {
     "name": "stdout",
     "output_type": "stream",
     "text": [
      "torch.Size([16, 64, 128, 128])\n",
      "torch.Size([16, 128, 64, 64])\n",
      "torch.Size([16, 256, 32, 32])\n",
      "torch.Size([16, 512, 16, 16])\n",
      "torch.Size([16, 1024, 8, 8])\n",
      "torch.Size([16, 512, 16, 16])\n",
      "torch.Size([16, 256, 32, 32])\n",
      "torch.Size([16, 128, 64, 64])\n",
      "torch.Size([16, 64, 128, 128])\n"
     ]
    },
    {
     "name": "stderr",
     "output_type": "stream",
     "text": [
      "100%|██████████| 23/23 [15:57<00:00, 41.65s/it]\n",
      "  0%|          | 0/2 [00:00<?, ?it/s]"
     ]
    },
    {
     "name": "stdout",
     "output_type": "stream",
     "text": [
      "torch.Size([32, 64, 128, 128])\n",
      "torch.Size([32, 128, 64, 64])\n",
      "torch.Size([32, 256, 32, 32])\n",
      "torch.Size([32, 512, 16, 16])\n",
      "torch.Size([32, 1024, 8, 8])\n",
      "torch.Size([32, 512, 16, 16])\n",
      "torch.Size([32, 256, 32, 32])\n",
      "torch.Size([32, 128, 64, 64])\n",
      "torch.Size([32, 64, 128, 128])\n"
     ]
    },
    {
     "name": "stderr",
     "output_type": "stream",
     "text": [
      " 50%|█████     | 1/2 [00:33<00:33, 33.27s/it]"
     ]
    },
    {
     "name": "stdout",
     "output_type": "stream",
     "text": [
      "torch.Size([28, 64, 128, 128])\n",
      "torch.Size([28, 128, 64, 64])\n",
      "torch.Size([28, 256, 32, 32])\n",
      "torch.Size([28, 512, 16, 16])\n",
      "torch.Size([28, 1024, 8, 8])\n",
      "torch.Size([28, 512, 16, 16])\n",
      "torch.Size([28, 256, 32, 32])\n",
      "torch.Size([28, 128, 64, 64])\n"
     ]
    },
    {
     "name": "stderr",
     "output_type": "stream",
     "text": [
      "100%|██████████| 2/2 [01:01<00:00, 30.67s/it]\n"
     ]
    },
    {
     "name": "stdout",
     "output_type": "stream",
     "text": [
      "torch.Size([28, 64, 128, 128])\n",
      "Train Loss: 0.5010 | Val Loss: 0.5404\n",
      "\n",
      "Epoch 3/20\n"
     ]
    },
    {
     "name": "stderr",
     "output_type": "stream",
     "text": [
      "  0%|          | 0/23 [00:00<?, ?it/s]"
     ]
    },
    {
     "name": "stdout",
     "output_type": "stream",
     "text": [
      "torch.Size([32, 64, 128, 128])\n",
      "torch.Size([32, 128, 64, 64])\n",
      "torch.Size([32, 256, 32, 32])\n",
      "torch.Size([32, 512, 16, 16])\n",
      "torch.Size([32, 1024, 8, 8])\n",
      "torch.Size([32, 512, 16, 16])\n",
      "torch.Size([32, 256, 32, 32])\n",
      "torch.Size([32, 128, 64, 64])\n",
      "torch.Size([32, 64, 128, 128])\n"
     ]
    },
    {
     "name": "stderr",
     "output_type": "stream",
     "text": [
      "  4%|▍         | 1/23 [01:39<36:23, 99.25s/it]"
     ]
    },
    {
     "name": "stdout",
     "output_type": "stream",
     "text": [
      "torch.Size([32, 64, 128, 128])\n",
      "torch.Size([32, 128, 64, 64])\n",
      "torch.Size([32, 256, 32, 32])\n",
      "torch.Size([32, 512, 16, 16])\n",
      "torch.Size([32, 1024, 8, 8])\n",
      "torch.Size([32, 512, 16, 16])\n",
      "torch.Size([32, 256, 32, 32])\n",
      "torch.Size([32, 128, 64, 64])\n",
      "torch.Size([32, 64, 128, 128])\n"
     ]
    },
    {
     "name": "stderr",
     "output_type": "stream",
     "text": [
      "  9%|▊         | 2/23 [03:16<34:19, 98.05s/it]"
     ]
    },
    {
     "name": "stdout",
     "output_type": "stream",
     "text": [
      "torch.Size([32, 64, 128, 128])\n",
      "torch.Size([32, 128, 64, 64])\n",
      "torch.Size([32, 256, 32, 32])\n",
      "torch.Size([32, 512, 16, 16])\n",
      "torch.Size([32, 1024, 8, 8])\n",
      "torch.Size([32, 512, 16, 16])\n",
      "torch.Size([32, 256, 32, 32])\n",
      "torch.Size([32, 128, 64, 64])\n",
      "torch.Size([32, 64, 128, 128])\n"
     ]
    },
    {
     "name": "stderr",
     "output_type": "stream",
     "text": [
      " 13%|█▎        | 3/23 [04:53<32:35, 97.75s/it]"
     ]
    },
    {
     "name": "stdout",
     "output_type": "stream",
     "text": [
      "torch.Size([32, 64, 128, 128])\n",
      "torch.Size([32, 128, 64, 64])\n",
      "torch.Size([32, 256, 32, 32])\n",
      "torch.Size([32, 512, 16, 16])\n",
      "torch.Size([32, 1024, 8, 8])\n",
      "torch.Size([32, 512, 16, 16])\n",
      "torch.Size([32, 256, 32, 32])\n",
      "torch.Size([32, 128, 64, 64])\n",
      "torch.Size([32, 64, 128, 128])\n"
     ]
    },
    {
     "name": "stderr",
     "output_type": "stream",
     "text": [
      " 17%|█▋        | 4/23 [06:32<31:04, 98.15s/it]"
     ]
    },
    {
     "name": "stdout",
     "output_type": "stream",
     "text": [
      "torch.Size([32, 64, 128, 128])\n",
      "torch.Size([32, 128, 64, 64])\n",
      "torch.Size([32, 256, 32, 32])\n",
      "torch.Size([32, 512, 16, 16])\n",
      "torch.Size([32, 1024, 8, 8])\n",
      "torch.Size([32, 512, 16, 16])\n",
      "torch.Size([32, 256, 32, 32])\n",
      "torch.Size([32, 128, 64, 64])\n",
      "torch.Size([32, 64, 128, 128])\n"
     ]
    },
    {
     "name": "stderr",
     "output_type": "stream",
     "text": [
      " 22%|██▏       | 5/23 [08:08<29:14, 97.46s/it]"
     ]
    },
    {
     "name": "stdout",
     "output_type": "stream",
     "text": [
      "torch.Size([32, 64, 128, 128])\n",
      "torch.Size([32, 128, 64, 64])\n",
      "torch.Size([32, 256, 32, 32])\n",
      "torch.Size([32, 512, 16, 16])\n",
      "torch.Size([32, 1024, 8, 8])\n",
      "torch.Size([32, 512, 16, 16])\n",
      "torch.Size([32, 256, 32, 32])\n",
      "torch.Size([32, 128, 64, 64])\n",
      "torch.Size([32, 64, 128, 128])\n"
     ]
    },
    {
     "name": "stderr",
     "output_type": "stream",
     "text": [
      " 26%|██▌       | 6/23 [09:46<27:35, 97.37s/it]"
     ]
    },
    {
     "name": "stdout",
     "output_type": "stream",
     "text": [
      "torch.Size([32, 64, 128, 128])\n",
      "torch.Size([32, 128, 64, 64])\n",
      "torch.Size([32, 256, 32, 32])\n",
      "torch.Size([32, 512, 16, 16])\n",
      "torch.Size([32, 1024, 8, 8])\n",
      "torch.Size([32, 512, 16, 16])\n",
      "torch.Size([32, 256, 32, 32])\n",
      "torch.Size([32, 128, 64, 64])\n",
      "torch.Size([32, 64, 128, 128])\n"
     ]
    },
    {
     "name": "stderr",
     "output_type": "stream",
     "text": [
      " 30%|███       | 7/23 [11:22<25:52, 97.00s/it]"
     ]
    },
    {
     "name": "stdout",
     "output_type": "stream",
     "text": [
      "torch.Size([32, 64, 128, 128])\n",
      "torch.Size([32, 128, 64, 64])\n",
      "torch.Size([32, 256, 32, 32])\n",
      "torch.Size([32, 512, 16, 16])\n",
      "torch.Size([32, 1024, 8, 8])\n",
      "torch.Size([32, 512, 16, 16])\n",
      "torch.Size([32, 256, 32, 32])\n",
      "torch.Size([32, 128, 64, 64])\n",
      "torch.Size([32, 64, 128, 128])\n"
     ]
    },
    {
     "name": "stderr",
     "output_type": "stream",
     "text": [
      " 35%|███▍      | 8/23 [12:59<24:16, 97.08s/it]"
     ]
    },
    {
     "name": "stdout",
     "output_type": "stream",
     "text": [
      "torch.Size([32, 64, 128, 128])\n",
      "torch.Size([32, 128, 64, 64])\n",
      "torch.Size([32, 256, 32, 32])\n",
      "torch.Size([32, 512, 16, 16])\n",
      "torch.Size([32, 1024, 8, 8])\n",
      "torch.Size([32, 512, 16, 16])\n",
      "torch.Size([32, 256, 32, 32])\n",
      "torch.Size([32, 128, 64, 64])\n",
      "torch.Size([32, 64, 128, 128])\n"
     ]
    },
    {
     "name": "stderr",
     "output_type": "stream",
     "text": [
      " 39%|███▉      | 9/23 [14:36<22:36, 96.90s/it]"
     ]
    },
    {
     "name": "stdout",
     "output_type": "stream",
     "text": [
      "torch.Size([32, 64, 128, 128])\n",
      "torch.Size([32, 128, 64, 64])\n",
      "torch.Size([32, 256, 32, 32])\n",
      "torch.Size([32, 512, 16, 16])\n",
      "torch.Size([32, 1024, 8, 8])\n",
      "torch.Size([32, 512, 16, 16])\n",
      "torch.Size([32, 256, 32, 32])\n",
      "torch.Size([32, 128, 64, 64])\n",
      "torch.Size([32, 64, 128, 128])\n"
     ]
    },
    {
     "name": "stderr",
     "output_type": "stream",
     "text": [
      " 43%|████▎     | 10/23 [16:15<21:11, 97.79s/it]"
     ]
    },
    {
     "name": "stdout",
     "output_type": "stream",
     "text": [
      "torch.Size([32, 64, 128, 128])\n",
      "torch.Size([32, 128, 64, 64])\n",
      "torch.Size([32, 256, 32, 32])\n",
      "torch.Size([32, 512, 16, 16])\n",
      "torch.Size([32, 1024, 8, 8])\n",
      "torch.Size([32, 512, 16, 16])\n",
      "torch.Size([32, 256, 32, 32])\n",
      "torch.Size([32, 128, 64, 64])\n",
      "torch.Size([32, 64, 128, 128])\n"
     ]
    },
    {
     "name": "stderr",
     "output_type": "stream",
     "text": [
      " 48%|████▊     | 11/23 [17:56<19:44, 98.72s/it]"
     ]
    },
    {
     "name": "stdout",
     "output_type": "stream",
     "text": [
      "torch.Size([32, 64, 128, 128])\n",
      "torch.Size([32, 128, 64, 64])\n",
      "torch.Size([32, 256, 32, 32])\n",
      "torch.Size([32, 512, 16, 16])\n",
      "torch.Size([32, 1024, 8, 8])\n",
      "torch.Size([32, 512, 16, 16])\n",
      "torch.Size([32, 256, 32, 32])\n",
      "torch.Size([32, 128, 64, 64])\n",
      "torch.Size([32, 64, 128, 128])\n"
     ]
    },
    {
     "name": "stderr",
     "output_type": "stream",
     "text": [
      " 52%|█████▏    | 12/23 [19:35<18:05, 98.68s/it]"
     ]
    },
    {
     "name": "stdout",
     "output_type": "stream",
     "text": [
      "torch.Size([32, 64, 128, 128])\n",
      "torch.Size([32, 128, 64, 64])\n",
      "torch.Size([32, 256, 32, 32])\n",
      "torch.Size([32, 512, 16, 16])\n",
      "torch.Size([32, 1024, 8, 8])\n",
      "torch.Size([32, 512, 16, 16])\n",
      "torch.Size([32, 256, 32, 32])\n",
      "torch.Size([32, 128, 64, 64])\n",
      "torch.Size([32, 64, 128, 128])\n"
     ]
    },
    {
     "name": "stderr",
     "output_type": "stream",
     "text": [
      " 57%|█████▋    | 13/23 [21:07<16:07, 96.78s/it]"
     ]
    },
    {
     "name": "stdout",
     "output_type": "stream",
     "text": [
      "torch.Size([32, 64, 128, 128])\n",
      "torch.Size([32, 128, 64, 64])\n",
      "torch.Size([32, 256, 32, 32])\n",
      "torch.Size([32, 512, 16, 16])\n",
      "torch.Size([32, 1024, 8, 8])\n",
      "torch.Size([32, 512, 16, 16])\n",
      "torch.Size([32, 256, 32, 32])\n",
      "torch.Size([32, 128, 64, 64])\n",
      "torch.Size([32, 64, 128, 128])\n"
     ]
    },
    {
     "name": "stderr",
     "output_type": "stream",
     "text": [
      " 61%|██████    | 14/23 [22:42<14:24, 96.08s/it]"
     ]
    },
    {
     "name": "stdout",
     "output_type": "stream",
     "text": [
      "torch.Size([32, 64, 128, 128])\n",
      "torch.Size([32, 128, 64, 64])\n",
      "torch.Size([32, 256, 32, 32])\n",
      "torch.Size([32, 512, 16, 16])\n",
      "torch.Size([32, 1024, 8, 8])\n",
      "torch.Size([32, 512, 16, 16])\n",
      "torch.Size([32, 256, 32, 32])\n",
      "torch.Size([32, 128, 64, 64])\n",
      "torch.Size([32, 64, 128, 128])\n"
     ]
    },
    {
     "name": "stderr",
     "output_type": "stream",
     "text": [
      " 65%|██████▌   | 15/23 [24:16<12:44, 95.53s/it]"
     ]
    },
    {
     "name": "stdout",
     "output_type": "stream",
     "text": [
      "torch.Size([32, 64, 128, 128])\n",
      "torch.Size([32, 128, 64, 64])\n",
      "torch.Size([32, 256, 32, 32])\n",
      "torch.Size([32, 512, 16, 16])\n",
      "torch.Size([32, 1024, 8, 8])\n",
      "torch.Size([32, 512, 16, 16])\n",
      "torch.Size([32, 256, 32, 32])\n",
      "torch.Size([32, 128, 64, 64])\n",
      "torch.Size([32, 64, 128, 128])\n"
     ]
    },
    {
     "name": "stderr",
     "output_type": "stream",
     "text": [
      " 70%|██████▉   | 16/23 [25:52<11:08, 95.56s/it]"
     ]
    },
    {
     "name": "stdout",
     "output_type": "stream",
     "text": [
      "torch.Size([32, 64, 128, 128])\n",
      "torch.Size([32, 128, 64, 64])\n",
      "torch.Size([32, 256, 32, 32])\n",
      "torch.Size([32, 512, 16, 16])\n",
      "torch.Size([32, 1024, 8, 8])\n",
      "torch.Size([32, 512, 16, 16])\n",
      "torch.Size([32, 256, 32, 32])\n",
      "torch.Size([32, 128, 64, 64])\n",
      "torch.Size([32, 64, 128, 128])\n"
     ]
    },
    {
     "name": "stderr",
     "output_type": "stream",
     "text": [
      " 74%|███████▍  | 17/23 [27:26<09:32, 95.36s/it]"
     ]
    },
    {
     "name": "stdout",
     "output_type": "stream",
     "text": [
      "torch.Size([32, 64, 128, 128])\n",
      "torch.Size([32, 128, 64, 64])\n",
      "torch.Size([32, 256, 32, 32])\n",
      "torch.Size([32, 512, 16, 16])\n",
      "torch.Size([32, 1024, 8, 8])\n",
      "torch.Size([32, 512, 16, 16])\n",
      "torch.Size([32, 256, 32, 32])\n",
      "torch.Size([32, 128, 64, 64])\n",
      "torch.Size([32, 64, 128, 128])\n"
     ]
    },
    {
     "name": "stderr",
     "output_type": "stream",
     "text": [
      " 78%|███████▊  | 18/23 [28:34<07:14, 86.93s/it]"
     ]
    },
    {
     "name": "stdout",
     "output_type": "stream",
     "text": [
      "torch.Size([32, 64, 128, 128])\n",
      "torch.Size([32, 128, 64, 64])\n",
      "torch.Size([32, 256, 32, 32])\n",
      "torch.Size([32, 512, 16, 16])\n",
      "torch.Size([32, 1024, 8, 8])\n",
      "torch.Size([32, 512, 16, 16])\n",
      "torch.Size([32, 256, 32, 32])\n",
      "torch.Size([32, 128, 64, 64])\n",
      "torch.Size([32, 64, 128, 128])\n"
     ]
    },
    {
     "name": "stderr",
     "output_type": "stream",
     "text": [
      " 83%|████████▎ | 19/23 [29:06<04:42, 70.53s/it]"
     ]
    },
    {
     "name": "stdout",
     "output_type": "stream",
     "text": [
      "torch.Size([32, 64, 128, 128])\n",
      "torch.Size([32, 128, 64, 64])\n",
      "torch.Size([32, 256, 32, 32])\n",
      "torch.Size([32, 512, 16, 16])\n",
      "torch.Size([32, 1024, 8, 8])\n",
      "torch.Size([32, 512, 16, 16])\n",
      "torch.Size([32, 256, 32, 32])\n",
      "torch.Size([32, 128, 64, 64])\n",
      "torch.Size([32, 64, 128, 128])\n"
     ]
    },
    {
     "name": "stderr",
     "output_type": "stream",
     "text": [
      " 87%|████████▋ | 20/23 [29:39<02:57, 59.18s/it]"
     ]
    },
    {
     "name": "stdout",
     "output_type": "stream",
     "text": [
      "torch.Size([32, 64, 128, 128])\n",
      "torch.Size([32, 128, 64, 64])\n",
      "torch.Size([32, 256, 32, 32])\n",
      "torch.Size([32, 512, 16, 16])\n",
      "torch.Size([32, 1024, 8, 8])\n",
      "torch.Size([32, 512, 16, 16])\n",
      "torch.Size([32, 256, 32, 32])\n",
      "torch.Size([32, 128, 64, 64])\n",
      "torch.Size([32, 64, 128, 128])\n"
     ]
    },
    {
     "name": "stderr",
     "output_type": "stream",
     "text": [
      " 91%|█████████▏| 21/23 [30:11<01:42, 51.11s/it]"
     ]
    },
    {
     "name": "stdout",
     "output_type": "stream",
     "text": [
      "torch.Size([32, 64, 128, 128])\n",
      "torch.Size([32, 128, 64, 64])\n",
      "torch.Size([32, 256, 32, 32])\n",
      "torch.Size([32, 512, 16, 16])\n",
      "torch.Size([32, 1024, 8, 8])\n",
      "torch.Size([32, 512, 16, 16])\n",
      "torch.Size([32, 256, 32, 32])\n",
      "torch.Size([32, 128, 64, 64])\n",
      "torch.Size([32, 64, 128, 128])\n"
     ]
    },
    {
     "name": "stderr",
     "output_type": "stream",
     "text": [
      " 96%|█████████▌| 22/23 [30:45<00:45, 45.89s/it]"
     ]
    },
    {
     "name": "stdout",
     "output_type": "stream",
     "text": [
      "torch.Size([16, 64, 128, 128])\n",
      "torch.Size([16, 128, 64, 64])\n",
      "torch.Size([16, 256, 32, 32])\n",
      "torch.Size([16, 512, 16, 16])\n",
      "torch.Size([16, 1024, 8, 8])\n",
      "torch.Size([16, 512, 16, 16])\n",
      "torch.Size([16, 256, 32, 32])\n",
      "torch.Size([16, 128, 64, 64])\n",
      "torch.Size([16, 64, 128, 128])\n"
     ]
    },
    {
     "name": "stderr",
     "output_type": "stream",
     "text": [
      "100%|██████████| 23/23 [31:01<00:00, 80.95s/it]\n",
      "  0%|          | 0/2 [00:00<?, ?it/s]"
     ]
    },
    {
     "name": "stdout",
     "output_type": "stream",
     "text": [
      "torch.Size([32, 64, 128, 128])\n",
      "torch.Size([32, 128, 64, 64])\n",
      "torch.Size([32, 256, 32, 32])\n",
      "torch.Size([32, 512, 16, 16])\n",
      "torch.Size([32, 1024, 8, 8])\n",
      "torch.Size([32, 512, 16, 16])\n",
      "torch.Size([32, 256, 32, 32])\n",
      "torch.Size([32, 128, 64, 64])\n"
     ]
    },
    {
     "name": "stderr",
     "output_type": "stream",
     "text": [
      " 50%|█████     | 1/2 [00:11<00:11, 11.24s/it]"
     ]
    },
    {
     "name": "stdout",
     "output_type": "stream",
     "text": [
      "torch.Size([32, 64, 128, 128])\n",
      "torch.Size([28, 64, 128, 128])\n",
      "torch.Size([28, 128, 64, 64])\n",
      "torch.Size([28, 256, 32, 32])\n",
      "torch.Size([28, 512, 16, 16])\n",
      "torch.Size([28, 1024, 8, 8])\n",
      "torch.Size([28, 512, 16, 16])\n",
      "torch.Size([28, 256, 32, 32])\n",
      "torch.Size([28, 128, 64, 64])\n"
     ]
    },
    {
     "name": "stderr",
     "output_type": "stream",
     "text": [
      "100%|██████████| 2/2 [00:21<00:00, 10.53s/it]\n"
     ]
    },
    {
     "name": "stdout",
     "output_type": "stream",
     "text": [
      "torch.Size([28, 64, 128, 128])\n",
      "Train Loss: 0.4321 | Val Loss: 0.4432\n",
      "\n",
      "Epoch 4/20\n"
     ]
    },
    {
     "name": "stderr",
     "output_type": "stream",
     "text": [
      "  0%|          | 0/23 [00:00<?, ?it/s]"
     ]
    },
    {
     "name": "stdout",
     "output_type": "stream",
     "text": [
      "torch.Size([32, 64, 128, 128])\n",
      "torch.Size([32, 128, 64, 64])\n",
      "torch.Size([32, 256, 32, 32])\n",
      "torch.Size([32, 512, 16, 16])\n",
      "torch.Size([32, 1024, 8, 8])\n",
      "torch.Size([32, 512, 16, 16])\n",
      "torch.Size([32, 256, 32, 32])\n",
      "torch.Size([32, 128, 64, 64])\n",
      "torch.Size([32, 64, 128, 128])\n"
     ]
    },
    {
     "name": "stderr",
     "output_type": "stream",
     "text": [
      "  4%|▍         | 1/23 [00:32<11:49, 32.27s/it]"
     ]
    },
    {
     "name": "stdout",
     "output_type": "stream",
     "text": [
      "torch.Size([32, 64, 128, 128])\n",
      "torch.Size([32, 128, 64, 64])\n",
      "torch.Size([32, 256, 32, 32])\n",
      "torch.Size([32, 512, 16, 16])\n",
      "torch.Size([32, 1024, 8, 8])\n",
      "torch.Size([32, 512, 16, 16])\n",
      "torch.Size([32, 256, 32, 32])\n",
      "torch.Size([32, 128, 64, 64])\n",
      "torch.Size([32, 64, 128, 128])\n"
     ]
    },
    {
     "name": "stderr",
     "output_type": "stream",
     "text": [
      "  9%|▊         | 2/23 [01:05<11:24, 32.60s/it]"
     ]
    },
    {
     "name": "stdout",
     "output_type": "stream",
     "text": [
      "torch.Size([32, 64, 128, 128])\n",
      "torch.Size([32, 128, 64, 64])\n",
      "torch.Size([32, 256, 32, 32])\n",
      "torch.Size([32, 512, 16, 16])\n",
      "torch.Size([32, 1024, 8, 8])\n",
      "torch.Size([32, 512, 16, 16])\n",
      "torch.Size([32, 256, 32, 32])\n",
      "torch.Size([32, 128, 64, 64])\n",
      "torch.Size([32, 64, 128, 128])\n"
     ]
    },
    {
     "name": "stderr",
     "output_type": "stream",
     "text": [
      " 13%|█▎        | 3/23 [01:38<11:01, 33.09s/it]"
     ]
    },
    {
     "name": "stdout",
     "output_type": "stream",
     "text": [
      "torch.Size([32, 64, 128, 128])\n",
      "torch.Size([32, 128, 64, 64])\n",
      "torch.Size([32, 256, 32, 32])\n",
      "torch.Size([32, 512, 16, 16])\n",
      "torch.Size([32, 1024, 8, 8])\n",
      "torch.Size([32, 512, 16, 16])\n",
      "torch.Size([32, 256, 32, 32])\n",
      "torch.Size([32, 128, 64, 64])\n",
      "torch.Size([32, 64, 128, 128])\n"
     ]
    },
    {
     "name": "stderr",
     "output_type": "stream",
     "text": [
      " 17%|█▋        | 4/23 [02:11<10:25, 32.91s/it]"
     ]
    },
    {
     "name": "stdout",
     "output_type": "stream",
     "text": [
      "torch.Size([32, 64, 128, 128])\n",
      "torch.Size([32, 128, 64, 64])\n",
      "torch.Size([32, 256, 32, 32])\n",
      "torch.Size([32, 512, 16, 16])\n",
      "torch.Size([32, 1024, 8, 8])\n",
      "torch.Size([32, 512, 16, 16])\n",
      "torch.Size([32, 256, 32, 32])\n",
      "torch.Size([32, 128, 64, 64])\n",
      "torch.Size([32, 64, 128, 128])\n"
     ]
    },
    {
     "name": "stderr",
     "output_type": "stream",
     "text": [
      " 22%|██▏       | 5/23 [02:45<09:59, 33.32s/it]"
     ]
    },
    {
     "name": "stdout",
     "output_type": "stream",
     "text": [
      "torch.Size([32, 64, 128, 128])\n",
      "torch.Size([32, 128, 64, 64])\n",
      "torch.Size([32, 256, 32, 32])\n",
      "torch.Size([32, 512, 16, 16])\n",
      "torch.Size([32, 1024, 8, 8])\n",
      "torch.Size([32, 512, 16, 16])\n",
      "torch.Size([32, 256, 32, 32])\n",
      "torch.Size([32, 128, 64, 64])\n",
      "torch.Size([32, 64, 128, 128])\n"
     ]
    },
    {
     "name": "stderr",
     "output_type": "stream",
     "text": [
      " 26%|██▌       | 6/23 [03:19<09:33, 33.71s/it]"
     ]
    },
    {
     "name": "stdout",
     "output_type": "stream",
     "text": [
      "torch.Size([32, 64, 128, 128])\n",
      "torch.Size([32, 128, 64, 64])\n",
      "torch.Size([32, 256, 32, 32])\n",
      "torch.Size([32, 512, 16, 16])\n",
      "torch.Size([32, 1024, 8, 8])\n",
      "torch.Size([32, 512, 16, 16])\n",
      "torch.Size([32, 256, 32, 32])\n",
      "torch.Size([32, 128, 64, 64])\n",
      "torch.Size([32, 64, 128, 128])\n"
     ]
    },
    {
     "name": "stderr",
     "output_type": "stream",
     "text": [
      " 30%|███       | 7/23 [03:53<08:59, 33.72s/it]"
     ]
    },
    {
     "name": "stdout",
     "output_type": "stream",
     "text": [
      "torch.Size([32, 64, 128, 128])\n",
      "torch.Size([32, 128, 64, 64])\n",
      "torch.Size([32, 256, 32, 32])\n",
      "torch.Size([32, 512, 16, 16])\n",
      "torch.Size([32, 1024, 8, 8])\n",
      "torch.Size([32, 512, 16, 16])\n",
      "torch.Size([32, 256, 32, 32])\n",
      "torch.Size([32, 128, 64, 64])\n",
      "torch.Size([32, 64, 128, 128])\n"
     ]
    },
    {
     "name": "stderr",
     "output_type": "stream",
     "text": [
      " 35%|███▍      | 8/23 [04:26<08:21, 33.44s/it]"
     ]
    },
    {
     "name": "stdout",
     "output_type": "stream",
     "text": [
      "torch.Size([32, 64, 128, 128])\n",
      "torch.Size([32, 128, 64, 64])\n",
      "torch.Size([32, 256, 32, 32])\n",
      "torch.Size([32, 512, 16, 16])\n",
      "torch.Size([32, 1024, 8, 8])\n",
      "torch.Size([32, 512, 16, 16])\n",
      "torch.Size([32, 256, 32, 32])\n",
      "torch.Size([32, 128, 64, 64])\n",
      "torch.Size([32, 64, 128, 128])\n"
     ]
    },
    {
     "name": "stderr",
     "output_type": "stream",
     "text": [
      " 39%|███▉      | 9/23 [04:58<07:43, 33.08s/it]"
     ]
    },
    {
     "name": "stdout",
     "output_type": "stream",
     "text": [
      "torch.Size([32, 64, 128, 128])\n",
      "torch.Size([32, 128, 64, 64])\n",
      "torch.Size([32, 256, 32, 32])\n",
      "torch.Size([32, 512, 16, 16])\n",
      "torch.Size([32, 1024, 8, 8])\n",
      "torch.Size([32, 512, 16, 16])\n",
      "torch.Size([32, 256, 32, 32])\n",
      "torch.Size([32, 128, 64, 64])\n",
      "torch.Size([32, 64, 128, 128])\n"
     ]
    },
    {
     "name": "stderr",
     "output_type": "stream",
     "text": [
      " 43%|████▎     | 10/23 [05:34<07:20, 33.86s/it]"
     ]
    },
    {
     "name": "stdout",
     "output_type": "stream",
     "text": [
      "torch.Size([32, 64, 128, 128])\n",
      "torch.Size([32, 128, 64, 64])\n",
      "torch.Size([32, 256, 32, 32])\n",
      "torch.Size([32, 512, 16, 16])\n",
      "torch.Size([32, 1024, 8, 8])\n",
      "torch.Size([32, 512, 16, 16])\n",
      "torch.Size([32, 256, 32, 32])\n",
      "torch.Size([32, 128, 64, 64])\n",
      "torch.Size([32, 64, 128, 128])\n"
     ]
    },
    {
     "name": "stderr",
     "output_type": "stream",
     "text": [
      " 48%|████▊     | 11/23 [06:06<06:40, 33.41s/it]"
     ]
    },
    {
     "name": "stdout",
     "output_type": "stream",
     "text": [
      "torch.Size([32, 64, 128, 128])\n",
      "torch.Size([32, 128, 64, 64])\n",
      "torch.Size([32, 256, 32, 32])\n",
      "torch.Size([32, 512, 16, 16])\n",
      "torch.Size([32, 1024, 8, 8])\n",
      "torch.Size([32, 512, 16, 16])\n",
      "torch.Size([32, 256, 32, 32])\n",
      "torch.Size([32, 128, 64, 64])\n",
      "torch.Size([32, 64, 128, 128])\n"
     ]
    },
    {
     "name": "stderr",
     "output_type": "stream",
     "text": [
      " 52%|█████▏    | 12/23 [06:38<06:01, 32.86s/it]"
     ]
    },
    {
     "name": "stdout",
     "output_type": "stream",
     "text": [
      "torch.Size([32, 64, 128, 128])\n",
      "torch.Size([32, 128, 64, 64])\n",
      "torch.Size([32, 256, 32, 32])\n",
      "torch.Size([32, 512, 16, 16])\n",
      "torch.Size([32, 1024, 8, 8])\n",
      "torch.Size([32, 512, 16, 16])\n",
      "torch.Size([32, 256, 32, 32])\n",
      "torch.Size([32, 128, 64, 64])\n",
      "torch.Size([32, 64, 128, 128])\n"
     ]
    },
    {
     "name": "stderr",
     "output_type": "stream",
     "text": [
      " 57%|█████▋    | 13/23 [07:09<05:23, 32.33s/it]"
     ]
    },
    {
     "name": "stdout",
     "output_type": "stream",
     "text": [
      "torch.Size([32, 64, 128, 128])\n",
      "torch.Size([32, 128, 64, 64])\n",
      "torch.Size([32, 256, 32, 32])\n",
      "torch.Size([32, 512, 16, 16])\n",
      "torch.Size([32, 1024, 8, 8])\n",
      "torch.Size([32, 512, 16, 16])\n",
      "torch.Size([32, 256, 32, 32])\n",
      "torch.Size([32, 128, 64, 64])\n",
      "torch.Size([32, 64, 128, 128])\n"
     ]
    },
    {
     "name": "stderr",
     "output_type": "stream",
     "text": [
      " 61%|██████    | 14/23 [07:41<04:49, 32.18s/it]"
     ]
    },
    {
     "name": "stdout",
     "output_type": "stream",
     "text": [
      "torch.Size([32, 64, 128, 128])\n",
      "torch.Size([32, 128, 64, 64])\n",
      "torch.Size([32, 256, 32, 32])\n",
      "torch.Size([32, 512, 16, 16])\n",
      "torch.Size([32, 1024, 8, 8])\n",
      "torch.Size([32, 512, 16, 16])\n",
      "torch.Size([32, 256, 32, 32])\n",
      "torch.Size([32, 128, 64, 64])\n",
      "torch.Size([32, 64, 128, 128])\n"
     ]
    },
    {
     "name": "stderr",
     "output_type": "stream",
     "text": [
      " 65%|██████▌   | 15/23 [08:13<04:16, 32.08s/it]"
     ]
    },
    {
     "name": "stdout",
     "output_type": "stream",
     "text": [
      "torch.Size([32, 64, 128, 128])\n",
      "torch.Size([32, 128, 64, 64])\n",
      "torch.Size([32, 256, 32, 32])\n",
      "torch.Size([32, 512, 16, 16])\n",
      "torch.Size([32, 1024, 8, 8])\n",
      "torch.Size([32, 512, 16, 16])\n",
      "torch.Size([32, 256, 32, 32])\n",
      "torch.Size([32, 128, 64, 64])\n",
      "torch.Size([32, 64, 128, 128])\n"
     ]
    },
    {
     "name": "stderr",
     "output_type": "stream",
     "text": [
      " 70%|██████▉   | 16/23 [08:45<03:44, 32.11s/it]"
     ]
    },
    {
     "name": "stdout",
     "output_type": "stream",
     "text": [
      "torch.Size([32, 64, 128, 128])\n",
      "torch.Size([32, 128, 64, 64])\n",
      "torch.Size([32, 256, 32, 32])\n",
      "torch.Size([32, 512, 16, 16])\n",
      "torch.Size([32, 1024, 8, 8])\n",
      "torch.Size([32, 512, 16, 16])\n",
      "torch.Size([32, 256, 32, 32])\n",
      "torch.Size([32, 128, 64, 64])\n",
      "torch.Size([32, 64, 128, 128])\n"
     ]
    },
    {
     "name": "stderr",
     "output_type": "stream",
     "text": [
      " 74%|███████▍  | 17/23 [09:16<03:11, 31.91s/it]"
     ]
    },
    {
     "name": "stdout",
     "output_type": "stream",
     "text": [
      "torch.Size([32, 64, 128, 128])\n",
      "torch.Size([32, 128, 64, 64])\n",
      "torch.Size([32, 256, 32, 32])\n",
      "torch.Size([32, 512, 16, 16])\n",
      "torch.Size([32, 1024, 8, 8])\n",
      "torch.Size([32, 512, 16, 16])\n",
      "torch.Size([32, 256, 32, 32])\n",
      "torch.Size([32, 128, 64, 64])\n",
      "torch.Size([32, 64, 128, 128])\n"
     ]
    },
    {
     "name": "stderr",
     "output_type": "stream",
     "text": [
      " 78%|███████▊  | 18/23 [09:49<02:40, 32.10s/it]"
     ]
    },
    {
     "name": "stdout",
     "output_type": "stream",
     "text": [
      "torch.Size([32, 64, 128, 128])\n",
      "torch.Size([32, 128, 64, 64])\n",
      "torch.Size([32, 256, 32, 32])\n",
      "torch.Size([32, 512, 16, 16])\n",
      "torch.Size([32, 1024, 8, 8])\n",
      "torch.Size([32, 512, 16, 16])\n",
      "torch.Size([32, 256, 32, 32])\n",
      "torch.Size([32, 128, 64, 64])\n",
      "torch.Size([32, 64, 128, 128])\n"
     ]
    },
    {
     "name": "stderr",
     "output_type": "stream",
     "text": [
      " 83%|████████▎ | 19/23 [10:21<02:08, 32.18s/it]"
     ]
    },
    {
     "name": "stdout",
     "output_type": "stream",
     "text": [
      "torch.Size([32, 64, 128, 128])\n",
      "torch.Size([32, 128, 64, 64])\n",
      "torch.Size([32, 256, 32, 32])\n",
      "torch.Size([32, 512, 16, 16])\n",
      "torch.Size([32, 1024, 8, 8])\n",
      "torch.Size([32, 512, 16, 16])\n",
      "torch.Size([32, 256, 32, 32])\n",
      "torch.Size([32, 128, 64, 64])\n",
      "torch.Size([32, 64, 128, 128])\n"
     ]
    },
    {
     "name": "stderr",
     "output_type": "stream",
     "text": [
      " 87%|████████▋ | 20/23 [10:54<01:36, 32.27s/it]"
     ]
    },
    {
     "name": "stdout",
     "output_type": "stream",
     "text": [
      "torch.Size([32, 64, 128, 128])\n",
      "torch.Size([32, 128, 64, 64])\n",
      "torch.Size([32, 256, 32, 32])\n",
      "torch.Size([32, 512, 16, 16])\n",
      "torch.Size([32, 1024, 8, 8])\n",
      "torch.Size([32, 512, 16, 16])\n",
      "torch.Size([32, 256, 32, 32])\n",
      "torch.Size([32, 128, 64, 64])\n",
      "torch.Size([32, 64, 128, 128])\n"
     ]
    },
    {
     "name": "stderr",
     "output_type": "stream",
     "text": [
      " 91%|█████████▏| 21/23 [11:26<01:04, 32.22s/it]"
     ]
    },
    {
     "name": "stdout",
     "output_type": "stream",
     "text": [
      "torch.Size([32, 64, 128, 128])\n",
      "torch.Size([32, 128, 64, 64])\n",
      "torch.Size([32, 256, 32, 32])\n",
      "torch.Size([32, 512, 16, 16])\n",
      "torch.Size([32, 1024, 8, 8])\n",
      "torch.Size([32, 512, 16, 16])\n",
      "torch.Size([32, 256, 32, 32])\n",
      "torch.Size([32, 128, 64, 64])\n",
      "torch.Size([32, 64, 128, 128])\n"
     ]
    },
    {
     "name": "stderr",
     "output_type": "stream",
     "text": [
      " 96%|█████████▌| 22/23 [11:58<00:32, 32.32s/it]"
     ]
    },
    {
     "name": "stdout",
     "output_type": "stream",
     "text": [
      "torch.Size([16, 64, 128, 128])\n",
      "torch.Size([16, 128, 64, 64])\n",
      "torch.Size([16, 256, 32, 32])\n",
      "torch.Size([16, 512, 16, 16])\n",
      "torch.Size([16, 1024, 8, 8])\n",
      "torch.Size([16, 512, 16, 16])\n",
      "torch.Size([16, 256, 32, 32])\n",
      "torch.Size([16, 128, 64, 64])\n",
      "torch.Size([16, 64, 128, 128])\n"
     ]
    },
    {
     "name": "stderr",
     "output_type": "stream",
     "text": [
      "100%|██████████| 23/23 [12:14<00:00, 31.92s/it]\n",
      "  0%|          | 0/2 [00:00<?, ?it/s]"
     ]
    },
    {
     "name": "stdout",
     "output_type": "stream",
     "text": [
      "torch.Size([32, 64, 128, 128])\n",
      "torch.Size([32, 128, 64, 64])\n",
      "torch.Size([32, 256, 32, 32])\n",
      "torch.Size([32, 512, 16, 16])\n",
      "torch.Size([32, 1024, 8, 8])\n",
      "torch.Size([32, 512, 16, 16])\n",
      "torch.Size([32, 256, 32, 32])\n",
      "torch.Size([32, 128, 64, 64])\n"
     ]
    },
    {
     "name": "stderr",
     "output_type": "stream",
     "text": [
      " 50%|█████     | 1/2 [00:11<00:11, 11.45s/it]"
     ]
    },
    {
     "name": "stdout",
     "output_type": "stream",
     "text": [
      "torch.Size([32, 64, 128, 128])\n",
      "torch.Size([28, 64, 128, 128])\n",
      "torch.Size([28, 128, 64, 64])\n",
      "torch.Size([28, 256, 32, 32])\n",
      "torch.Size([28, 512, 16, 16])\n",
      "torch.Size([28, 1024, 8, 8])\n",
      "torch.Size([28, 512, 16, 16])\n",
      "torch.Size([28, 256, 32, 32])\n",
      "torch.Size([28, 128, 64, 64])\n"
     ]
    },
    {
     "name": "stderr",
     "output_type": "stream",
     "text": [
      "100%|██████████| 2/2 [00:21<00:00, 10.56s/it]\n"
     ]
    },
    {
     "name": "stdout",
     "output_type": "stream",
     "text": [
      "torch.Size([28, 64, 128, 128])\n",
      "Train Loss: 0.3905 | Val Loss: 0.4015\n",
      "\n",
      "Epoch 5/20\n"
     ]
    },
    {
     "name": "stderr",
     "output_type": "stream",
     "text": [
      "  0%|          | 0/23 [00:00<?, ?it/s]"
     ]
    },
    {
     "name": "stdout",
     "output_type": "stream",
     "text": [
      "torch.Size([32, 64, 128, 128])\n",
      "torch.Size([32, 128, 64, 64])\n",
      "torch.Size([32, 256, 32, 32])\n",
      "torch.Size([32, 512, 16, 16])\n",
      "torch.Size([32, 1024, 8, 8])\n",
      "torch.Size([32, 512, 16, 16])\n",
      "torch.Size([32, 256, 32, 32])\n",
      "torch.Size([32, 128, 64, 64])\n",
      "torch.Size([32, 64, 128, 128])\n"
     ]
    },
    {
     "name": "stderr",
     "output_type": "stream",
     "text": [
      "  4%|▍         | 1/23 [00:31<11:40, 31.84s/it]"
     ]
    },
    {
     "name": "stdout",
     "output_type": "stream",
     "text": [
      "torch.Size([32, 64, 128, 128])\n",
      "torch.Size([32, 128, 64, 64])\n",
      "torch.Size([32, 256, 32, 32])\n",
      "torch.Size([32, 512, 16, 16])\n",
      "torch.Size([32, 1024, 8, 8])\n",
      "torch.Size([32, 512, 16, 16])\n",
      "torch.Size([32, 256, 32, 32])\n",
      "torch.Size([32, 128, 64, 64])\n",
      "torch.Size([32, 64, 128, 128])\n"
     ]
    },
    {
     "name": "stderr",
     "output_type": "stream",
     "text": [
      "  9%|▊         | 2/23 [01:03<11:09, 31.86s/it]"
     ]
    },
    {
     "name": "stdout",
     "output_type": "stream",
     "text": [
      "torch.Size([32, 64, 128, 128])\n",
      "torch.Size([32, 128, 64, 64])\n",
      "torch.Size([32, 256, 32, 32])\n",
      "torch.Size([32, 512, 16, 16])\n",
      "torch.Size([32, 1024, 8, 8])\n",
      "torch.Size([32, 512, 16, 16])\n",
      "torch.Size([32, 256, 32, 32])\n",
      "torch.Size([32, 128, 64, 64])\n",
      "torch.Size([32, 64, 128, 128])\n"
     ]
    },
    {
     "name": "stderr",
     "output_type": "stream",
     "text": [
      " 13%|█▎        | 3/23 [01:35<10:32, 31.61s/it]"
     ]
    },
    {
     "name": "stdout",
     "output_type": "stream",
     "text": [
      "torch.Size([32, 64, 128, 128])\n",
      "torch.Size([32, 128, 64, 64])\n",
      "torch.Size([32, 256, 32, 32])\n",
      "torch.Size([32, 512, 16, 16])\n",
      "torch.Size([32, 1024, 8, 8])\n",
      "torch.Size([32, 512, 16, 16])\n",
      "torch.Size([32, 256, 32, 32])\n",
      "torch.Size([32, 128, 64, 64])\n",
      "torch.Size([32, 64, 128, 128])\n"
     ]
    },
    {
     "name": "stderr",
     "output_type": "stream",
     "text": [
      " 17%|█▋        | 4/23 [02:07<10:03, 31.78s/it]"
     ]
    },
    {
     "name": "stdout",
     "output_type": "stream",
     "text": [
      "torch.Size([32, 64, 128, 128])\n",
      "torch.Size([32, 128, 64, 64])\n",
      "torch.Size([32, 256, 32, 32])\n",
      "torch.Size([32, 512, 16, 16])\n",
      "torch.Size([32, 1024, 8, 8])\n",
      "torch.Size([32, 512, 16, 16])\n",
      "torch.Size([32, 256, 32, 32])\n",
      "torch.Size([32, 128, 64, 64])\n",
      "torch.Size([32, 64, 128, 128])\n"
     ]
    },
    {
     "name": "stderr",
     "output_type": "stream",
     "text": [
      " 22%|██▏       | 5/23 [02:39<09:34, 31.91s/it]"
     ]
    },
    {
     "name": "stdout",
     "output_type": "stream",
     "text": [
      "torch.Size([32, 64, 128, 128])\n",
      "torch.Size([32, 128, 64, 64])\n",
      "torch.Size([32, 256, 32, 32])\n",
      "torch.Size([32, 512, 16, 16])\n",
      "torch.Size([32, 1024, 8, 8])\n",
      "torch.Size([32, 512, 16, 16])\n",
      "torch.Size([32, 256, 32, 32])\n",
      "torch.Size([32, 128, 64, 64])\n",
      "torch.Size([32, 64, 128, 128])\n"
     ]
    },
    {
     "name": "stderr",
     "output_type": "stream",
     "text": [
      " 26%|██▌       | 6/23 [03:11<09:03, 31.95s/it]"
     ]
    },
    {
     "name": "stdout",
     "output_type": "stream",
     "text": [
      "torch.Size([32, 64, 128, 128])\n",
      "torch.Size([32, 128, 64, 64])\n",
      "torch.Size([32, 256, 32, 32])\n",
      "torch.Size([32, 512, 16, 16])\n",
      "torch.Size([32, 1024, 8, 8])\n",
      "torch.Size([32, 512, 16, 16])\n",
      "torch.Size([32, 256, 32, 32])\n",
      "torch.Size([32, 128, 64, 64])\n",
      "torch.Size([32, 64, 128, 128])\n"
     ]
    },
    {
     "name": "stderr",
     "output_type": "stream",
     "text": [
      " 30%|███       | 7/23 [03:42<08:28, 31.80s/it]"
     ]
    },
    {
     "name": "stdout",
     "output_type": "stream",
     "text": [
      "torch.Size([32, 64, 128, 128])\n",
      "torch.Size([32, 128, 64, 64])\n",
      "torch.Size([32, 256, 32, 32])\n",
      "torch.Size([32, 512, 16, 16])\n",
      "torch.Size([32, 1024, 8, 8])\n",
      "torch.Size([32, 512, 16, 16])\n",
      "torch.Size([32, 256, 32, 32])\n",
      "torch.Size([32, 128, 64, 64])\n",
      "torch.Size([32, 64, 128, 128])\n"
     ]
    },
    {
     "name": "stderr",
     "output_type": "stream",
     "text": [
      " 35%|███▍      | 8/23 [04:15<08:00, 32.01s/it]"
     ]
    },
    {
     "name": "stdout",
     "output_type": "stream",
     "text": [
      "torch.Size([32, 64, 128, 128])\n",
      "torch.Size([32, 128, 64, 64])\n",
      "torch.Size([32, 256, 32, 32])\n",
      "torch.Size([32, 512, 16, 16])\n",
      "torch.Size([32, 1024, 8, 8])\n",
      "torch.Size([32, 512, 16, 16])\n",
      "torch.Size([32, 256, 32, 32])\n",
      "torch.Size([32, 128, 64, 64])\n",
      "torch.Size([32, 64, 128, 128])\n"
     ]
    },
    {
     "name": "stderr",
     "output_type": "stream",
     "text": [
      " 39%|███▉      | 9/23 [04:48<07:33, 32.39s/it]"
     ]
    },
    {
     "name": "stdout",
     "output_type": "stream",
     "text": [
      "torch.Size([32, 64, 128, 128])\n",
      "torch.Size([32, 128, 64, 64])\n",
      "torch.Size([32, 256, 32, 32])\n",
      "torch.Size([32, 512, 16, 16])\n",
      "torch.Size([32, 1024, 8, 8])\n",
      "torch.Size([32, 512, 16, 16])\n",
      "torch.Size([32, 256, 32, 32])\n",
      "torch.Size([32, 128, 64, 64])\n",
      "torch.Size([32, 64, 128, 128])\n"
     ]
    },
    {
     "name": "stderr",
     "output_type": "stream",
     "text": [
      " 43%|████▎     | 10/23 [05:22<07:08, 32.94s/it]"
     ]
    },
    {
     "name": "stdout",
     "output_type": "stream",
     "text": [
      "torch.Size([32, 64, 128, 128])\n",
      "torch.Size([32, 128, 64, 64])\n",
      "torch.Size([32, 256, 32, 32])\n",
      "torch.Size([32, 512, 16, 16])\n",
      "torch.Size([32, 1024, 8, 8])\n",
      "torch.Size([32, 512, 16, 16])\n",
      "torch.Size([32, 256, 32, 32])\n",
      "torch.Size([32, 128, 64, 64])\n",
      "torch.Size([32, 64, 128, 128])\n"
     ]
    },
    {
     "name": "stderr",
     "output_type": "stream",
     "text": [
      " 48%|████▊     | 11/23 [05:53<06:29, 32.45s/it]"
     ]
    },
    {
     "name": "stdout",
     "output_type": "stream",
     "text": [
      "torch.Size([32, 64, 128, 128])\n",
      "torch.Size([32, 128, 64, 64])\n",
      "torch.Size([32, 256, 32, 32])\n",
      "torch.Size([32, 512, 16, 16])\n",
      "torch.Size([32, 1024, 8, 8])\n",
      "torch.Size([32, 512, 16, 16])\n",
      "torch.Size([32, 256, 32, 32])\n",
      "torch.Size([32, 128, 64, 64])\n",
      "torch.Size([32, 64, 128, 128])\n"
     ]
    },
    {
     "name": "stderr",
     "output_type": "stream",
     "text": [
      " 52%|█████▏    | 12/23 [06:24<05:51, 31.95s/it]"
     ]
    },
    {
     "name": "stdout",
     "output_type": "stream",
     "text": [
      "torch.Size([32, 64, 128, 128])\n",
      "torch.Size([32, 128, 64, 64])\n",
      "torch.Size([32, 256, 32, 32])\n",
      "torch.Size([32, 512, 16, 16])\n",
      "torch.Size([32, 1024, 8, 8])\n",
      "torch.Size([32, 512, 16, 16])\n",
      "torch.Size([32, 256, 32, 32])\n",
      "torch.Size([32, 128, 64, 64])\n",
      "torch.Size([32, 64, 128, 128])\n"
     ]
    },
    {
     "name": "stderr",
     "output_type": "stream",
     "text": [
      " 57%|█████▋    | 13/23 [06:55<05:16, 31.62s/it]"
     ]
    },
    {
     "name": "stdout",
     "output_type": "stream",
     "text": [
      "torch.Size([32, 64, 128, 128])\n",
      "torch.Size([32, 128, 64, 64])\n",
      "torch.Size([32, 256, 32, 32])\n",
      "torch.Size([32, 512, 16, 16])\n",
      "torch.Size([32, 1024, 8, 8])\n",
      "torch.Size([32, 512, 16, 16])\n",
      "torch.Size([32, 256, 32, 32])\n",
      "torch.Size([32, 128, 64, 64])\n",
      "torch.Size([32, 64, 128, 128])\n"
     ]
    },
    {
     "name": "stderr",
     "output_type": "stream",
     "text": [
      " 61%|██████    | 14/23 [07:26<04:42, 31.43s/it]"
     ]
    },
    {
     "name": "stdout",
     "output_type": "stream",
     "text": [
      "torch.Size([32, 64, 128, 128])\n",
      "torch.Size([32, 128, 64, 64])\n",
      "torch.Size([32, 256, 32, 32])\n",
      "torch.Size([32, 512, 16, 16])\n",
      "torch.Size([32, 1024, 8, 8])\n",
      "torch.Size([32, 512, 16, 16])\n",
      "torch.Size([32, 256, 32, 32])\n",
      "torch.Size([32, 128, 64, 64])\n",
      "torch.Size([32, 64, 128, 128])\n"
     ]
    },
    {
     "name": "stderr",
     "output_type": "stream",
     "text": [
      " 65%|██████▌   | 15/23 [07:57<04:10, 31.30s/it]"
     ]
    },
    {
     "name": "stdout",
     "output_type": "stream",
     "text": [
      "torch.Size([32, 64, 128, 128])\n",
      "torch.Size([32, 128, 64, 64])\n",
      "torch.Size([32, 256, 32, 32])\n",
      "torch.Size([32, 512, 16, 16])\n",
      "torch.Size([32, 1024, 8, 8])\n",
      "torch.Size([32, 512, 16, 16])\n",
      "torch.Size([32, 256, 32, 32])\n",
      "torch.Size([32, 128, 64, 64])\n",
      "torch.Size([32, 64, 128, 128])\n"
     ]
    },
    {
     "name": "stderr",
     "output_type": "stream",
     "text": [
      " 70%|██████▉   | 16/23 [08:29<03:39, 31.39s/it]"
     ]
    },
    {
     "name": "stdout",
     "output_type": "stream",
     "text": [
      "torch.Size([32, 64, 128, 128])\n",
      "torch.Size([32, 128, 64, 64])\n",
      "torch.Size([32, 256, 32, 32])\n",
      "torch.Size([32, 512, 16, 16])\n",
      "torch.Size([32, 1024, 8, 8])\n",
      "torch.Size([32, 512, 16, 16])\n",
      "torch.Size([32, 256, 32, 32])\n",
      "torch.Size([32, 128, 64, 64])\n",
      "torch.Size([32, 64, 128, 128])\n"
     ]
    },
    {
     "name": "stderr",
     "output_type": "stream",
     "text": [
      " 74%|███████▍  | 17/23 [09:00<03:08, 31.34s/it]"
     ]
    },
    {
     "name": "stdout",
     "output_type": "stream",
     "text": [
      "torch.Size([32, 64, 128, 128])\n",
      "torch.Size([32, 128, 64, 64])\n",
      "torch.Size([32, 256, 32, 32])\n",
      "torch.Size([32, 512, 16, 16])\n",
      "torch.Size([32, 1024, 8, 8])\n",
      "torch.Size([32, 512, 16, 16])\n",
      "torch.Size([32, 256, 32, 32])\n",
      "torch.Size([32, 128, 64, 64])\n",
      "torch.Size([32, 64, 128, 128])\n"
     ]
    },
    {
     "name": "stderr",
     "output_type": "stream",
     "text": [
      " 78%|███████▊  | 18/23 [09:31<02:36, 31.27s/it]"
     ]
    },
    {
     "name": "stdout",
     "output_type": "stream",
     "text": [
      "torch.Size([32, 64, 128, 128])\n",
      "torch.Size([32, 128, 64, 64])\n",
      "torch.Size([32, 256, 32, 32])\n",
      "torch.Size([32, 512, 16, 16])\n",
      "torch.Size([32, 1024, 8, 8])\n",
      "torch.Size([32, 512, 16, 16])\n",
      "torch.Size([32, 256, 32, 32])\n",
      "torch.Size([32, 128, 64, 64])\n",
      "torch.Size([32, 64, 128, 128])\n"
     ]
    },
    {
     "name": "stderr",
     "output_type": "stream",
     "text": [
      " 83%|████████▎ | 19/23 [10:02<02:05, 31.32s/it]"
     ]
    },
    {
     "name": "stdout",
     "output_type": "stream",
     "text": [
      "torch.Size([32, 64, 128, 128])\n",
      "torch.Size([32, 128, 64, 64])\n",
      "torch.Size([32, 256, 32, 32])\n",
      "torch.Size([32, 512, 16, 16])\n",
      "torch.Size([32, 1024, 8, 8])\n",
      "torch.Size([32, 512, 16, 16])\n",
      "torch.Size([32, 256, 32, 32])\n",
      "torch.Size([32, 128, 64, 64])\n",
      "torch.Size([32, 64, 128, 128])\n"
     ]
    },
    {
     "name": "stderr",
     "output_type": "stream",
     "text": [
      " 87%|████████▋ | 20/23 [10:34<01:33, 31.28s/it]"
     ]
    },
    {
     "name": "stdout",
     "output_type": "stream",
     "text": [
      "torch.Size([32, 64, 128, 128])\n",
      "torch.Size([32, 128, 64, 64])\n",
      "torch.Size([32, 256, 32, 32])\n",
      "torch.Size([32, 512, 16, 16])\n",
      "torch.Size([32, 1024, 8, 8])\n",
      "torch.Size([32, 512, 16, 16])\n",
      "torch.Size([32, 256, 32, 32])\n",
      "torch.Size([32, 128, 64, 64])\n",
      "torch.Size([32, 64, 128, 128])\n"
     ]
    },
    {
     "name": "stderr",
     "output_type": "stream",
     "text": [
      " 91%|█████████▏| 21/23 [11:05<01:02, 31.26s/it]"
     ]
    },
    {
     "name": "stdout",
     "output_type": "stream",
     "text": [
      "torch.Size([32, 64, 128, 128])\n",
      "torch.Size([32, 128, 64, 64])\n",
      "torch.Size([32, 256, 32, 32])\n",
      "torch.Size([32, 512, 16, 16])\n",
      "torch.Size([32, 1024, 8, 8])\n",
      "torch.Size([32, 512, 16, 16])\n",
      "torch.Size([32, 256, 32, 32])\n",
      "torch.Size([32, 128, 64, 64])\n",
      "torch.Size([32, 64, 128, 128])\n"
     ]
    },
    {
     "name": "stderr",
     "output_type": "stream",
     "text": [
      " 96%|█████████▌| 22/23 [11:36<00:31, 31.36s/it]"
     ]
    },
    {
     "name": "stdout",
     "output_type": "stream",
     "text": [
      "torch.Size([16, 64, 128, 128])\n",
      "torch.Size([16, 128, 64, 64])\n",
      "torch.Size([16, 256, 32, 32])\n",
      "torch.Size([16, 512, 16, 16])\n",
      "torch.Size([16, 1024, 8, 8])\n",
      "torch.Size([16, 512, 16, 16])\n",
      "torch.Size([16, 256, 32, 32])\n",
      "torch.Size([16, 128, 64, 64])\n",
      "torch.Size([16, 64, 128, 128])\n"
     ]
    },
    {
     "name": "stderr",
     "output_type": "stream",
     "text": [
      "100%|██████████| 23/23 [11:52<00:00, 31.00s/it]\n",
      "  0%|          | 0/2 [00:00<?, ?it/s]"
     ]
    },
    {
     "name": "stdout",
     "output_type": "stream",
     "text": [
      "torch.Size([32, 64, 128, 128])\n",
      "torch.Size([32, 128, 64, 64])\n",
      "torch.Size([32, 256, 32, 32])\n",
      "torch.Size([32, 512, 16, 16])\n",
      "torch.Size([32, 1024, 8, 8])\n",
      "torch.Size([32, 512, 16, 16])\n",
      "torch.Size([32, 256, 32, 32])\n",
      "torch.Size([32, 128, 64, 64])\n"
     ]
    },
    {
     "name": "stderr",
     "output_type": "stream",
     "text": [
      " 50%|█████     | 1/2 [00:10<00:10, 10.62s/it]"
     ]
    },
    {
     "name": "stdout",
     "output_type": "stream",
     "text": [
      "torch.Size([32, 64, 128, 128])\n",
      "torch.Size([28, 64, 128, 128])\n",
      "torch.Size([28, 128, 64, 64])\n",
      "torch.Size([28, 256, 32, 32])\n",
      "torch.Size([28, 512, 16, 16])\n",
      "torch.Size([28, 1024, 8, 8])\n",
      "torch.Size([28, 512, 16, 16])\n",
      "torch.Size([28, 256, 32, 32])\n",
      "torch.Size([28, 128, 64, 64])\n"
     ]
    },
    {
     "name": "stderr",
     "output_type": "stream",
     "text": [
      "100%|██████████| 2/2 [00:20<00:00, 10.03s/it]\n"
     ]
    },
    {
     "name": "stdout",
     "output_type": "stream",
     "text": [
      "torch.Size([28, 64, 128, 128])\n",
      "Train Loss: 0.3601 | Val Loss: 0.3754\n",
      "\n",
      "Epoch 6/20\n"
     ]
    },
    {
     "name": "stderr",
     "output_type": "stream",
     "text": [
      "  0%|          | 0/23 [00:00<?, ?it/s]"
     ]
    },
    {
     "name": "stdout",
     "output_type": "stream",
     "text": [
      "torch.Size([32, 64, 128, 128])\n",
      "torch.Size([32, 128, 64, 64])\n",
      "torch.Size([32, 256, 32, 32])\n",
      "torch.Size([32, 512, 16, 16])\n",
      "torch.Size([32, 1024, 8, 8])\n",
      "torch.Size([32, 512, 16, 16])\n",
      "torch.Size([32, 256, 32, 32])\n",
      "torch.Size([32, 128, 64, 64])\n",
      "torch.Size([32, 64, 128, 128])\n"
     ]
    },
    {
     "name": "stderr",
     "output_type": "stream",
     "text": [
      "  4%|▍         | 1/23 [00:30<11:18, 30.85s/it]"
     ]
    },
    {
     "name": "stdout",
     "output_type": "stream",
     "text": [
      "torch.Size([32, 64, 128, 128])\n",
      "torch.Size([32, 128, 64, 64])\n",
      "torch.Size([32, 256, 32, 32])\n",
      "torch.Size([32, 512, 16, 16])\n",
      "torch.Size([32, 1024, 8, 8])\n",
      "torch.Size([32, 512, 16, 16])\n",
      "torch.Size([32, 256, 32, 32])\n",
      "torch.Size([32, 128, 64, 64])\n",
      "torch.Size([32, 64, 128, 128])\n"
     ]
    },
    {
     "name": "stderr",
     "output_type": "stream",
     "text": [
      "  9%|▊         | 2/23 [01:02<10:58, 31.37s/it]"
     ]
    },
    {
     "name": "stdout",
     "output_type": "stream",
     "text": [
      "torch.Size([32, 64, 128, 128])\n",
      "torch.Size([32, 128, 64, 64])\n",
      "torch.Size([32, 256, 32, 32])\n",
      "torch.Size([32, 512, 16, 16])\n",
      "torch.Size([32, 1024, 8, 8])\n",
      "torch.Size([32, 512, 16, 16])\n",
      "torch.Size([32, 256, 32, 32])\n",
      "torch.Size([32, 128, 64, 64])\n",
      "torch.Size([32, 64, 128, 128])\n"
     ]
    },
    {
     "name": "stderr",
     "output_type": "stream",
     "text": [
      " 13%|█▎        | 3/23 [01:33<10:24, 31.23s/it]"
     ]
    },
    {
     "name": "stdout",
     "output_type": "stream",
     "text": [
      "torch.Size([32, 64, 128, 128])\n",
      "torch.Size([32, 128, 64, 64])\n",
      "torch.Size([32, 256, 32, 32])\n",
      "torch.Size([32, 512, 16, 16])\n",
      "torch.Size([32, 1024, 8, 8])\n",
      "torch.Size([32, 512, 16, 16])\n",
      "torch.Size([32, 256, 32, 32])\n",
      "torch.Size([32, 128, 64, 64])\n",
      "torch.Size([32, 64, 128, 128])\n"
     ]
    },
    {
     "name": "stderr",
     "output_type": "stream",
     "text": [
      " 17%|█▋        | 4/23 [02:04<09:50, 31.05s/it]"
     ]
    },
    {
     "name": "stdout",
     "output_type": "stream",
     "text": [
      "torch.Size([32, 64, 128, 128])\n",
      "torch.Size([32, 128, 64, 64])\n",
      "torch.Size([32, 256, 32, 32])\n",
      "torch.Size([32, 512, 16, 16])\n",
      "torch.Size([32, 1024, 8, 8])\n",
      "torch.Size([32, 512, 16, 16])\n",
      "torch.Size([32, 256, 32, 32])\n",
      "torch.Size([32, 128, 64, 64])\n",
      "torch.Size([32, 64, 128, 128])\n"
     ]
    },
    {
     "name": "stderr",
     "output_type": "stream",
     "text": [
      " 22%|██▏       | 5/23 [02:35<09:18, 31.01s/it]"
     ]
    },
    {
     "name": "stdout",
     "output_type": "stream",
     "text": [
      "torch.Size([32, 64, 128, 128])\n",
      "torch.Size([32, 128, 64, 64])\n",
      "torch.Size([32, 256, 32, 32])\n",
      "torch.Size([32, 512, 16, 16])\n",
      "torch.Size([32, 1024, 8, 8])\n",
      "torch.Size([32, 512, 16, 16])\n",
      "torch.Size([32, 256, 32, 32])\n",
      "torch.Size([32, 128, 64, 64])\n",
      "torch.Size([32, 64, 128, 128])\n"
     ]
    },
    {
     "name": "stderr",
     "output_type": "stream",
     "text": [
      " 26%|██▌       | 6/23 [03:06<08:47, 31.05s/it]"
     ]
    },
    {
     "name": "stdout",
     "output_type": "stream",
     "text": [
      "torch.Size([32, 64, 128, 128])\n",
      "torch.Size([32, 128, 64, 64])\n",
      "torch.Size([32, 256, 32, 32])\n",
      "torch.Size([32, 512, 16, 16])\n",
      "torch.Size([32, 1024, 8, 8])\n",
      "torch.Size([32, 512, 16, 16])\n",
      "torch.Size([32, 256, 32, 32])\n",
      "torch.Size([32, 128, 64, 64])\n",
      "torch.Size([32, 64, 128, 128])\n"
     ]
    },
    {
     "name": "stderr",
     "output_type": "stream",
     "text": [
      " 30%|███       | 7/23 [03:37<08:15, 30.99s/it]"
     ]
    },
    {
     "name": "stdout",
     "output_type": "stream",
     "text": [
      "torch.Size([32, 64, 128, 128])\n",
      "torch.Size([32, 128, 64, 64])\n",
      "torch.Size([32, 256, 32, 32])\n",
      "torch.Size([32, 512, 16, 16])\n",
      "torch.Size([32, 1024, 8, 8])\n",
      "torch.Size([32, 512, 16, 16])\n",
      "torch.Size([32, 256, 32, 32])\n",
      "torch.Size([32, 128, 64, 64])\n",
      "torch.Size([32, 64, 128, 128])\n"
     ]
    },
    {
     "name": "stderr",
     "output_type": "stream",
     "text": [
      " 35%|███▍      | 8/23 [04:08<07:46, 31.11s/it]"
     ]
    },
    {
     "name": "stdout",
     "output_type": "stream",
     "text": [
      "torch.Size([32, 64, 128, 128])\n",
      "torch.Size([32, 128, 64, 64])\n",
      "torch.Size([32, 256, 32, 32])\n",
      "torch.Size([32, 512, 16, 16])\n",
      "torch.Size([32, 1024, 8, 8])\n",
      "torch.Size([32, 512, 16, 16])\n",
      "torch.Size([32, 256, 32, 32])\n",
      "torch.Size([32, 128, 64, 64])\n",
      "torch.Size([32, 64, 128, 128])\n"
     ]
    },
    {
     "name": "stderr",
     "output_type": "stream",
     "text": [
      " 39%|███▉      | 9/23 [04:40<07:17, 31.22s/it]"
     ]
    },
    {
     "name": "stdout",
     "output_type": "stream",
     "text": [
      "torch.Size([32, 64, 128, 128])\n",
      "torch.Size([32, 128, 64, 64])\n",
      "torch.Size([32, 256, 32, 32])\n",
      "torch.Size([32, 512, 16, 16])\n",
      "torch.Size([32, 1024, 8, 8])\n",
      "torch.Size([32, 512, 16, 16])\n",
      "torch.Size([32, 256, 32, 32])\n",
      "torch.Size([32, 128, 64, 64])\n",
      "torch.Size([32, 64, 128, 128])\n"
     ]
    },
    {
     "name": "stderr",
     "output_type": "stream",
     "text": [
      " 43%|████▎     | 10/23 [05:11<06:44, 31.13s/it]"
     ]
    },
    {
     "name": "stdout",
     "output_type": "stream",
     "text": [
      "torch.Size([32, 64, 128, 128])\n",
      "torch.Size([32, 128, 64, 64])\n",
      "torch.Size([32, 256, 32, 32])\n",
      "torch.Size([32, 512, 16, 16])\n",
      "torch.Size([32, 1024, 8, 8])\n",
      "torch.Size([32, 512, 16, 16])\n",
      "torch.Size([32, 256, 32, 32])\n",
      "torch.Size([32, 128, 64, 64])\n",
      "torch.Size([32, 64, 128, 128])\n"
     ]
    },
    {
     "name": "stderr",
     "output_type": "stream",
     "text": [
      " 48%|████▊     | 11/23 [05:42<06:12, 31.07s/it]"
     ]
    },
    {
     "name": "stdout",
     "output_type": "stream",
     "text": [
      "torch.Size([32, 64, 128, 128])\n",
      "torch.Size([32, 128, 64, 64])\n",
      "torch.Size([32, 256, 32, 32])\n",
      "torch.Size([32, 512, 16, 16])\n",
      "torch.Size([32, 1024, 8, 8])\n",
      "torch.Size([32, 512, 16, 16])\n",
      "torch.Size([32, 256, 32, 32])\n",
      "torch.Size([32, 128, 64, 64])\n",
      "torch.Size([32, 64, 128, 128])\n"
     ]
    },
    {
     "name": "stderr",
     "output_type": "stream",
     "text": [
      " 52%|█████▏    | 12/23 [06:12<05:41, 31.03s/it]"
     ]
    },
    {
     "name": "stdout",
     "output_type": "stream",
     "text": [
      "torch.Size([32, 64, 128, 128])\n",
      "torch.Size([32, 128, 64, 64])\n",
      "torch.Size([32, 256, 32, 32])\n",
      "torch.Size([32, 512, 16, 16])\n",
      "torch.Size([32, 1024, 8, 8])\n",
      "torch.Size([32, 512, 16, 16])\n",
      "torch.Size([32, 256, 32, 32])\n",
      "torch.Size([32, 128, 64, 64])\n",
      "torch.Size([32, 64, 128, 128])\n"
     ]
    },
    {
     "name": "stderr",
     "output_type": "stream",
     "text": [
      " 57%|█████▋    | 13/23 [06:43<05:09, 30.97s/it]"
     ]
    },
    {
     "name": "stdout",
     "output_type": "stream",
     "text": [
      "torch.Size([32, 64, 128, 128])\n",
      "torch.Size([32, 128, 64, 64])\n",
      "torch.Size([32, 256, 32, 32])\n",
      "torch.Size([32, 512, 16, 16])\n",
      "torch.Size([32, 1024, 8, 8])\n",
      "torch.Size([32, 512, 16, 16])\n",
      "torch.Size([32, 256, 32, 32])\n",
      "torch.Size([32, 128, 64, 64])\n",
      "torch.Size([32, 64, 128, 128])\n"
     ]
    },
    {
     "name": "stderr",
     "output_type": "stream",
     "text": [
      " 61%|██████    | 14/23 [07:14<04:38, 30.93s/it]"
     ]
    },
    {
     "name": "stdout",
     "output_type": "stream",
     "text": [
      "torch.Size([32, 64, 128, 128])\n",
      "torch.Size([32, 128, 64, 64])\n",
      "torch.Size([32, 256, 32, 32])\n",
      "torch.Size([32, 512, 16, 16])\n",
      "torch.Size([32, 1024, 8, 8])\n",
      "torch.Size([32, 512, 16, 16])\n",
      "torch.Size([32, 256, 32, 32])\n",
      "torch.Size([32, 128, 64, 64])\n",
      "torch.Size([32, 64, 128, 128])\n"
     ]
    },
    {
     "name": "stderr",
     "output_type": "stream",
     "text": [
      " 65%|██████▌   | 15/23 [07:45<04:07, 30.98s/it]"
     ]
    },
    {
     "name": "stdout",
     "output_type": "stream",
     "text": [
      "torch.Size([32, 64, 128, 128])\n",
      "torch.Size([32, 128, 64, 64])\n",
      "torch.Size([32, 256, 32, 32])\n",
      "torch.Size([32, 512, 16, 16])\n",
      "torch.Size([32, 1024, 8, 8])\n",
      "torch.Size([32, 512, 16, 16])\n",
      "torch.Size([32, 256, 32, 32])\n",
      "torch.Size([32, 128, 64, 64])\n",
      "torch.Size([32, 64, 128, 128])\n"
     ]
    },
    {
     "name": "stderr",
     "output_type": "stream",
     "text": [
      " 70%|██████▉   | 16/23 [08:16<03:37, 31.06s/it]"
     ]
    },
    {
     "name": "stdout",
     "output_type": "stream",
     "text": [
      "torch.Size([32, 64, 128, 128])\n",
      "torch.Size([32, 128, 64, 64])\n",
      "torch.Size([32, 256, 32, 32])\n",
      "torch.Size([32, 512, 16, 16])\n",
      "torch.Size([32, 1024, 8, 8])\n",
      "torch.Size([32, 512, 16, 16])\n",
      "torch.Size([32, 256, 32, 32])\n",
      "torch.Size([32, 128, 64, 64])\n",
      "torch.Size([32, 64, 128, 128])\n"
     ]
    },
    {
     "name": "stderr",
     "output_type": "stream",
     "text": [
      " 74%|███████▍  | 17/23 [08:48<03:06, 31.05s/it]"
     ]
    },
    {
     "name": "stdout",
     "output_type": "stream",
     "text": [
      "torch.Size([32, 64, 128, 128])\n",
      "torch.Size([32, 128, 64, 64])\n",
      "torch.Size([32, 256, 32, 32])\n",
      "torch.Size([32, 512, 16, 16])\n",
      "torch.Size([32, 1024, 8, 8])\n",
      "torch.Size([32, 512, 16, 16])\n",
      "torch.Size([32, 256, 32, 32])\n",
      "torch.Size([32, 128, 64, 64])\n",
      "torch.Size([32, 64, 128, 128])\n"
     ]
    },
    {
     "name": "stderr",
     "output_type": "stream",
     "text": [
      " 78%|███████▊  | 18/23 [09:19<02:35, 31.03s/it]"
     ]
    },
    {
     "name": "stdout",
     "output_type": "stream",
     "text": [
      "torch.Size([32, 64, 128, 128])\n",
      "torch.Size([32, 128, 64, 64])\n",
      "torch.Size([32, 256, 32, 32])\n",
      "torch.Size([32, 512, 16, 16])\n",
      "torch.Size([32, 1024, 8, 8])\n",
      "torch.Size([32, 512, 16, 16])\n",
      "torch.Size([32, 256, 32, 32])\n",
      "torch.Size([32, 128, 64, 64])\n",
      "torch.Size([32, 64, 128, 128])\n"
     ]
    },
    {
     "name": "stderr",
     "output_type": "stream",
     "text": [
      " 83%|████████▎ | 19/23 [09:49<02:03, 30.98s/it]"
     ]
    },
    {
     "name": "stdout",
     "output_type": "stream",
     "text": [
      "torch.Size([32, 64, 128, 128])\n",
      "torch.Size([32, 128, 64, 64])\n",
      "torch.Size([32, 256, 32, 32])\n",
      "torch.Size([32, 512, 16, 16])\n",
      "torch.Size([32, 1024, 8, 8])\n",
      "torch.Size([32, 512, 16, 16])\n",
      "torch.Size([32, 256, 32, 32])\n",
      "torch.Size([32, 128, 64, 64])\n",
      "torch.Size([32, 64, 128, 128])\n"
     ]
    },
    {
     "name": "stderr",
     "output_type": "stream",
     "text": [
      " 87%|████████▋ | 20/23 [10:20<01:32, 30.95s/it]"
     ]
    },
    {
     "name": "stdout",
     "output_type": "stream",
     "text": [
      "torch.Size([32, 64, 128, 128])\n",
      "torch.Size([32, 128, 64, 64])\n",
      "torch.Size([32, 256, 32, 32])\n",
      "torch.Size([32, 512, 16, 16])\n",
      "torch.Size([32, 1024, 8, 8])\n",
      "torch.Size([32, 512, 16, 16])\n",
      "torch.Size([32, 256, 32, 32])\n",
      "torch.Size([32, 128, 64, 64])\n",
      "torch.Size([32, 64, 128, 128])\n"
     ]
    },
    {
     "name": "stderr",
     "output_type": "stream",
     "text": [
      " 91%|█████████▏| 21/23 [10:51<01:02, 31.01s/it]"
     ]
    },
    {
     "name": "stdout",
     "output_type": "stream",
     "text": [
      "torch.Size([32, 64, 128, 128])\n",
      "torch.Size([32, 128, 64, 64])\n",
      "torch.Size([32, 256, 32, 32])\n",
      "torch.Size([32, 512, 16, 16])\n",
      "torch.Size([32, 1024, 8, 8])\n",
      "torch.Size([32, 512, 16, 16])\n",
      "torch.Size([32, 256, 32, 32])\n",
      "torch.Size([32, 128, 64, 64])\n",
      "torch.Size([32, 64, 128, 128])\n"
     ]
    },
    {
     "name": "stderr",
     "output_type": "stream",
     "text": [
      " 96%|█████████▌| 22/23 [11:22<00:30, 30.96s/it]"
     ]
    },
    {
     "name": "stdout",
     "output_type": "stream",
     "text": [
      "torch.Size([16, 64, 128, 128])\n",
      "torch.Size([16, 128, 64, 64])\n",
      "torch.Size([16, 256, 32, 32])\n",
      "torch.Size([16, 512, 16, 16])\n",
      "torch.Size([16, 1024, 8, 8])\n",
      "torch.Size([16, 512, 16, 16])\n",
      "torch.Size([16, 256, 32, 32])\n",
      "torch.Size([16, 128, 64, 64])\n",
      "torch.Size([16, 64, 128, 128])\n"
     ]
    },
    {
     "name": "stderr",
     "output_type": "stream",
     "text": [
      "100%|██████████| 23/23 [11:38<00:00, 30.35s/it]\n",
      "  0%|          | 0/2 [00:00<?, ?it/s]"
     ]
    },
    {
     "name": "stdout",
     "output_type": "stream",
     "text": [
      "torch.Size([32, 64, 128, 128])\n",
      "torch.Size([32, 128, 64, 64])\n",
      "torch.Size([32, 256, 32, 32])\n",
      "torch.Size([32, 512, 16, 16])\n",
      "torch.Size([32, 1024, 8, 8])\n",
      "torch.Size([32, 512, 16, 16])\n",
      "torch.Size([32, 256, 32, 32])\n",
      "torch.Size([32, 128, 64, 64])\n"
     ]
    },
    {
     "name": "stderr",
     "output_type": "stream",
     "text": [
      " 50%|█████     | 1/2 [00:10<00:10, 10.61s/it]"
     ]
    },
    {
     "name": "stdout",
     "output_type": "stream",
     "text": [
      "torch.Size([32, 64, 128, 128])\n",
      "torch.Size([28, 64, 128, 128])\n",
      "torch.Size([28, 128, 64, 64])\n",
      "torch.Size([28, 256, 32, 32])\n",
      "torch.Size([28, 512, 16, 16])\n",
      "torch.Size([28, 1024, 8, 8])\n",
      "torch.Size([28, 512, 16, 16])\n",
      "torch.Size([28, 256, 32, 32])\n",
      "torch.Size([28, 128, 64, 64])\n"
     ]
    },
    {
     "name": "stderr",
     "output_type": "stream",
     "text": [
      "100%|██████████| 2/2 [00:20<00:00, 10.12s/it]\n"
     ]
    },
    {
     "name": "stdout",
     "output_type": "stream",
     "text": [
      "torch.Size([28, 64, 128, 128])\n",
      "Train Loss: 0.3343 | Val Loss: 0.3529\n",
      "\n",
      "Epoch 7/20\n"
     ]
    },
    {
     "name": "stderr",
     "output_type": "stream",
     "text": [
      "  0%|          | 0/23 [00:00<?, ?it/s]"
     ]
    },
    {
     "name": "stdout",
     "output_type": "stream",
     "text": [
      "torch.Size([32, 64, 128, 128])\n",
      "torch.Size([32, 128, 64, 64])\n",
      "torch.Size([32, 256, 32, 32])\n",
      "torch.Size([32, 512, 16, 16])\n",
      "torch.Size([32, 1024, 8, 8])\n",
      "torch.Size([32, 512, 16, 16])\n",
      "torch.Size([32, 256, 32, 32])\n",
      "torch.Size([32, 128, 64, 64])\n",
      "torch.Size([32, 64, 128, 128])\n"
     ]
    },
    {
     "name": "stderr",
     "output_type": "stream",
     "text": [
      "  4%|▍         | 1/23 [00:30<11:14, 30.66s/it]"
     ]
    },
    {
     "name": "stdout",
     "output_type": "stream",
     "text": [
      "torch.Size([32, 64, 128, 128])\n",
      "torch.Size([32, 128, 64, 64])\n",
      "torch.Size([32, 256, 32, 32])\n",
      "torch.Size([32, 512, 16, 16])\n",
      "torch.Size([32, 1024, 8, 8])\n",
      "torch.Size([32, 512, 16, 16])\n",
      "torch.Size([32, 256, 32, 32])\n",
      "torch.Size([32, 128, 64, 64])\n",
      "torch.Size([32, 64, 128, 128])\n"
     ]
    },
    {
     "name": "stderr",
     "output_type": "stream",
     "text": [
      "  9%|▊         | 2/23 [01:01<10:46, 30.77s/it]"
     ]
    },
    {
     "name": "stdout",
     "output_type": "stream",
     "text": [
      "torch.Size([32, 64, 128, 128])\n",
      "torch.Size([32, 128, 64, 64])\n",
      "torch.Size([32, 256, 32, 32])\n",
      "torch.Size([32, 512, 16, 16])\n",
      "torch.Size([32, 1024, 8, 8])\n",
      "torch.Size([32, 512, 16, 16])\n",
      "torch.Size([32, 256, 32, 32])\n",
      "torch.Size([32, 128, 64, 64])\n",
      "torch.Size([32, 64, 128, 128])\n"
     ]
    },
    {
     "name": "stderr",
     "output_type": "stream",
     "text": [
      " 13%|█▎        | 3/23 [01:32<10:18, 30.95s/it]"
     ]
    },
    {
     "name": "stdout",
     "output_type": "stream",
     "text": [
      "torch.Size([32, 64, 128, 128])\n",
      "torch.Size([32, 128, 64, 64])\n",
      "torch.Size([32, 256, 32, 32])\n",
      "torch.Size([32, 512, 16, 16])\n",
      "torch.Size([32, 1024, 8, 8])\n",
      "torch.Size([32, 512, 16, 16])\n",
      "torch.Size([32, 256, 32, 32])\n",
      "torch.Size([32, 128, 64, 64])\n",
      "torch.Size([32, 64, 128, 128])\n"
     ]
    },
    {
     "name": "stderr",
     "output_type": "stream",
     "text": [
      " 17%|█▋        | 4/23 [02:03<09:47, 30.93s/it]"
     ]
    },
    {
     "name": "stdout",
     "output_type": "stream",
     "text": [
      "torch.Size([32, 64, 128, 128])\n",
      "torch.Size([32, 128, 64, 64])\n",
      "torch.Size([32, 256, 32, 32])\n",
      "torch.Size([32, 512, 16, 16])\n",
      "torch.Size([32, 1024, 8, 8])\n",
      "torch.Size([32, 512, 16, 16])\n",
      "torch.Size([32, 256, 32, 32])\n",
      "torch.Size([32, 128, 64, 64])\n",
      "torch.Size([32, 64, 128, 128])\n"
     ]
    },
    {
     "name": "stderr",
     "output_type": "stream",
     "text": [
      " 22%|██▏       | 5/23 [02:34<09:18, 31.05s/it]"
     ]
    },
    {
     "name": "stdout",
     "output_type": "stream",
     "text": [
      "torch.Size([32, 64, 128, 128])\n",
      "torch.Size([32, 128, 64, 64])\n",
      "torch.Size([32, 256, 32, 32])\n",
      "torch.Size([32, 512, 16, 16])\n",
      "torch.Size([32, 1024, 8, 8])\n",
      "torch.Size([32, 512, 16, 16])\n",
      "torch.Size([32, 256, 32, 32])\n",
      "torch.Size([32, 128, 64, 64])\n",
      "torch.Size([32, 64, 128, 128])\n"
     ]
    },
    {
     "name": "stderr",
     "output_type": "stream",
     "text": [
      " 26%|██▌       | 6/23 [03:05<08:47, 31.05s/it]"
     ]
    },
    {
     "name": "stdout",
     "output_type": "stream",
     "text": [
      "torch.Size([32, 64, 128, 128])\n",
      "torch.Size([32, 128, 64, 64])\n",
      "torch.Size([32, 256, 32, 32])\n",
      "torch.Size([32, 512, 16, 16])\n",
      "torch.Size([32, 1024, 8, 8])\n",
      "torch.Size([32, 512, 16, 16])\n",
      "torch.Size([32, 256, 32, 32])\n",
      "torch.Size([32, 128, 64, 64])\n",
      "torch.Size([32, 64, 128, 128])\n"
     ]
    },
    {
     "name": "stderr",
     "output_type": "stream",
     "text": [
      " 30%|███       | 7/23 [03:37<08:17, 31.11s/it]"
     ]
    },
    {
     "name": "stdout",
     "output_type": "stream",
     "text": [
      "torch.Size([32, 64, 128, 128])\n",
      "torch.Size([32, 128, 64, 64])\n",
      "torch.Size([32, 256, 32, 32])\n",
      "torch.Size([32, 512, 16, 16])\n",
      "torch.Size([32, 1024, 8, 8])\n",
      "torch.Size([32, 512, 16, 16])\n",
      "torch.Size([32, 256, 32, 32])\n",
      "torch.Size([32, 128, 64, 64])\n",
      "torch.Size([32, 64, 128, 128])\n"
     ]
    },
    {
     "name": "stderr",
     "output_type": "stream",
     "text": [
      " 35%|███▍      | 8/23 [04:07<07:43, 30.92s/it]"
     ]
    },
    {
     "name": "stdout",
     "output_type": "stream",
     "text": [
      "torch.Size([32, 64, 128, 128])\n",
      "torch.Size([32, 128, 64, 64])\n",
      "torch.Size([32, 256, 32, 32])\n",
      "torch.Size([32, 512, 16, 16])\n",
      "torch.Size([32, 1024, 8, 8])\n",
      "torch.Size([32, 512, 16, 16])\n",
      "torch.Size([32, 256, 32, 32])\n",
      "torch.Size([32, 128, 64, 64])\n",
      "torch.Size([32, 64, 128, 128])\n"
     ]
    },
    {
     "name": "stderr",
     "output_type": "stream",
     "text": [
      " 39%|███▉      | 9/23 [04:38<07:13, 30.96s/it]"
     ]
    },
    {
     "name": "stdout",
     "output_type": "stream",
     "text": [
      "torch.Size([32, 64, 128, 128])\n",
      "torch.Size([32, 128, 64, 64])\n",
      "torch.Size([32, 256, 32, 32])\n",
      "torch.Size([32, 512, 16, 16])\n",
      "torch.Size([32, 1024, 8, 8])\n",
      "torch.Size([32, 512, 16, 16])\n",
      "torch.Size([32, 256, 32, 32])\n",
      "torch.Size([32, 128, 64, 64])\n",
      "torch.Size([32, 64, 128, 128])\n"
     ]
    },
    {
     "name": "stderr",
     "output_type": "stream",
     "text": [
      " 43%|████▎     | 10/23 [05:09<06:41, 30.90s/it]"
     ]
    },
    {
     "name": "stdout",
     "output_type": "stream",
     "text": [
      "torch.Size([32, 64, 128, 128])\n",
      "torch.Size([32, 128, 64, 64])\n",
      "torch.Size([32, 256, 32, 32])\n",
      "torch.Size([32, 512, 16, 16])\n",
      "torch.Size([32, 1024, 8, 8])\n",
      "torch.Size([32, 512, 16, 16])\n",
      "torch.Size([32, 256, 32, 32])\n",
      "torch.Size([32, 128, 64, 64])\n",
      "torch.Size([32, 64, 128, 128])\n"
     ]
    },
    {
     "name": "stderr",
     "output_type": "stream",
     "text": [
      " 48%|████▊     | 11/23 [05:40<06:10, 30.86s/it]"
     ]
    },
    {
     "name": "stdout",
     "output_type": "stream",
     "text": [
      "torch.Size([32, 64, 128, 128])\n",
      "torch.Size([32, 128, 64, 64])\n",
      "torch.Size([32, 256, 32, 32])\n",
      "torch.Size([32, 512, 16, 16])\n",
      "torch.Size([32, 1024, 8, 8])\n",
      "torch.Size([32, 512, 16, 16])\n",
      "torch.Size([32, 256, 32, 32])\n",
      "torch.Size([32, 128, 64, 64])\n",
      "torch.Size([32, 64, 128, 128])\n"
     ]
    },
    {
     "name": "stderr",
     "output_type": "stream",
     "text": [
      " 52%|█████▏    | 12/23 [06:10<05:39, 30.82s/it]"
     ]
    },
    {
     "name": "stdout",
     "output_type": "stream",
     "text": [
      "torch.Size([32, 64, 128, 128])\n",
      "torch.Size([32, 128, 64, 64])\n",
      "torch.Size([32, 256, 32, 32])\n",
      "torch.Size([32, 512, 16, 16])\n",
      "torch.Size([32, 1024, 8, 8])\n",
      "torch.Size([32, 512, 16, 16])\n",
      "torch.Size([32, 256, 32, 32])\n",
      "torch.Size([32, 128, 64, 64])\n",
      "torch.Size([32, 64, 128, 128])\n"
     ]
    },
    {
     "name": "stderr",
     "output_type": "stream",
     "text": [
      " 57%|█████▋    | 13/23 [06:41<05:08, 30.83s/it]"
     ]
    },
    {
     "name": "stdout",
     "output_type": "stream",
     "text": [
      "torch.Size([32, 64, 128, 128])\n",
      "torch.Size([32, 128, 64, 64])\n",
      "torch.Size([32, 256, 32, 32])\n",
      "torch.Size([32, 512, 16, 16])\n",
      "torch.Size([32, 1024, 8, 8])\n",
      "torch.Size([32, 512, 16, 16])\n",
      "torch.Size([32, 256, 32, 32])\n",
      "torch.Size([32, 128, 64, 64])\n",
      "torch.Size([32, 64, 128, 128])\n"
     ]
    },
    {
     "name": "stderr",
     "output_type": "stream",
     "text": [
      " 61%|██████    | 14/23 [07:12<04:37, 30.80s/it]"
     ]
    },
    {
     "name": "stdout",
     "output_type": "stream",
     "text": [
      "torch.Size([32, 64, 128, 128])\n",
      "torch.Size([32, 128, 64, 64])\n",
      "torch.Size([32, 256, 32, 32])\n",
      "torch.Size([32, 512, 16, 16])\n",
      "torch.Size([32, 1024, 8, 8])\n",
      "torch.Size([32, 512, 16, 16])\n",
      "torch.Size([32, 256, 32, 32])\n",
      "torch.Size([32, 128, 64, 64])\n",
      "torch.Size([32, 64, 128, 128])\n"
     ]
    },
    {
     "name": "stderr",
     "output_type": "stream",
     "text": [
      " 65%|██████▌   | 15/23 [07:43<04:06, 30.83s/it]"
     ]
    },
    {
     "name": "stdout",
     "output_type": "stream",
     "text": [
      "torch.Size([32, 64, 128, 128])\n",
      "torch.Size([32, 128, 64, 64])\n",
      "torch.Size([32, 256, 32, 32])\n",
      "torch.Size([32, 512, 16, 16])\n",
      "torch.Size([32, 1024, 8, 8])\n",
      "torch.Size([32, 512, 16, 16])\n",
      "torch.Size([32, 256, 32, 32])\n",
      "torch.Size([32, 128, 64, 64])\n",
      "torch.Size([32, 64, 128, 128])\n"
     ]
    },
    {
     "name": "stderr",
     "output_type": "stream",
     "text": [
      " 70%|██████▉   | 16/23 [08:14<03:37, 31.01s/it]"
     ]
    },
    {
     "name": "stdout",
     "output_type": "stream",
     "text": [
      "torch.Size([32, 64, 128, 128])\n",
      "torch.Size([32, 128, 64, 64])\n",
      "torch.Size([32, 256, 32, 32])\n",
      "torch.Size([32, 512, 16, 16])\n",
      "torch.Size([32, 1024, 8, 8])\n",
      "torch.Size([32, 512, 16, 16])\n",
      "torch.Size([32, 256, 32, 32])\n",
      "torch.Size([32, 128, 64, 64])\n",
      "torch.Size([32, 64, 128, 128])\n"
     ]
    },
    {
     "name": "stderr",
     "output_type": "stream",
     "text": [
      " 74%|███████▍  | 17/23 [08:45<03:05, 30.92s/it]"
     ]
    },
    {
     "name": "stdout",
     "output_type": "stream",
     "text": [
      "torch.Size([32, 64, 128, 128])\n",
      "torch.Size([32, 128, 64, 64])\n",
      "torch.Size([32, 256, 32, 32])\n",
      "torch.Size([32, 512, 16, 16])\n",
      "torch.Size([32, 1024, 8, 8])\n",
      "torch.Size([32, 512, 16, 16])\n",
      "torch.Size([32, 256, 32, 32])\n",
      "torch.Size([32, 128, 64, 64])\n",
      "torch.Size([32, 64, 128, 128])\n"
     ]
    },
    {
     "name": "stderr",
     "output_type": "stream",
     "text": [
      " 78%|███████▊  | 18/23 [09:16<02:34, 30.91s/it]"
     ]
    },
    {
     "name": "stdout",
     "output_type": "stream",
     "text": [
      "torch.Size([32, 64, 128, 128])\n",
      "torch.Size([32, 128, 64, 64])\n",
      "torch.Size([32, 256, 32, 32])\n",
      "torch.Size([32, 512, 16, 16])\n",
      "torch.Size([32, 1024, 8, 8])\n",
      "torch.Size([32, 512, 16, 16])\n",
      "torch.Size([32, 256, 32, 32])\n",
      "torch.Size([32, 128, 64, 64])\n",
      "torch.Size([32, 64, 128, 128])\n"
     ]
    },
    {
     "name": "stderr",
     "output_type": "stream",
     "text": [
      " 83%|████████▎ | 19/23 [09:47<02:03, 30.96s/it]"
     ]
    },
    {
     "name": "stdout",
     "output_type": "stream",
     "text": [
      "torch.Size([32, 64, 128, 128])\n",
      "torch.Size([32, 128, 64, 64])\n",
      "torch.Size([32, 256, 32, 32])\n",
      "torch.Size([32, 512, 16, 16])\n",
      "torch.Size([32, 1024, 8, 8])\n",
      "torch.Size([32, 512, 16, 16])\n",
      "torch.Size([32, 256, 32, 32])\n",
      "torch.Size([32, 128, 64, 64])\n",
      "torch.Size([32, 64, 128, 128])\n"
     ]
    },
    {
     "name": "stderr",
     "output_type": "stream",
     "text": [
      " 87%|████████▋ | 20/23 [10:18<01:33, 31.03s/it]"
     ]
    },
    {
     "name": "stdout",
     "output_type": "stream",
     "text": [
      "torch.Size([32, 64, 128, 128])\n",
      "torch.Size([32, 128, 64, 64])\n",
      "torch.Size([32, 256, 32, 32])\n",
      "torch.Size([32, 512, 16, 16])\n",
      "torch.Size([32, 1024, 8, 8])\n",
      "torch.Size([32, 512, 16, 16])\n",
      "torch.Size([32, 256, 32, 32])\n",
      "torch.Size([32, 128, 64, 64])\n",
      "torch.Size([32, 64, 128, 128])\n"
     ]
    },
    {
     "name": "stderr",
     "output_type": "stream",
     "text": [
      " 91%|█████████▏| 21/23 [10:49<01:01, 30.97s/it]"
     ]
    },
    {
     "name": "stdout",
     "output_type": "stream",
     "text": [
      "torch.Size([32, 64, 128, 128])\n",
      "torch.Size([32, 128, 64, 64])\n",
      "torch.Size([32, 256, 32, 32])\n",
      "torch.Size([32, 512, 16, 16])\n",
      "torch.Size([32, 1024, 8, 8])\n",
      "torch.Size([32, 512, 16, 16])\n",
      "torch.Size([32, 256, 32, 32])\n",
      "torch.Size([32, 128, 64, 64])\n",
      "torch.Size([32, 64, 128, 128])\n"
     ]
    },
    {
     "name": "stderr",
     "output_type": "stream",
     "text": [
      " 96%|█████████▌| 22/23 [11:20<00:30, 30.95s/it]"
     ]
    },
    {
     "name": "stdout",
     "output_type": "stream",
     "text": [
      "torch.Size([16, 64, 128, 128])\n",
      "torch.Size([16, 128, 64, 64])\n",
      "torch.Size([16, 256, 32, 32])\n",
      "torch.Size([16, 512, 16, 16])\n",
      "torch.Size([16, 1024, 8, 8])\n",
      "torch.Size([16, 512, 16, 16])\n",
      "torch.Size([16, 256, 32, 32])\n",
      "torch.Size([16, 128, 64, 64])\n",
      "torch.Size([16, 64, 128, 128])\n"
     ]
    },
    {
     "name": "stderr",
     "output_type": "stream",
     "text": [
      "100%|██████████| 23/23 [11:36<00:00, 30.26s/it]\n",
      "  0%|          | 0/2 [00:00<?, ?it/s]"
     ]
    },
    {
     "name": "stdout",
     "output_type": "stream",
     "text": [
      "torch.Size([32, 64, 128, 128])\n",
      "torch.Size([32, 128, 64, 64])\n",
      "torch.Size([32, 256, 32, 32])\n",
      "torch.Size([32, 512, 16, 16])\n",
      "torch.Size([32, 1024, 8, 8])\n",
      "torch.Size([32, 512, 16, 16])\n",
      "torch.Size([32, 256, 32, 32])\n",
      "torch.Size([32, 128, 64, 64])\n"
     ]
    },
    {
     "name": "stderr",
     "output_type": "stream",
     "text": [
      " 50%|█████     | 1/2 [00:10<00:10, 10.76s/it]"
     ]
    },
    {
     "name": "stdout",
     "output_type": "stream",
     "text": [
      "torch.Size([32, 64, 128, 128])\n",
      "torch.Size([28, 64, 128, 128])\n",
      "torch.Size([28, 128, 64, 64])\n",
      "torch.Size([28, 256, 32, 32])\n",
      "torch.Size([28, 512, 16, 16])\n",
      "torch.Size([28, 1024, 8, 8])\n",
      "torch.Size([28, 512, 16, 16])\n",
      "torch.Size([28, 256, 32, 32])\n",
      "torch.Size([28, 128, 64, 64])\n"
     ]
    },
    {
     "name": "stderr",
     "output_type": "stream",
     "text": [
      "100%|██████████| 2/2 [00:20<00:00, 10.12s/it]\n"
     ]
    },
    {
     "name": "stdout",
     "output_type": "stream",
     "text": [
      "torch.Size([28, 64, 128, 128])\n",
      "Train Loss: 0.3247 | Val Loss: 0.3376\n",
      "\n",
      "Epoch 8/20\n"
     ]
    },
    {
     "name": "stderr",
     "output_type": "stream",
     "text": [
      "  0%|          | 0/23 [00:00<?, ?it/s]"
     ]
    },
    {
     "name": "stdout",
     "output_type": "stream",
     "text": [
      "torch.Size([32, 64, 128, 128])\n",
      "torch.Size([32, 128, 64, 64])\n",
      "torch.Size([32, 256, 32, 32])\n",
      "torch.Size([32, 512, 16, 16])\n",
      "torch.Size([32, 1024, 8, 8])\n",
      "torch.Size([32, 512, 16, 16])\n",
      "torch.Size([32, 256, 32, 32])\n",
      "torch.Size([32, 128, 64, 64])\n",
      "torch.Size([32, 64, 128, 128])\n"
     ]
    },
    {
     "name": "stderr",
     "output_type": "stream",
     "text": [
      "  4%|▍         | 1/23 [00:31<11:33, 31.53s/it]"
     ]
    },
    {
     "name": "stdout",
     "output_type": "stream",
     "text": [
      "torch.Size([32, 64, 128, 128])\n",
      "torch.Size([32, 128, 64, 64])\n",
      "torch.Size([32, 256, 32, 32])\n",
      "torch.Size([32, 512, 16, 16])\n",
      "torch.Size([32, 1024, 8, 8])\n",
      "torch.Size([32, 512, 16, 16])\n",
      "torch.Size([32, 256, 32, 32])\n",
      "torch.Size([32, 128, 64, 64])\n",
      "torch.Size([32, 64, 128, 128])\n"
     ]
    },
    {
     "name": "stderr",
     "output_type": "stream",
     "text": [
      "  9%|▊         | 2/23 [01:03<11:07, 31.80s/it]"
     ]
    },
    {
     "name": "stdout",
     "output_type": "stream",
     "text": [
      "torch.Size([32, 64, 128, 128])\n",
      "torch.Size([32, 128, 64, 64])\n",
      "torch.Size([32, 256, 32, 32])\n",
      "torch.Size([32, 512, 16, 16])\n",
      "torch.Size([32, 1024, 8, 8])\n",
      "torch.Size([32, 512, 16, 16])\n",
      "torch.Size([32, 256, 32, 32])\n",
      "torch.Size([32, 128, 64, 64])\n",
      "torch.Size([32, 64, 128, 128])\n"
     ]
    },
    {
     "name": "stderr",
     "output_type": "stream",
     "text": [
      " 13%|█▎        | 3/23 [01:34<10:30, 31.51s/it]"
     ]
    },
    {
     "name": "stdout",
     "output_type": "stream",
     "text": [
      "torch.Size([32, 64, 128, 128])\n",
      "torch.Size([32, 128, 64, 64])\n",
      "torch.Size([32, 256, 32, 32])\n",
      "torch.Size([32, 512, 16, 16])\n",
      "torch.Size([32, 1024, 8, 8])\n",
      "torch.Size([32, 512, 16, 16])\n",
      "torch.Size([32, 256, 32, 32])\n",
      "torch.Size([32, 128, 64, 64])\n",
      "torch.Size([32, 64, 128, 128])\n"
     ]
    },
    {
     "name": "stderr",
     "output_type": "stream",
     "text": [
      " 17%|█▋        | 4/23 [02:06<09:59, 31.57s/it]"
     ]
    },
    {
     "name": "stdout",
     "output_type": "stream",
     "text": [
      "torch.Size([32, 64, 128, 128])\n",
      "torch.Size([32, 128, 64, 64])\n",
      "torch.Size([32, 256, 32, 32])\n",
      "torch.Size([32, 512, 16, 16])\n",
      "torch.Size([32, 1024, 8, 8])\n",
      "torch.Size([32, 512, 16, 16])\n",
      "torch.Size([32, 256, 32, 32])\n",
      "torch.Size([32, 128, 64, 64])\n",
      "torch.Size([32, 64, 128, 128])\n"
     ]
    },
    {
     "name": "stderr",
     "output_type": "stream",
     "text": [
      " 22%|██▏       | 5/23 [02:37<09:27, 31.54s/it]"
     ]
    },
    {
     "name": "stdout",
     "output_type": "stream",
     "text": [
      "torch.Size([32, 64, 128, 128])\n",
      "torch.Size([32, 128, 64, 64])\n",
      "torch.Size([32, 256, 32, 32])\n",
      "torch.Size([32, 512, 16, 16])\n",
      "torch.Size([32, 1024, 8, 8])\n",
      "torch.Size([32, 512, 16, 16])\n",
      "torch.Size([32, 256, 32, 32])\n",
      "torch.Size([32, 128, 64, 64])\n",
      "torch.Size([32, 64, 128, 128])\n"
     ]
    },
    {
     "name": "stderr",
     "output_type": "stream",
     "text": [
      " 26%|██▌       | 6/23 [03:08<08:51, 31.28s/it]"
     ]
    },
    {
     "name": "stdout",
     "output_type": "stream",
     "text": [
      "torch.Size([32, 64, 128, 128])\n",
      "torch.Size([32, 128, 64, 64])\n",
      "torch.Size([32, 256, 32, 32])\n",
      "torch.Size([32, 512, 16, 16])\n",
      "torch.Size([32, 1024, 8, 8])\n",
      "torch.Size([32, 512, 16, 16])\n",
      "torch.Size([32, 256, 32, 32])\n",
      "torch.Size([32, 128, 64, 64])\n",
      "torch.Size([32, 64, 128, 128])\n"
     ]
    },
    {
     "name": "stderr",
     "output_type": "stream",
     "text": [
      " 30%|███       | 7/23 [03:39<08:18, 31.14s/it]"
     ]
    },
    {
     "name": "stdout",
     "output_type": "stream",
     "text": [
      "torch.Size([32, 64, 128, 128])\n",
      "torch.Size([32, 128, 64, 64])\n",
      "torch.Size([32, 256, 32, 32])\n",
      "torch.Size([32, 512, 16, 16])\n",
      "torch.Size([32, 1024, 8, 8])\n",
      "torch.Size([32, 512, 16, 16])\n",
      "torch.Size([32, 256, 32, 32])\n",
      "torch.Size([32, 128, 64, 64])\n",
      "torch.Size([32, 64, 128, 128])\n"
     ]
    },
    {
     "name": "stderr",
     "output_type": "stream",
     "text": [
      " 35%|███▍      | 8/23 [04:10<07:46, 31.13s/it]"
     ]
    },
    {
     "name": "stdout",
     "output_type": "stream",
     "text": [
      "torch.Size([32, 64, 128, 128])\n",
      "torch.Size([32, 128, 64, 64])\n",
      "torch.Size([32, 256, 32, 32])\n",
      "torch.Size([32, 512, 16, 16])\n",
      "torch.Size([32, 1024, 8, 8])\n",
      "torch.Size([32, 512, 16, 16])\n",
      "torch.Size([32, 256, 32, 32])\n",
      "torch.Size([32, 128, 64, 64])\n",
      "torch.Size([32, 64, 128, 128])\n"
     ]
    },
    {
     "name": "stderr",
     "output_type": "stream",
     "text": [
      " 39%|███▉      | 9/23 [04:41<07:15, 31.09s/it]"
     ]
    },
    {
     "name": "stdout",
     "output_type": "stream",
     "text": [
      "torch.Size([32, 64, 128, 128])\n",
      "torch.Size([32, 128, 64, 64])\n",
      "torch.Size([32, 256, 32, 32])\n",
      "torch.Size([32, 512, 16, 16])\n",
      "torch.Size([32, 1024, 8, 8])\n",
      "torch.Size([32, 512, 16, 16])\n",
      "torch.Size([32, 256, 32, 32])\n",
      "torch.Size([32, 128, 64, 64])\n",
      "torch.Size([32, 64, 128, 128])\n"
     ]
    },
    {
     "name": "stderr",
     "output_type": "stream",
     "text": [
      " 43%|████▎     | 10/23 [05:13<06:46, 31.25s/it]"
     ]
    },
    {
     "name": "stdout",
     "output_type": "stream",
     "text": [
      "torch.Size([32, 64, 128, 128])\n",
      "torch.Size([32, 128, 64, 64])\n",
      "torch.Size([32, 256, 32, 32])\n",
      "torch.Size([32, 512, 16, 16])\n",
      "torch.Size([32, 1024, 8, 8])\n",
      "torch.Size([32, 512, 16, 16])\n",
      "torch.Size([32, 256, 32, 32])\n",
      "torch.Size([32, 128, 64, 64])\n",
      "torch.Size([32, 64, 128, 128])\n"
     ]
    },
    {
     "name": "stderr",
     "output_type": "stream",
     "text": [
      " 48%|████▊     | 11/23 [05:44<06:15, 31.31s/it]"
     ]
    },
    {
     "name": "stdout",
     "output_type": "stream",
     "text": [
      "torch.Size([32, 64, 128, 128])\n",
      "torch.Size([32, 128, 64, 64])\n",
      "torch.Size([32, 256, 32, 32])\n",
      "torch.Size([32, 512, 16, 16])\n",
      "torch.Size([32, 1024, 8, 8])\n",
      "torch.Size([32, 512, 16, 16])\n",
      "torch.Size([32, 256, 32, 32])\n",
      "torch.Size([32, 128, 64, 64])\n",
      "torch.Size([32, 64, 128, 128])\n"
     ]
    },
    {
     "name": "stderr",
     "output_type": "stream",
     "text": [
      " 52%|█████▏    | 12/23 [06:15<05:43, 31.26s/it]"
     ]
    },
    {
     "name": "stdout",
     "output_type": "stream",
     "text": [
      "torch.Size([32, 64, 128, 128])\n",
      "torch.Size([32, 128, 64, 64])\n",
      "torch.Size([32, 256, 32, 32])\n",
      "torch.Size([32, 512, 16, 16])\n",
      "torch.Size([32, 1024, 8, 8])\n",
      "torch.Size([32, 512, 16, 16])\n",
      "torch.Size([32, 256, 32, 32])\n",
      "torch.Size([32, 128, 64, 64])\n",
      "torch.Size([32, 64, 128, 128])\n"
     ]
    },
    {
     "name": "stderr",
     "output_type": "stream",
     "text": [
      " 57%|█████▋    | 13/23 [06:46<05:11, 31.16s/it]"
     ]
    },
    {
     "name": "stdout",
     "output_type": "stream",
     "text": [
      "torch.Size([32, 64, 128, 128])\n",
      "torch.Size([32, 128, 64, 64])\n",
      "torch.Size([32, 256, 32, 32])\n",
      "torch.Size([32, 512, 16, 16])\n",
      "torch.Size([32, 1024, 8, 8])\n",
      "torch.Size([32, 512, 16, 16])\n",
      "torch.Size([32, 256, 32, 32])\n",
      "torch.Size([32, 128, 64, 64])\n",
      "torch.Size([32, 64, 128, 128])\n"
     ]
    },
    {
     "name": "stderr",
     "output_type": "stream",
     "text": [
      " 61%|██████    | 14/23 [07:18<04:40, 31.21s/it]"
     ]
    },
    {
     "name": "stdout",
     "output_type": "stream",
     "text": [
      "torch.Size([32, 64, 128, 128])\n",
      "torch.Size([32, 128, 64, 64])\n",
      "torch.Size([32, 256, 32, 32])\n",
      "torch.Size([32, 512, 16, 16])\n",
      "torch.Size([32, 1024, 8, 8])\n",
      "torch.Size([32, 512, 16, 16])\n",
      "torch.Size([32, 256, 32, 32])\n",
      "torch.Size([32, 128, 64, 64])\n",
      "torch.Size([32, 64, 128, 128])\n"
     ]
    },
    {
     "name": "stderr",
     "output_type": "stream",
     "text": [
      " 65%|██████▌   | 15/23 [07:49<04:09, 31.19s/it]"
     ]
    },
    {
     "name": "stdout",
     "output_type": "stream",
     "text": [
      "torch.Size([32, 64, 128, 128])\n",
      "torch.Size([32, 128, 64, 64])\n",
      "torch.Size([32, 256, 32, 32])\n",
      "torch.Size([32, 512, 16, 16])\n",
      "torch.Size([32, 1024, 8, 8])\n",
      "torch.Size([32, 512, 16, 16])\n",
      "torch.Size([32, 256, 32, 32])\n",
      "torch.Size([32, 128, 64, 64])\n",
      "torch.Size([32, 64, 128, 128])\n"
     ]
    },
    {
     "name": "stderr",
     "output_type": "stream",
     "text": [
      " 70%|██████▉   | 16/23 [08:20<03:38, 31.28s/it]"
     ]
    },
    {
     "name": "stdout",
     "output_type": "stream",
     "text": [
      "torch.Size([32, 64, 128, 128])\n",
      "torch.Size([32, 128, 64, 64])\n",
      "torch.Size([32, 256, 32, 32])\n",
      "torch.Size([32, 512, 16, 16])\n",
      "torch.Size([32, 1024, 8, 8])\n",
      "torch.Size([32, 512, 16, 16])\n",
      "torch.Size([32, 256, 32, 32])\n",
      "torch.Size([32, 128, 64, 64])\n",
      "torch.Size([32, 64, 128, 128])\n"
     ]
    },
    {
     "name": "stderr",
     "output_type": "stream",
     "text": [
      " 74%|███████▍  | 17/23 [08:52<03:08, 31.33s/it]"
     ]
    },
    {
     "name": "stdout",
     "output_type": "stream",
     "text": [
      "torch.Size([32, 64, 128, 128])\n",
      "torch.Size([32, 128, 64, 64])\n",
      "torch.Size([32, 256, 32, 32])\n",
      "torch.Size([32, 512, 16, 16])\n",
      "torch.Size([32, 1024, 8, 8])\n",
      "torch.Size([32, 512, 16, 16])\n",
      "torch.Size([32, 256, 32, 32])\n",
      "torch.Size([32, 128, 64, 64])\n",
      "torch.Size([32, 64, 128, 128])\n"
     ]
    },
    {
     "name": "stderr",
     "output_type": "stream",
     "text": [
      " 78%|███████▊  | 18/23 [09:23<02:37, 31.44s/it]"
     ]
    },
    {
     "name": "stdout",
     "output_type": "stream",
     "text": [
      "torch.Size([32, 64, 128, 128])\n",
      "torch.Size([32, 128, 64, 64])\n",
      "torch.Size([32, 256, 32, 32])\n",
      "torch.Size([32, 512, 16, 16])\n",
      "torch.Size([32, 1024, 8, 8])\n",
      "torch.Size([32, 512, 16, 16])\n",
      "torch.Size([32, 256, 32, 32])\n",
      "torch.Size([32, 128, 64, 64])\n",
      "torch.Size([32, 64, 128, 128])\n"
     ]
    },
    {
     "name": "stderr",
     "output_type": "stream",
     "text": [
      " 83%|████████▎ | 19/23 [09:55<02:06, 31.61s/it]"
     ]
    },
    {
     "name": "stdout",
     "output_type": "stream",
     "text": [
      "torch.Size([32, 64, 128, 128])\n",
      "torch.Size([32, 128, 64, 64])\n",
      "torch.Size([32, 256, 32, 32])\n",
      "torch.Size([32, 512, 16, 16])\n",
      "torch.Size([32, 1024, 8, 8])\n",
      "torch.Size([32, 512, 16, 16])\n",
      "torch.Size([32, 256, 32, 32])\n",
      "torch.Size([32, 128, 64, 64])\n",
      "torch.Size([32, 64, 128, 128])\n"
     ]
    },
    {
     "name": "stderr",
     "output_type": "stream",
     "text": [
      " 87%|████████▋ | 20/23 [10:27<01:34, 31.62s/it]"
     ]
    },
    {
     "name": "stdout",
     "output_type": "stream",
     "text": [
      "torch.Size([32, 64, 128, 128])\n",
      "torch.Size([32, 128, 64, 64])\n",
      "torch.Size([32, 256, 32, 32])\n",
      "torch.Size([32, 512, 16, 16])\n",
      "torch.Size([32, 1024, 8, 8])\n",
      "torch.Size([32, 512, 16, 16])\n",
      "torch.Size([32, 256, 32, 32])\n",
      "torch.Size([32, 128, 64, 64])\n",
      "torch.Size([32, 64, 128, 128])\n"
     ]
    },
    {
     "name": "stderr",
     "output_type": "stream",
     "text": [
      " 91%|█████████▏| 21/23 [11:00<01:03, 31.92s/it]"
     ]
    },
    {
     "name": "stdout",
     "output_type": "stream",
     "text": [
      "torch.Size([32, 64, 128, 128])\n",
      "torch.Size([32, 128, 64, 64])\n",
      "torch.Size([32, 256, 32, 32])\n",
      "torch.Size([32, 512, 16, 16])\n",
      "torch.Size([32, 1024, 8, 8])\n",
      "torch.Size([32, 512, 16, 16])\n",
      "torch.Size([32, 256, 32, 32])\n",
      "torch.Size([32, 128, 64, 64])\n",
      "torch.Size([32, 64, 128, 128])\n"
     ]
    },
    {
     "name": "stderr",
     "output_type": "stream",
     "text": [
      " 96%|█████████▌| 22/23 [11:31<00:31, 31.78s/it]"
     ]
    },
    {
     "name": "stdout",
     "output_type": "stream",
     "text": [
      "torch.Size([16, 64, 128, 128])\n",
      "torch.Size([16, 128, 64, 64])\n",
      "torch.Size([16, 256, 32, 32])\n",
      "torch.Size([16, 512, 16, 16])\n",
      "torch.Size([16, 1024, 8, 8])\n",
      "torch.Size([16, 512, 16, 16])\n",
      "torch.Size([16, 256, 32, 32])\n",
      "torch.Size([16, 128, 64, 64])\n",
      "torch.Size([16, 64, 128, 128])\n"
     ]
    },
    {
     "name": "stderr",
     "output_type": "stream",
     "text": [
      "100%|██████████| 23/23 [11:47<00:00, 30.74s/it]\n",
      "  0%|          | 0/2 [00:00<?, ?it/s]"
     ]
    },
    {
     "name": "stdout",
     "output_type": "stream",
     "text": [
      "torch.Size([32, 64, 128, 128])\n",
      "torch.Size([32, 128, 64, 64])\n",
      "torch.Size([32, 256, 32, 32])\n",
      "torch.Size([32, 512, 16, 16])\n",
      "torch.Size([32, 1024, 8, 8])\n",
      "torch.Size([32, 512, 16, 16])\n",
      "torch.Size([32, 256, 32, 32])\n",
      "torch.Size([32, 128, 64, 64])\n"
     ]
    },
    {
     "name": "stderr",
     "output_type": "stream",
     "text": [
      " 50%|█████     | 1/2 [00:10<00:10, 10.66s/it]"
     ]
    },
    {
     "name": "stdout",
     "output_type": "stream",
     "text": [
      "torch.Size([32, 64, 128, 128])\n",
      "torch.Size([28, 64, 128, 128])\n",
      "torch.Size([28, 128, 64, 64])\n",
      "torch.Size([28, 256, 32, 32])\n",
      "torch.Size([28, 512, 16, 16])\n",
      "torch.Size([28, 1024, 8, 8])\n",
      "torch.Size([28, 512, 16, 16])\n",
      "torch.Size([28, 256, 32, 32])\n",
      "torch.Size([28, 128, 64, 64])\n"
     ]
    },
    {
     "name": "stderr",
     "output_type": "stream",
     "text": [
      "100%|██████████| 2/2 [00:20<00:00, 10.30s/it]\n"
     ]
    },
    {
     "name": "stdout",
     "output_type": "stream",
     "text": [
      "torch.Size([28, 64, 128, 128])\n",
      "Train Loss: 0.3049 | Val Loss: 0.3172\n",
      "\n",
      "Epoch 9/20\n"
     ]
    },
    {
     "name": "stderr",
     "output_type": "stream",
     "text": [
      "  0%|          | 0/23 [00:00<?, ?it/s]"
     ]
    },
    {
     "name": "stdout",
     "output_type": "stream",
     "text": [
      "torch.Size([32, 64, 128, 128])\n",
      "torch.Size([32, 128, 64, 64])\n",
      "torch.Size([32, 256, 32, 32])\n",
      "torch.Size([32, 512, 16, 16])\n",
      "torch.Size([32, 1024, 8, 8])\n",
      "torch.Size([32, 512, 16, 16])\n",
      "torch.Size([32, 256, 32, 32])\n",
      "torch.Size([32, 128, 64, 64])\n",
      "torch.Size([32, 64, 128, 128])\n"
     ]
    },
    {
     "name": "stderr",
     "output_type": "stream",
     "text": [
      "  4%|▍         | 1/23 [00:30<11:13, 30.60s/it]"
     ]
    },
    {
     "name": "stdout",
     "output_type": "stream",
     "text": [
      "torch.Size([32, 64, 128, 128])\n",
      "torch.Size([32, 128, 64, 64])\n",
      "torch.Size([32, 256, 32, 32])\n",
      "torch.Size([32, 512, 16, 16])\n",
      "torch.Size([32, 1024, 8, 8])\n",
      "torch.Size([32, 512, 16, 16])\n",
      "torch.Size([32, 256, 32, 32])\n",
      "torch.Size([32, 128, 64, 64])\n",
      "torch.Size([32, 64, 128, 128])\n"
     ]
    },
    {
     "name": "stderr",
     "output_type": "stream",
     "text": [
      "  9%|▊         | 2/23 [01:01<10:47, 30.83s/it]"
     ]
    },
    {
     "name": "stdout",
     "output_type": "stream",
     "text": [
      "torch.Size([32, 64, 128, 128])\n",
      "torch.Size([32, 128, 64, 64])\n",
      "torch.Size([32, 256, 32, 32])\n",
      "torch.Size([32, 512, 16, 16])\n",
      "torch.Size([32, 1024, 8, 8])\n",
      "torch.Size([32, 512, 16, 16])\n",
      "torch.Size([32, 256, 32, 32])\n",
      "torch.Size([32, 128, 64, 64])\n",
      "torch.Size([32, 64, 128, 128])\n"
     ]
    },
    {
     "name": "stderr",
     "output_type": "stream",
     "text": [
      " 13%|█▎        | 3/23 [01:32<10:21, 31.06s/it]"
     ]
    },
    {
     "name": "stdout",
     "output_type": "stream",
     "text": [
      "torch.Size([32, 64, 128, 128])\n",
      "torch.Size([32, 128, 64, 64])\n",
      "torch.Size([32, 256, 32, 32])\n",
      "torch.Size([32, 512, 16, 16])\n",
      "torch.Size([32, 1024, 8, 8])\n",
      "torch.Size([32, 512, 16, 16])\n",
      "torch.Size([32, 256, 32, 32])\n",
      "torch.Size([32, 128, 64, 64])\n",
      "torch.Size([32, 64, 128, 128])\n"
     ]
    },
    {
     "name": "stderr",
     "output_type": "stream",
     "text": [
      " 17%|█▋        | 4/23 [02:04<09:52, 31.17s/it]"
     ]
    },
    {
     "name": "stdout",
     "output_type": "stream",
     "text": [
      "torch.Size([32, 64, 128, 128])\n",
      "torch.Size([32, 128, 64, 64])\n",
      "torch.Size([32, 256, 32, 32])\n",
      "torch.Size([32, 512, 16, 16])\n",
      "torch.Size([32, 1024, 8, 8])\n",
      "torch.Size([32, 512, 16, 16])\n",
      "torch.Size([32, 256, 32, 32])\n",
      "torch.Size([32, 128, 64, 64])\n",
      "torch.Size([32, 64, 128, 128])\n"
     ]
    },
    {
     "name": "stderr",
     "output_type": "stream",
     "text": [
      " 22%|██▏       | 5/23 [02:35<09:21, 31.18s/it]"
     ]
    },
    {
     "name": "stdout",
     "output_type": "stream",
     "text": [
      "torch.Size([32, 64, 128, 128])\n",
      "torch.Size([32, 128, 64, 64])\n",
      "torch.Size([32, 256, 32, 32])\n",
      "torch.Size([32, 512, 16, 16])\n",
      "torch.Size([32, 1024, 8, 8])\n",
      "torch.Size([32, 512, 16, 16])\n",
      "torch.Size([32, 256, 32, 32])\n",
      "torch.Size([32, 128, 64, 64])\n",
      "torch.Size([32, 64, 128, 128])\n"
     ]
    },
    {
     "name": "stderr",
     "output_type": "stream",
     "text": [
      " 26%|██▌       | 6/23 [03:06<08:50, 31.21s/it]"
     ]
    },
    {
     "name": "stdout",
     "output_type": "stream",
     "text": [
      "torch.Size([32, 64, 128, 128])\n",
      "torch.Size([32, 128, 64, 64])\n",
      "torch.Size([32, 256, 32, 32])\n",
      "torch.Size([32, 512, 16, 16])\n",
      "torch.Size([32, 1024, 8, 8])\n",
      "torch.Size([32, 512, 16, 16])\n",
      "torch.Size([32, 256, 32, 32])\n",
      "torch.Size([32, 128, 64, 64])\n",
      "torch.Size([32, 64, 128, 128])\n"
     ]
    },
    {
     "name": "stderr",
     "output_type": "stream",
     "text": [
      " 30%|███       | 7/23 [03:38<08:20, 31.28s/it]"
     ]
    },
    {
     "name": "stdout",
     "output_type": "stream",
     "text": [
      "torch.Size([32, 64, 128, 128])\n",
      "torch.Size([32, 128, 64, 64])\n",
      "torch.Size([32, 256, 32, 32])\n",
      "torch.Size([32, 512, 16, 16])\n",
      "torch.Size([32, 1024, 8, 8])\n",
      "torch.Size([32, 512, 16, 16])\n",
      "torch.Size([32, 256, 32, 32])\n",
      "torch.Size([32, 128, 64, 64])\n",
      "torch.Size([32, 64, 128, 128])\n"
     ]
    },
    {
     "name": "stderr",
     "output_type": "stream",
     "text": [
      " 35%|███▍      | 8/23 [04:09<07:49, 31.32s/it]"
     ]
    },
    {
     "name": "stdout",
     "output_type": "stream",
     "text": [
      "torch.Size([32, 64, 128, 128])\n",
      "torch.Size([32, 128, 64, 64])\n",
      "torch.Size([32, 256, 32, 32])\n",
      "torch.Size([32, 512, 16, 16])\n",
      "torch.Size([32, 1024, 8, 8])\n",
      "torch.Size([32, 512, 16, 16])\n",
      "torch.Size([32, 256, 32, 32])\n",
      "torch.Size([32, 128, 64, 64])\n",
      "torch.Size([32, 64, 128, 128])\n"
     ]
    },
    {
     "name": "stderr",
     "output_type": "stream",
     "text": [
      " 39%|███▉      | 9/23 [04:40<07:16, 31.18s/it]"
     ]
    },
    {
     "name": "stdout",
     "output_type": "stream",
     "text": [
      "torch.Size([32, 64, 128, 128])\n",
      "torch.Size([32, 128, 64, 64])\n",
      "torch.Size([32, 256, 32, 32])\n",
      "torch.Size([32, 512, 16, 16])\n",
      "torch.Size([32, 1024, 8, 8])\n",
      "torch.Size([32, 512, 16, 16])\n",
      "torch.Size([32, 256, 32, 32])\n",
      "torch.Size([32, 128, 64, 64])\n",
      "torch.Size([32, 64, 128, 128])\n"
     ]
    },
    {
     "name": "stderr",
     "output_type": "stream",
     "text": [
      " 43%|████▎     | 10/23 [05:14<06:57, 32.15s/it]"
     ]
    },
    {
     "name": "stdout",
     "output_type": "stream",
     "text": [
      "torch.Size([32, 64, 128, 128])\n",
      "torch.Size([32, 128, 64, 64])\n",
      "torch.Size([32, 256, 32, 32])\n",
      "torch.Size([32, 512, 16, 16])\n",
      "torch.Size([32, 1024, 8, 8])\n",
      "torch.Size([32, 512, 16, 16])\n",
      "torch.Size([32, 256, 32, 32])\n",
      "torch.Size([32, 128, 64, 64])\n",
      "torch.Size([32, 64, 128, 128])\n"
     ]
    },
    {
     "name": "stderr",
     "output_type": "stream",
     "text": [
      " 48%|████▊     | 11/23 [05:49<06:37, 33.09s/it]"
     ]
    },
    {
     "name": "stdout",
     "output_type": "stream",
     "text": [
      "torch.Size([32, 64, 128, 128])\n",
      "torch.Size([32, 128, 64, 64])\n",
      "torch.Size([32, 256, 32, 32])\n",
      "torch.Size([32, 512, 16, 16])\n",
      "torch.Size([32, 1024, 8, 8])\n",
      "torch.Size([32, 512, 16, 16])\n",
      "torch.Size([32, 256, 32, 32])\n",
      "torch.Size([32, 128, 64, 64])\n",
      "torch.Size([32, 64, 128, 128])\n"
     ]
    },
    {
     "name": "stderr",
     "output_type": "stream",
     "text": [
      " 52%|█████▏    | 12/23 [06:23<06:06, 33.35s/it]"
     ]
    },
    {
     "name": "stdout",
     "output_type": "stream",
     "text": [
      "torch.Size([32, 64, 128, 128])\n",
      "torch.Size([32, 128, 64, 64])\n",
      "torch.Size([32, 256, 32, 32])\n",
      "torch.Size([32, 512, 16, 16])\n",
      "torch.Size([32, 1024, 8, 8])\n",
      "torch.Size([32, 512, 16, 16])\n",
      "torch.Size([32, 256, 32, 32])\n",
      "torch.Size([32, 128, 64, 64])\n",
      "torch.Size([32, 64, 128, 128])\n"
     ]
    },
    {
     "name": "stderr",
     "output_type": "stream",
     "text": [
      " 57%|█████▋    | 13/23 [06:57<05:34, 33.40s/it]"
     ]
    },
    {
     "name": "stdout",
     "output_type": "stream",
     "text": [
      "torch.Size([32, 64, 128, 128])\n",
      "torch.Size([32, 128, 64, 64])\n",
      "torch.Size([32, 256, 32, 32])\n",
      "torch.Size([32, 512, 16, 16])\n",
      "torch.Size([32, 1024, 8, 8])\n",
      "torch.Size([32, 512, 16, 16])\n",
      "torch.Size([32, 256, 32, 32])\n",
      "torch.Size([32, 128, 64, 64])\n",
      "torch.Size([32, 64, 128, 128])\n"
     ]
    },
    {
     "name": "stderr",
     "output_type": "stream",
     "text": [
      " 61%|██████    | 14/23 [07:30<04:59, 33.31s/it]"
     ]
    },
    {
     "name": "stdout",
     "output_type": "stream",
     "text": [
      "torch.Size([32, 64, 128, 128])\n",
      "torch.Size([32, 128, 64, 64])\n",
      "torch.Size([32, 256, 32, 32])\n",
      "torch.Size([32, 512, 16, 16])\n",
      "torch.Size([32, 1024, 8, 8])\n",
      "torch.Size([32, 512, 16, 16])\n",
      "torch.Size([32, 256, 32, 32])\n",
      "torch.Size([32, 128, 64, 64])\n",
      "torch.Size([32, 64, 128, 128])\n"
     ]
    },
    {
     "name": "stderr",
     "output_type": "stream",
     "text": [
      " 65%|██████▌   | 15/23 [08:02<04:24, 33.05s/it]"
     ]
    },
    {
     "name": "stdout",
     "output_type": "stream",
     "text": [
      "torch.Size([32, 64, 128, 128])\n",
      "torch.Size([32, 128, 64, 64])\n",
      "torch.Size([32, 256, 32, 32])\n",
      "torch.Size([32, 512, 16, 16])\n",
      "torch.Size([32, 1024, 8, 8])\n",
      "torch.Size([32, 512, 16, 16])\n",
      "torch.Size([32, 256, 32, 32])\n",
      "torch.Size([32, 128, 64, 64])\n",
      "torch.Size([32, 64, 128, 128])\n"
     ]
    },
    {
     "name": "stderr",
     "output_type": "stream",
     "text": [
      " 70%|██████▉   | 16/23 [08:37<03:53, 33.34s/it]"
     ]
    },
    {
     "name": "stdout",
     "output_type": "stream",
     "text": [
      "torch.Size([32, 64, 128, 128])\n",
      "torch.Size([32, 128, 64, 64])\n",
      "torch.Size([32, 256, 32, 32])\n",
      "torch.Size([32, 512, 16, 16])\n",
      "torch.Size([32, 1024, 8, 8])\n",
      "torch.Size([32, 512, 16, 16])\n",
      "torch.Size([32, 256, 32, 32])\n",
      "torch.Size([32, 128, 64, 64])\n",
      "torch.Size([32, 64, 128, 128])\n"
     ]
    },
    {
     "name": "stderr",
     "output_type": "stream",
     "text": [
      " 74%|███████▍  | 17/23 [09:11<03:22, 33.68s/it]"
     ]
    },
    {
     "name": "stdout",
     "output_type": "stream",
     "text": [
      "torch.Size([32, 64, 128, 128])\n",
      "torch.Size([32, 128, 64, 64])\n",
      "torch.Size([32, 256, 32, 32])\n",
      "torch.Size([32, 512, 16, 16])\n",
      "torch.Size([32, 1024, 8, 8])\n",
      "torch.Size([32, 512, 16, 16])\n",
      "torch.Size([32, 256, 32, 32])\n",
      "torch.Size([32, 128, 64, 64])\n",
      "torch.Size([32, 64, 128, 128])\n"
     ]
    },
    {
     "name": "stderr",
     "output_type": "stream",
     "text": [
      " 78%|███████▊  | 18/23 [09:48<02:53, 34.66s/it]"
     ]
    },
    {
     "name": "stdout",
     "output_type": "stream",
     "text": [
      "torch.Size([32, 64, 128, 128])\n",
      "torch.Size([32, 128, 64, 64])\n",
      "torch.Size([32, 256, 32, 32])\n",
      "torch.Size([32, 512, 16, 16])\n",
      "torch.Size([32, 1024, 8, 8])\n",
      "torch.Size([32, 512, 16, 16])\n",
      "torch.Size([32, 256, 32, 32])\n",
      "torch.Size([32, 128, 64, 64])\n",
      "torch.Size([32, 64, 128, 128])\n"
     ]
    },
    {
     "name": "stderr",
     "output_type": "stream",
     "text": [
      " 83%|████████▎ | 19/23 [10:23<02:19, 34.80s/it]"
     ]
    },
    {
     "name": "stdout",
     "output_type": "stream",
     "text": [
      "torch.Size([32, 64, 128, 128])\n",
      "torch.Size([32, 128, 64, 64])\n",
      "torch.Size([32, 256, 32, 32])\n",
      "torch.Size([32, 512, 16, 16])\n",
      "torch.Size([32, 1024, 8, 8])\n",
      "torch.Size([32, 512, 16, 16])\n",
      "torch.Size([32, 256, 32, 32])\n",
      "torch.Size([32, 128, 64, 64])\n",
      "torch.Size([32, 64, 128, 128])\n"
     ]
    },
    {
     "name": "stderr",
     "output_type": "stream",
     "text": [
      " 87%|████████▋ | 20/23 [10:59<01:45, 35.07s/it]"
     ]
    },
    {
     "name": "stdout",
     "output_type": "stream",
     "text": [
      "torch.Size([32, 64, 128, 128])\n",
      "torch.Size([32, 128, 64, 64])\n",
      "torch.Size([32, 256, 32, 32])\n",
      "torch.Size([32, 512, 16, 16])\n",
      "torch.Size([32, 1024, 8, 8])\n",
      "torch.Size([32, 512, 16, 16])\n",
      "torch.Size([32, 256, 32, 32])\n",
      "torch.Size([32, 128, 64, 64])\n",
      "torch.Size([32, 64, 128, 128])\n"
     ]
    },
    {
     "name": "stderr",
     "output_type": "stream",
     "text": [
      " 91%|█████████▏| 21/23 [11:33<01:09, 34.81s/it]"
     ]
    },
    {
     "name": "stdout",
     "output_type": "stream",
     "text": [
      "torch.Size([32, 64, 128, 128])\n",
      "torch.Size([32, 128, 64, 64])\n",
      "torch.Size([32, 256, 32, 32])\n",
      "torch.Size([32, 512, 16, 16])\n",
      "torch.Size([32, 1024, 8, 8])\n",
      "torch.Size([32, 512, 16, 16])\n",
      "torch.Size([32, 256, 32, 32])\n",
      "torch.Size([32, 128, 64, 64])\n",
      "torch.Size([32, 64, 128, 128])\n"
     ]
    },
    {
     "name": "stderr",
     "output_type": "stream",
     "text": [
      " 96%|█████████▌| 22/23 [12:06<00:34, 34.28s/it]"
     ]
    },
    {
     "name": "stdout",
     "output_type": "stream",
     "text": [
      "torch.Size([16, 64, 128, 128])\n",
      "torch.Size([16, 128, 64, 64])\n",
      "torch.Size([16, 256, 32, 32])\n",
      "torch.Size([16, 512, 16, 16])\n",
      "torch.Size([16, 1024, 8, 8])\n",
      "torch.Size([16, 512, 16, 16])\n",
      "torch.Size([16, 256, 32, 32])\n",
      "torch.Size([16, 128, 64, 64])\n",
      "torch.Size([16, 64, 128, 128])\n"
     ]
    },
    {
     "name": "stderr",
     "output_type": "stream",
     "text": [
      "100%|██████████| 23/23 [12:23<00:00, 32.32s/it]\n",
      "  0%|          | 0/2 [00:00<?, ?it/s]"
     ]
    },
    {
     "name": "stdout",
     "output_type": "stream",
     "text": [
      "torch.Size([32, 64, 128, 128])\n",
      "torch.Size([32, 128, 64, 64])\n",
      "torch.Size([32, 256, 32, 32])\n",
      "torch.Size([32, 512, 16, 16])\n",
      "torch.Size([32, 1024, 8, 8])\n",
      "torch.Size([32, 512, 16, 16])\n",
      "torch.Size([32, 256, 32, 32])\n",
      "torch.Size([32, 128, 64, 64])\n"
     ]
    },
    {
     "name": "stderr",
     "output_type": "stream",
     "text": [
      " 50%|█████     | 1/2 [00:12<00:12, 12.35s/it]"
     ]
    },
    {
     "name": "stdout",
     "output_type": "stream",
     "text": [
      "torch.Size([32, 64, 128, 128])\n",
      "torch.Size([28, 64, 128, 128])\n",
      "torch.Size([28, 128, 64, 64])\n",
      "torch.Size([28, 256, 32, 32])\n",
      "torch.Size([28, 512, 16, 16])\n",
      "torch.Size([28, 1024, 8, 8])\n",
      "torch.Size([28, 512, 16, 16])\n",
      "torch.Size([28, 256, 32, 32])\n",
      "torch.Size([28, 128, 64, 64])\n"
     ]
    },
    {
     "name": "stderr",
     "output_type": "stream",
     "text": [
      "100%|██████████| 2/2 [00:23<00:00, 11.51s/it]\n"
     ]
    },
    {
     "name": "stdout",
     "output_type": "stream",
     "text": [
      "torch.Size([28, 64, 128, 128])\n",
      "Train Loss: 0.2874 | Val Loss: 0.3238\n",
      "\n",
      "Epoch 10/20\n"
     ]
    },
    {
     "name": "stderr",
     "output_type": "stream",
     "text": [
      "  0%|          | 0/23 [00:00<?, ?it/s]"
     ]
    },
    {
     "name": "stdout",
     "output_type": "stream",
     "text": [
      "torch.Size([32, 64, 128, 128])\n",
      "torch.Size([32, 128, 64, 64])\n",
      "torch.Size([32, 256, 32, 32])\n",
      "torch.Size([32, 512, 16, 16])\n",
      "torch.Size([32, 1024, 8, 8])\n",
      "torch.Size([32, 512, 16, 16])\n",
      "torch.Size([32, 256, 32, 32])\n",
      "torch.Size([32, 128, 64, 64])\n",
      "torch.Size([32, 64, 128, 128])\n"
     ]
    },
    {
     "name": "stderr",
     "output_type": "stream",
     "text": [
      "  4%|▍         | 1/23 [00:35<13:05, 35.73s/it]"
     ]
    },
    {
     "name": "stdout",
     "output_type": "stream",
     "text": [
      "torch.Size([32, 64, 128, 128])\n",
      "torch.Size([32, 128, 64, 64])\n",
      "torch.Size([32, 256, 32, 32])\n",
      "torch.Size([32, 512, 16, 16])\n",
      "torch.Size([32, 1024, 8, 8])\n",
      "torch.Size([32, 512, 16, 16])\n",
      "torch.Size([32, 256, 32, 32])\n",
      "torch.Size([32, 128, 64, 64])\n",
      "torch.Size([32, 64, 128, 128])\n"
     ]
    },
    {
     "name": "stderr",
     "output_type": "stream",
     "text": [
      "  9%|▊         | 2/23 [01:09<12:06, 34.61s/it]"
     ]
    },
    {
     "name": "stdout",
     "output_type": "stream",
     "text": [
      "torch.Size([32, 64, 128, 128])\n",
      "torch.Size([32, 128, 64, 64])\n",
      "torch.Size([32, 256, 32, 32])\n",
      "torch.Size([32, 512, 16, 16])\n",
      "torch.Size([32, 1024, 8, 8])\n",
      "torch.Size([32, 512, 16, 16])\n",
      "torch.Size([32, 256, 32, 32])\n",
      "torch.Size([32, 128, 64, 64])\n",
      "torch.Size([32, 64, 128, 128])\n"
     ]
    },
    {
     "name": "stderr",
     "output_type": "stream",
     "text": [
      " 13%|█▎        | 3/23 [01:43<11:24, 34.22s/it]"
     ]
    },
    {
     "name": "stdout",
     "output_type": "stream",
     "text": [
      "torch.Size([32, 64, 128, 128])\n",
      "torch.Size([32, 128, 64, 64])\n",
      "torch.Size([32, 256, 32, 32])\n",
      "torch.Size([32, 512, 16, 16])\n",
      "torch.Size([32, 1024, 8, 8])\n",
      "torch.Size([32, 512, 16, 16])\n",
      "torch.Size([32, 256, 32, 32])\n",
      "torch.Size([32, 128, 64, 64])\n",
      "torch.Size([32, 64, 128, 128])\n"
     ]
    },
    {
     "name": "stderr",
     "output_type": "stream",
     "text": [
      " 17%|█▋        | 4/23 [02:17<10:49, 34.19s/it]"
     ]
    },
    {
     "name": "stdout",
     "output_type": "stream",
     "text": [
      "torch.Size([32, 64, 128, 128])\n",
      "torch.Size([32, 128, 64, 64])\n",
      "torch.Size([32, 256, 32, 32])\n",
      "torch.Size([32, 512, 16, 16])\n",
      "torch.Size([32, 1024, 8, 8])\n",
      "torch.Size([32, 512, 16, 16])\n",
      "torch.Size([32, 256, 32, 32])\n",
      "torch.Size([32, 128, 64, 64])\n",
      "torch.Size([32, 64, 128, 128])\n"
     ]
    },
    {
     "name": "stderr",
     "output_type": "stream",
     "text": [
      " 22%|██▏       | 5/23 [02:50<10:07, 33.76s/it]"
     ]
    },
    {
     "name": "stdout",
     "output_type": "stream",
     "text": [
      "torch.Size([32, 64, 128, 128])\n",
      "torch.Size([32, 128, 64, 64])\n",
      "torch.Size([32, 256, 32, 32])\n",
      "torch.Size([32, 512, 16, 16])\n",
      "torch.Size([32, 1024, 8, 8])\n",
      "torch.Size([32, 512, 16, 16])\n",
      "torch.Size([32, 256, 32, 32])\n",
      "torch.Size([32, 128, 64, 64])\n",
      "torch.Size([32, 64, 128, 128])\n"
     ]
    },
    {
     "name": "stderr",
     "output_type": "stream",
     "text": [
      " 26%|██▌       | 6/23 [03:24<09:34, 33.82s/it]"
     ]
    },
    {
     "name": "stdout",
     "output_type": "stream",
     "text": [
      "torch.Size([32, 64, 128, 128])\n",
      "torch.Size([32, 128, 64, 64])\n",
      "torch.Size([32, 256, 32, 32])\n",
      "torch.Size([32, 512, 16, 16])\n",
      "torch.Size([32, 1024, 8, 8])\n",
      "torch.Size([32, 512, 16, 16])\n",
      "torch.Size([32, 256, 32, 32])\n",
      "torch.Size([32, 128, 64, 64])\n",
      "torch.Size([32, 64, 128, 128])\n"
     ]
    },
    {
     "name": "stderr",
     "output_type": "stream",
     "text": [
      " 30%|███       | 7/23 [03:57<08:56, 33.55s/it]"
     ]
    },
    {
     "name": "stdout",
     "output_type": "stream",
     "text": [
      "torch.Size([32, 64, 128, 128])\n",
      "torch.Size([32, 128, 64, 64])\n",
      "torch.Size([32, 256, 32, 32])\n",
      "torch.Size([32, 512, 16, 16])\n",
      "torch.Size([32, 1024, 8, 8])\n",
      "torch.Size([32, 512, 16, 16])\n",
      "torch.Size([32, 256, 32, 32])\n",
      "torch.Size([32, 128, 64, 64])\n",
      "torch.Size([32, 64, 128, 128])\n"
     ]
    },
    {
     "name": "stderr",
     "output_type": "stream",
     "text": [
      " 35%|███▍      | 8/23 [04:31<08:23, 33.60s/it]"
     ]
    },
    {
     "name": "stdout",
     "output_type": "stream",
     "text": [
      "torch.Size([32, 64, 128, 128])\n",
      "torch.Size([32, 128, 64, 64])\n",
      "torch.Size([32, 256, 32, 32])\n",
      "torch.Size([32, 512, 16, 16])\n",
      "torch.Size([32, 1024, 8, 8])\n",
      "torch.Size([32, 512, 16, 16])\n",
      "torch.Size([32, 256, 32, 32])\n",
      "torch.Size([32, 128, 64, 64])\n",
      "torch.Size([32, 64, 128, 128])\n"
     ]
    },
    {
     "name": "stderr",
     "output_type": "stream",
     "text": [
      " 39%|███▉      | 9/23 [05:04<07:51, 33.65s/it]"
     ]
    },
    {
     "name": "stdout",
     "output_type": "stream",
     "text": [
      "torch.Size([32, 64, 128, 128])\n",
      "torch.Size([32, 128, 64, 64])\n",
      "torch.Size([32, 256, 32, 32])\n",
      "torch.Size([32, 512, 16, 16])\n",
      "torch.Size([32, 1024, 8, 8])\n",
      "torch.Size([32, 512, 16, 16])\n",
      "torch.Size([32, 256, 32, 32])\n",
      "torch.Size([32, 128, 64, 64])\n",
      "torch.Size([32, 64, 128, 128])\n"
     ]
    },
    {
     "name": "stderr",
     "output_type": "stream",
     "text": [
      " 43%|████▎     | 10/23 [05:38<07:18, 33.76s/it]"
     ]
    },
    {
     "name": "stdout",
     "output_type": "stream",
     "text": [
      "torch.Size([32, 64, 128, 128])\n",
      "torch.Size([32, 128, 64, 64])\n",
      "torch.Size([32, 256, 32, 32])\n",
      "torch.Size([32, 512, 16, 16])\n",
      "torch.Size([32, 1024, 8, 8])\n",
      "torch.Size([32, 512, 16, 16])\n",
      "torch.Size([32, 256, 32, 32])\n",
      "torch.Size([32, 128, 64, 64])\n",
      "torch.Size([32, 64, 128, 128])\n"
     ]
    },
    {
     "name": "stderr",
     "output_type": "stream",
     "text": [
      " 48%|████▊     | 11/23 [06:12<06:46, 33.86s/it]"
     ]
    },
    {
     "name": "stdout",
     "output_type": "stream",
     "text": [
      "torch.Size([32, 64, 128, 128])\n",
      "torch.Size([32, 128, 64, 64])\n",
      "torch.Size([32, 256, 32, 32])\n",
      "torch.Size([32, 512, 16, 16])\n",
      "torch.Size([32, 1024, 8, 8])\n",
      "torch.Size([32, 512, 16, 16])\n",
      "torch.Size([32, 256, 32, 32])\n",
      "torch.Size([32, 128, 64, 64])\n",
      "torch.Size([32, 64, 128, 128])\n"
     ]
    },
    {
     "name": "stderr",
     "output_type": "stream",
     "text": [
      " 52%|█████▏    | 12/23 [06:47<06:14, 34.04s/it]"
     ]
    },
    {
     "name": "stdout",
     "output_type": "stream",
     "text": [
      "torch.Size([32, 64, 128, 128])\n",
      "torch.Size([32, 128, 64, 64])\n",
      "torch.Size([32, 256, 32, 32])\n",
      "torch.Size([32, 512, 16, 16])\n",
      "torch.Size([32, 1024, 8, 8])\n",
      "torch.Size([32, 512, 16, 16])\n",
      "torch.Size([32, 256, 32, 32])\n",
      "torch.Size([32, 128, 64, 64])\n",
      "torch.Size([32, 64, 128, 128])\n"
     ]
    },
    {
     "name": "stderr",
     "output_type": "stream",
     "text": [
      " 57%|█████▋    | 13/23 [07:21<05:40, 34.09s/it]"
     ]
    },
    {
     "name": "stdout",
     "output_type": "stream",
     "text": [
      "torch.Size([32, 64, 128, 128])\n",
      "torch.Size([32, 128, 64, 64])\n",
      "torch.Size([32, 256, 32, 32])\n",
      "torch.Size([32, 512, 16, 16])\n",
      "torch.Size([32, 1024, 8, 8])\n",
      "torch.Size([32, 512, 16, 16])\n",
      "torch.Size([32, 256, 32, 32])\n",
      "torch.Size([32, 128, 64, 64])\n",
      "torch.Size([32, 64, 128, 128])\n"
     ]
    },
    {
     "name": "stderr",
     "output_type": "stream",
     "text": [
      " 61%|██████    | 14/23 [07:55<05:05, 33.95s/it]"
     ]
    },
    {
     "name": "stdout",
     "output_type": "stream",
     "text": [
      "torch.Size([32, 64, 128, 128])\n",
      "torch.Size([32, 128, 64, 64])\n",
      "torch.Size([32, 256, 32, 32])\n",
      "torch.Size([32, 512, 16, 16])\n",
      "torch.Size([32, 1024, 8, 8])\n",
      "torch.Size([32, 512, 16, 16])\n",
      "torch.Size([32, 256, 32, 32])\n",
      "torch.Size([32, 128, 64, 64])\n",
      "torch.Size([32, 64, 128, 128])\n"
     ]
    },
    {
     "name": "stderr",
     "output_type": "stream",
     "text": [
      " 65%|██████▌   | 15/23 [08:30<04:33, 34.20s/it]"
     ]
    },
    {
     "name": "stdout",
     "output_type": "stream",
     "text": [
      "torch.Size([32, 64, 128, 128])\n",
      "torch.Size([32, 128, 64, 64])\n",
      "torch.Size([32, 256, 32, 32])\n",
      "torch.Size([32, 512, 16, 16])\n",
      "torch.Size([32, 1024, 8, 8])\n",
      "torch.Size([32, 512, 16, 16])\n",
      "torch.Size([32, 256, 32, 32])\n",
      "torch.Size([32, 128, 64, 64])\n",
      "torch.Size([32, 64, 128, 128])\n"
     ]
    },
    {
     "name": "stderr",
     "output_type": "stream",
     "text": [
      " 70%|██████▉   | 16/23 [09:03<03:57, 33.90s/it]"
     ]
    },
    {
     "name": "stdout",
     "output_type": "stream",
     "text": [
      "torch.Size([32, 64, 128, 128])\n",
      "torch.Size([32, 128, 64, 64])\n",
      "torch.Size([32, 256, 32, 32])\n",
      "torch.Size([32, 512, 16, 16])\n",
      "torch.Size([32, 1024, 8, 8])\n",
      "torch.Size([32, 512, 16, 16])\n",
      "torch.Size([32, 256, 32, 32])\n",
      "torch.Size([32, 128, 64, 64])\n",
      "torch.Size([32, 64, 128, 128])\n"
     ]
    },
    {
     "name": "stderr",
     "output_type": "stream",
     "text": [
      " 74%|███████▍  | 17/23 [09:35<03:19, 33.30s/it]"
     ]
    },
    {
     "name": "stdout",
     "output_type": "stream",
     "text": [
      "torch.Size([32, 64, 128, 128])\n",
      "torch.Size([32, 128, 64, 64])\n",
      "torch.Size([32, 256, 32, 32])\n",
      "torch.Size([32, 512, 16, 16])\n",
      "torch.Size([32, 1024, 8, 8])\n",
      "torch.Size([32, 512, 16, 16])\n",
      "torch.Size([32, 256, 32, 32])\n",
      "torch.Size([32, 128, 64, 64])\n",
      "torch.Size([32, 64, 128, 128])\n"
     ]
    },
    {
     "name": "stderr",
     "output_type": "stream",
     "text": [
      " 78%|███████▊  | 18/23 [10:07<02:45, 33.06s/it]"
     ]
    },
    {
     "name": "stdout",
     "output_type": "stream",
     "text": [
      "torch.Size([32, 64, 128, 128])\n",
      "torch.Size([32, 128, 64, 64])\n",
      "torch.Size([32, 256, 32, 32])\n",
      "torch.Size([32, 512, 16, 16])\n",
      "torch.Size([32, 1024, 8, 8])\n",
      "torch.Size([32, 512, 16, 16])\n",
      "torch.Size([32, 256, 32, 32])\n",
      "torch.Size([32, 128, 64, 64])\n",
      "torch.Size([32, 64, 128, 128])\n"
     ]
    },
    {
     "name": "stderr",
     "output_type": "stream",
     "text": [
      " 83%|████████▎ | 19/23 [10:40<02:12, 33.05s/it]"
     ]
    },
    {
     "name": "stdout",
     "output_type": "stream",
     "text": [
      "torch.Size([32, 64, 128, 128])\n",
      "torch.Size([32, 128, 64, 64])\n",
      "torch.Size([32, 256, 32, 32])\n",
      "torch.Size([32, 512, 16, 16])\n",
      "torch.Size([32, 1024, 8, 8])\n",
      "torch.Size([32, 512, 16, 16])\n",
      "torch.Size([32, 256, 32, 32])\n",
      "torch.Size([32, 128, 64, 64])\n",
      "torch.Size([32, 64, 128, 128])\n"
     ]
    },
    {
     "name": "stderr",
     "output_type": "stream",
     "text": [
      " 87%|████████▋ | 20/23 [11:12<01:37, 32.63s/it]"
     ]
    },
    {
     "name": "stdout",
     "output_type": "stream",
     "text": [
      "torch.Size([32, 64, 128, 128])\n",
      "torch.Size([32, 128, 64, 64])\n",
      "torch.Size([32, 256, 32, 32])\n",
      "torch.Size([32, 512, 16, 16])\n",
      "torch.Size([32, 1024, 8, 8])\n",
      "torch.Size([32, 512, 16, 16])\n",
      "torch.Size([32, 256, 32, 32])\n",
      "torch.Size([32, 128, 64, 64])\n",
      "torch.Size([32, 64, 128, 128])\n"
     ]
    },
    {
     "name": "stderr",
     "output_type": "stream",
     "text": [
      " 91%|█████████▏| 21/23 [11:45<01:05, 32.69s/it]"
     ]
    },
    {
     "name": "stdout",
     "output_type": "stream",
     "text": [
      "torch.Size([32, 64, 128, 128])\n",
      "torch.Size([32, 128, 64, 64])\n",
      "torch.Size([32, 256, 32, 32])\n",
      "torch.Size([32, 512, 16, 16])\n",
      "torch.Size([32, 1024, 8, 8])\n",
      "torch.Size([32, 512, 16, 16])\n",
      "torch.Size([32, 256, 32, 32])\n",
      "torch.Size([32, 128, 64, 64])\n",
      "torch.Size([32, 64, 128, 128])\n"
     ]
    },
    {
     "name": "stderr",
     "output_type": "stream",
     "text": [
      " 96%|█████████▌| 22/23 [12:17<00:32, 32.67s/it]"
     ]
    },
    {
     "name": "stdout",
     "output_type": "stream",
     "text": [
      "torch.Size([16, 64, 128, 128])\n",
      "torch.Size([16, 128, 64, 64])\n",
      "torch.Size([16, 256, 32, 32])\n",
      "torch.Size([16, 512, 16, 16])\n",
      "torch.Size([16, 1024, 8, 8])\n",
      "torch.Size([16, 512, 16, 16])\n",
      "torch.Size([16, 256, 32, 32])\n",
      "torch.Size([16, 128, 64, 64])\n",
      "torch.Size([16, 64, 128, 128])\n"
     ]
    },
    {
     "name": "stderr",
     "output_type": "stream",
     "text": [
      "100%|██████████| 23/23 [12:33<00:00, 32.77s/it]\n",
      "  0%|          | 0/2 [00:00<?, ?it/s]"
     ]
    },
    {
     "name": "stdout",
     "output_type": "stream",
     "text": [
      "torch.Size([32, 64, 128, 128])\n",
      "torch.Size([32, 128, 64, 64])\n",
      "torch.Size([32, 256, 32, 32])\n",
      "torch.Size([32, 512, 16, 16])\n",
      "torch.Size([32, 1024, 8, 8])\n",
      "torch.Size([32, 512, 16, 16])\n",
      "torch.Size([32, 256, 32, 32])\n",
      "torch.Size([32, 128, 64, 64])\n"
     ]
    },
    {
     "name": "stderr",
     "output_type": "stream",
     "text": [
      " 50%|█████     | 1/2 [00:11<00:11, 11.01s/it]"
     ]
    },
    {
     "name": "stdout",
     "output_type": "stream",
     "text": [
      "torch.Size([32, 64, 128, 128])\n",
      "torch.Size([28, 64, 128, 128])\n",
      "torch.Size([28, 128, 64, 64])\n",
      "torch.Size([28, 256, 32, 32])\n",
      "torch.Size([28, 512, 16, 16])\n",
      "torch.Size([28, 1024, 8, 8])\n",
      "torch.Size([28, 512, 16, 16])\n",
      "torch.Size([28, 256, 32, 32])\n",
      "torch.Size([28, 128, 64, 64])\n"
     ]
    },
    {
     "name": "stderr",
     "output_type": "stream",
     "text": [
      "100%|██████████| 2/2 [00:20<00:00, 10.41s/it]\n"
     ]
    },
    {
     "name": "stdout",
     "output_type": "stream",
     "text": [
      "torch.Size([28, 64, 128, 128])\n",
      "Train Loss: 0.2676 | Val Loss: 0.3020\n",
      "\n",
      "Epoch 11/20\n"
     ]
    },
    {
     "name": "stderr",
     "output_type": "stream",
     "text": [
      "  0%|          | 0/23 [00:00<?, ?it/s]"
     ]
    },
    {
     "name": "stdout",
     "output_type": "stream",
     "text": [
      "torch.Size([32, 64, 128, 128])\n",
      "torch.Size([32, 128, 64, 64])\n",
      "torch.Size([32, 256, 32, 32])\n",
      "torch.Size([32, 512, 16, 16])\n",
      "torch.Size([32, 1024, 8, 8])\n",
      "torch.Size([32, 512, 16, 16])\n",
      "torch.Size([32, 256, 32, 32])\n",
      "torch.Size([32, 128, 64, 64])\n",
      "torch.Size([32, 64, 128, 128])\n"
     ]
    },
    {
     "name": "stderr",
     "output_type": "stream",
     "text": [
      "  4%|▍         | 1/23 [00:31<11:30, 31.40s/it]"
     ]
    },
    {
     "name": "stdout",
     "output_type": "stream",
     "text": [
      "torch.Size([32, 64, 128, 128])\n",
      "torch.Size([32, 128, 64, 64])\n",
      "torch.Size([32, 256, 32, 32])\n",
      "torch.Size([32, 512, 16, 16])\n",
      "torch.Size([32, 1024, 8, 8])\n",
      "torch.Size([32, 512, 16, 16])\n",
      "torch.Size([32, 256, 32, 32])\n",
      "torch.Size([32, 128, 64, 64])\n",
      "torch.Size([32, 64, 128, 128])\n"
     ]
    },
    {
     "name": "stderr",
     "output_type": "stream",
     "text": [
      "  9%|▊         | 2/23 [01:03<11:09, 31.88s/it]"
     ]
    },
    {
     "name": "stdout",
     "output_type": "stream",
     "text": [
      "torch.Size([32, 64, 128, 128])\n",
      "torch.Size([32, 128, 64, 64])\n",
      "torch.Size([32, 256, 32, 32])\n",
      "torch.Size([32, 512, 16, 16])\n",
      "torch.Size([32, 1024, 8, 8])\n",
      "torch.Size([32, 512, 16, 16])\n",
      "torch.Size([32, 256, 32, 32])\n",
      "torch.Size([32, 128, 64, 64])\n",
      "torch.Size([32, 64, 128, 128])\n"
     ]
    },
    {
     "name": "stderr",
     "output_type": "stream",
     "text": [
      " 13%|█▎        | 3/23 [01:35<10:40, 32.04s/it]"
     ]
    },
    {
     "name": "stdout",
     "output_type": "stream",
     "text": [
      "torch.Size([32, 64, 128, 128])\n",
      "torch.Size([32, 128, 64, 64])\n",
      "torch.Size([32, 256, 32, 32])\n",
      "torch.Size([32, 512, 16, 16])\n",
      "torch.Size([32, 1024, 8, 8])\n",
      "torch.Size([32, 512, 16, 16])\n",
      "torch.Size([32, 256, 32, 32])\n",
      "torch.Size([32, 128, 64, 64])\n",
      "torch.Size([32, 64, 128, 128])\n"
     ]
    },
    {
     "name": "stderr",
     "output_type": "stream",
     "text": [
      " 17%|█▋        | 4/23 [02:07<10:09, 32.07s/it]"
     ]
    },
    {
     "name": "stdout",
     "output_type": "stream",
     "text": [
      "torch.Size([32, 64, 128, 128])\n",
      "torch.Size([32, 128, 64, 64])\n",
      "torch.Size([32, 256, 32, 32])\n",
      "torch.Size([32, 512, 16, 16])\n",
      "torch.Size([32, 1024, 8, 8])\n",
      "torch.Size([32, 512, 16, 16])\n",
      "torch.Size([32, 256, 32, 32])\n",
      "torch.Size([32, 128, 64, 64])\n",
      "torch.Size([32, 64, 128, 128])\n"
     ]
    },
    {
     "name": "stderr",
     "output_type": "stream",
     "text": [
      " 22%|██▏       | 5/23 [02:39<09:35, 31.95s/it]"
     ]
    },
    {
     "name": "stdout",
     "output_type": "stream",
     "text": [
      "torch.Size([32, 64, 128, 128])\n",
      "torch.Size([32, 128, 64, 64])\n",
      "torch.Size([32, 256, 32, 32])\n",
      "torch.Size([32, 512, 16, 16])\n",
      "torch.Size([32, 1024, 8, 8])\n",
      "torch.Size([32, 512, 16, 16])\n",
      "torch.Size([32, 256, 32, 32])\n",
      "torch.Size([32, 128, 64, 64])\n",
      "torch.Size([32, 64, 128, 128])\n"
     ]
    },
    {
     "name": "stderr",
     "output_type": "stream",
     "text": [
      " 26%|██▌       | 6/23 [03:11<09:04, 32.05s/it]"
     ]
    },
    {
     "name": "stdout",
     "output_type": "stream",
     "text": [
      "torch.Size([32, 64, 128, 128])\n",
      "torch.Size([32, 128, 64, 64])\n",
      "torch.Size([32, 256, 32, 32])\n",
      "torch.Size([32, 512, 16, 16])\n",
      "torch.Size([32, 1024, 8, 8])\n",
      "torch.Size([32, 512, 16, 16])\n",
      "torch.Size([32, 256, 32, 32])\n",
      "torch.Size([32, 128, 64, 64])\n",
      "torch.Size([32, 64, 128, 128])\n"
     ]
    },
    {
     "name": "stderr",
     "output_type": "stream",
     "text": [
      " 30%|███       | 7/23 [03:45<08:38, 32.41s/it]"
     ]
    },
    {
     "name": "stdout",
     "output_type": "stream",
     "text": [
      "torch.Size([32, 64, 128, 128])\n",
      "torch.Size([32, 128, 64, 64])\n",
      "torch.Size([32, 256, 32, 32])\n",
      "torch.Size([32, 512, 16, 16])\n",
      "torch.Size([32, 1024, 8, 8])\n",
      "torch.Size([32, 512, 16, 16])\n",
      "torch.Size([32, 256, 32, 32])\n",
      "torch.Size([32, 128, 64, 64])\n",
      "torch.Size([32, 64, 128, 128])\n"
     ]
    },
    {
     "name": "stderr",
     "output_type": "stream",
     "text": [
      " 35%|███▍      | 8/23 [04:16<08:02, 32.19s/it]"
     ]
    },
    {
     "name": "stdout",
     "output_type": "stream",
     "text": [
      "torch.Size([32, 64, 128, 128])\n",
      "torch.Size([32, 128, 64, 64])\n",
      "torch.Size([32, 256, 32, 32])\n",
      "torch.Size([32, 512, 16, 16])\n",
      "torch.Size([32, 1024, 8, 8])\n",
      "torch.Size([32, 512, 16, 16])\n",
      "torch.Size([32, 256, 32, 32])\n",
      "torch.Size([32, 128, 64, 64])\n",
      "torch.Size([32, 64, 128, 128])\n"
     ]
    },
    {
     "name": "stderr",
     "output_type": "stream",
     "text": [
      " 39%|███▉      | 9/23 [04:47<07:25, 31.84s/it]"
     ]
    },
    {
     "name": "stdout",
     "output_type": "stream",
     "text": [
      "torch.Size([32, 64, 128, 128])\n",
      "torch.Size([32, 128, 64, 64])\n",
      "torch.Size([32, 256, 32, 32])\n",
      "torch.Size([32, 512, 16, 16])\n",
      "torch.Size([32, 1024, 8, 8])\n",
      "torch.Size([32, 512, 16, 16])\n",
      "torch.Size([32, 256, 32, 32])\n",
      "torch.Size([32, 128, 64, 64])\n",
      "torch.Size([32, 64, 128, 128])\n"
     ]
    },
    {
     "name": "stderr",
     "output_type": "stream",
     "text": [
      " 43%|████▎     | 10/23 [05:21<07:01, 32.43s/it]"
     ]
    },
    {
     "name": "stdout",
     "output_type": "stream",
     "text": [
      "torch.Size([32, 64, 128, 128])\n",
      "torch.Size([32, 128, 64, 64])\n",
      "torch.Size([32, 256, 32, 32])\n",
      "torch.Size([32, 512, 16, 16])\n",
      "torch.Size([32, 1024, 8, 8])\n",
      "torch.Size([32, 512, 16, 16])\n",
      "torch.Size([32, 256, 32, 32])\n",
      "torch.Size([32, 128, 64, 64])\n",
      "torch.Size([32, 64, 128, 128])\n"
     ]
    },
    {
     "name": "stderr",
     "output_type": "stream",
     "text": [
      " 48%|████▊     | 11/23 [05:54<06:30, 32.50s/it]"
     ]
    },
    {
     "name": "stdout",
     "output_type": "stream",
     "text": [
      "torch.Size([32, 64, 128, 128])\n",
      "torch.Size([32, 128, 64, 64])\n",
      "torch.Size([32, 256, 32, 32])\n",
      "torch.Size([32, 512, 16, 16])\n",
      "torch.Size([32, 1024, 8, 8])\n",
      "torch.Size([32, 512, 16, 16])\n",
      "torch.Size([32, 256, 32, 32])\n",
      "torch.Size([32, 128, 64, 64])\n",
      "torch.Size([32, 64, 128, 128])\n"
     ]
    },
    {
     "name": "stderr",
     "output_type": "stream",
     "text": [
      " 52%|█████▏    | 12/23 [06:26<05:55, 32.29s/it]"
     ]
    },
    {
     "name": "stdout",
     "output_type": "stream",
     "text": [
      "torch.Size([32, 64, 128, 128])\n",
      "torch.Size([32, 128, 64, 64])\n",
      "torch.Size([32, 256, 32, 32])\n",
      "torch.Size([32, 512, 16, 16])\n",
      "torch.Size([32, 1024, 8, 8])\n",
      "torch.Size([32, 512, 16, 16])\n",
      "torch.Size([32, 256, 32, 32])\n",
      "torch.Size([32, 128, 64, 64])\n",
      "torch.Size([32, 64, 128, 128])\n"
     ]
    },
    {
     "name": "stderr",
     "output_type": "stream",
     "text": [
      " 57%|█████▋    | 13/23 [06:58<05:21, 32.17s/it]"
     ]
    },
    {
     "name": "stdout",
     "output_type": "stream",
     "text": [
      "torch.Size([32, 64, 128, 128])\n",
      "torch.Size([32, 128, 64, 64])\n",
      "torch.Size([32, 256, 32, 32])\n",
      "torch.Size([32, 512, 16, 16])\n",
      "torch.Size([32, 1024, 8, 8])\n",
      "torch.Size([32, 512, 16, 16])\n",
      "torch.Size([32, 256, 32, 32])\n",
      "torch.Size([32, 128, 64, 64])\n",
      "torch.Size([32, 64, 128, 128])\n"
     ]
    },
    {
     "name": "stderr",
     "output_type": "stream",
     "text": [
      " 61%|██████    | 14/23 [07:30<04:50, 32.27s/it]"
     ]
    },
    {
     "name": "stdout",
     "output_type": "stream",
     "text": [
      "torch.Size([32, 64, 128, 128])\n",
      "torch.Size([32, 128, 64, 64])\n",
      "torch.Size([32, 256, 32, 32])\n",
      "torch.Size([32, 512, 16, 16])\n",
      "torch.Size([32, 1024, 8, 8])\n",
      "torch.Size([32, 512, 16, 16])\n",
      "torch.Size([32, 256, 32, 32])\n",
      "torch.Size([32, 128, 64, 64])\n",
      "torch.Size([32, 64, 128, 128])\n"
     ]
    },
    {
     "name": "stderr",
     "output_type": "stream",
     "text": [
      " 65%|██████▌   | 15/23 [08:03<04:18, 32.33s/it]"
     ]
    },
    {
     "name": "stdout",
     "output_type": "stream",
     "text": [
      "torch.Size([32, 64, 128, 128])\n",
      "torch.Size([32, 128, 64, 64])\n",
      "torch.Size([32, 256, 32, 32])\n",
      "torch.Size([32, 512, 16, 16])\n",
      "torch.Size([32, 1024, 8, 8])\n",
      "torch.Size([32, 512, 16, 16])\n",
      "torch.Size([32, 256, 32, 32])\n",
      "torch.Size([32, 128, 64, 64])\n",
      "torch.Size([32, 64, 128, 128])\n"
     ]
    },
    {
     "name": "stderr",
     "output_type": "stream",
     "text": [
      " 70%|██████▉   | 16/23 [08:36<03:48, 32.63s/it]"
     ]
    },
    {
     "name": "stdout",
     "output_type": "stream",
     "text": [
      "torch.Size([32, 64, 128, 128])\n",
      "torch.Size([32, 128, 64, 64])\n",
      "torch.Size([32, 256, 32, 32])\n",
      "torch.Size([32, 512, 16, 16])\n",
      "torch.Size([32, 1024, 8, 8])\n",
      "torch.Size([32, 512, 16, 16])\n",
      "torch.Size([32, 256, 32, 32])\n",
      "torch.Size([32, 128, 64, 64])\n",
      "torch.Size([32, 64, 128, 128])\n"
     ]
    },
    {
     "name": "stderr",
     "output_type": "stream",
     "text": [
      " 74%|███████▍  | 17/23 [09:08<03:14, 32.48s/it]"
     ]
    },
    {
     "name": "stdout",
     "output_type": "stream",
     "text": [
      "torch.Size([32, 64, 128, 128])\n",
      "torch.Size([32, 128, 64, 64])\n",
      "torch.Size([32, 256, 32, 32])\n",
      "torch.Size([32, 512, 16, 16])\n",
      "torch.Size([32, 1024, 8, 8])\n",
      "torch.Size([32, 512, 16, 16])\n",
      "torch.Size([32, 256, 32, 32])\n",
      "torch.Size([32, 128, 64, 64])\n",
      "torch.Size([32, 64, 128, 128])\n"
     ]
    },
    {
     "name": "stderr",
     "output_type": "stream",
     "text": [
      " 78%|███████▊  | 18/23 [09:41<02:43, 32.65s/it]"
     ]
    },
    {
     "name": "stdout",
     "output_type": "stream",
     "text": [
      "torch.Size([32, 64, 128, 128])\n",
      "torch.Size([32, 128, 64, 64])\n",
      "torch.Size([32, 256, 32, 32])\n",
      "torch.Size([32, 512, 16, 16])\n",
      "torch.Size([32, 1024, 8, 8])\n",
      "torch.Size([32, 512, 16, 16])\n",
      "torch.Size([32, 256, 32, 32])\n",
      "torch.Size([32, 128, 64, 64])\n",
      "torch.Size([32, 64, 128, 128])\n"
     ]
    },
    {
     "name": "stderr",
     "output_type": "stream",
     "text": [
      " 83%|████████▎ | 19/23 [10:13<02:09, 32.36s/it]"
     ]
    },
    {
     "name": "stdout",
     "output_type": "stream",
     "text": [
      "torch.Size([32, 64, 128, 128])\n",
      "torch.Size([32, 128, 64, 64])\n",
      "torch.Size([32, 256, 32, 32])\n",
      "torch.Size([32, 512, 16, 16])\n",
      "torch.Size([32, 1024, 8, 8])\n",
      "torch.Size([32, 512, 16, 16])\n",
      "torch.Size([32, 256, 32, 32])\n",
      "torch.Size([32, 128, 64, 64])\n",
      "torch.Size([32, 64, 128, 128])\n"
     ]
    },
    {
     "name": "stderr",
     "output_type": "stream",
     "text": [
      " 87%|████████▋ | 20/23 [10:46<01:38, 32.68s/it]"
     ]
    },
    {
     "name": "stdout",
     "output_type": "stream",
     "text": [
      "torch.Size([32, 64, 128, 128])\n",
      "torch.Size([32, 128, 64, 64])\n",
      "torch.Size([32, 256, 32, 32])\n",
      "torch.Size([32, 512, 16, 16])\n",
      "torch.Size([32, 1024, 8, 8])\n",
      "torch.Size([32, 512, 16, 16])\n",
      "torch.Size([32, 256, 32, 32])\n",
      "torch.Size([32, 128, 64, 64])\n",
      "torch.Size([32, 64, 128, 128])\n"
     ]
    },
    {
     "name": "stderr",
     "output_type": "stream",
     "text": [
      " 91%|█████████▏| 21/23 [11:19<01:05, 32.85s/it]"
     ]
    },
    {
     "name": "stdout",
     "output_type": "stream",
     "text": [
      "torch.Size([32, 64, 128, 128])\n",
      "torch.Size([32, 128, 64, 64])\n",
      "torch.Size([32, 256, 32, 32])\n",
      "torch.Size([32, 512, 16, 16])\n",
      "torch.Size([32, 1024, 8, 8])\n",
      "torch.Size([32, 512, 16, 16])\n",
      "torch.Size([32, 256, 32, 32])\n",
      "torch.Size([32, 128, 64, 64])\n",
      "torch.Size([32, 64, 128, 128])\n"
     ]
    },
    {
     "name": "stderr",
     "output_type": "stream",
     "text": [
      " 96%|█████████▌| 22/23 [11:52<00:32, 32.70s/it]"
     ]
    },
    {
     "name": "stdout",
     "output_type": "stream",
     "text": [
      "torch.Size([16, 64, 128, 128])\n",
      "torch.Size([16, 128, 64, 64])\n",
      "torch.Size([16, 256, 32, 32])\n",
      "torch.Size([16, 512, 16, 16])\n",
      "torch.Size([16, 1024, 8, 8])\n",
      "torch.Size([16, 512, 16, 16])\n",
      "torch.Size([16, 256, 32, 32])\n",
      "torch.Size([16, 128, 64, 64])\n",
      "torch.Size([16, 64, 128, 128])\n"
     ]
    },
    {
     "name": "stderr",
     "output_type": "stream",
     "text": [
      "100%|██████████| 23/23 [12:08<00:00, 31.66s/it]\n",
      "  0%|          | 0/2 [00:00<?, ?it/s]"
     ]
    },
    {
     "name": "stdout",
     "output_type": "stream",
     "text": [
      "torch.Size([32, 64, 128, 128])\n",
      "torch.Size([32, 128, 64, 64])\n",
      "torch.Size([32, 256, 32, 32])\n",
      "torch.Size([32, 512, 16, 16])\n",
      "torch.Size([32, 1024, 8, 8])\n",
      "torch.Size([32, 512, 16, 16])\n",
      "torch.Size([32, 256, 32, 32])\n",
      "torch.Size([32, 128, 64, 64])\n"
     ]
    },
    {
     "name": "stderr",
     "output_type": "stream",
     "text": [
      " 50%|█████     | 1/2 [00:10<00:10, 10.94s/it]"
     ]
    },
    {
     "name": "stdout",
     "output_type": "stream",
     "text": [
      "torch.Size([32, 64, 128, 128])\n",
      "torch.Size([28, 64, 128, 128])\n",
      "torch.Size([28, 128, 64, 64])\n",
      "torch.Size([28, 256, 32, 32])\n",
      "torch.Size([28, 512, 16, 16])\n",
      "torch.Size([28, 1024, 8, 8])\n",
      "torch.Size([28, 512, 16, 16])\n",
      "torch.Size([28, 256, 32, 32])\n",
      "torch.Size([28, 128, 64, 64])\n"
     ]
    },
    {
     "name": "stderr",
     "output_type": "stream",
     "text": [
      "100%|██████████| 2/2 [00:20<00:00, 10.32s/it]\n"
     ]
    },
    {
     "name": "stdout",
     "output_type": "stream",
     "text": [
      "torch.Size([28, 64, 128, 128])\n",
      "Train Loss: 0.2587 | Val Loss: 0.3179\n",
      "\n",
      "Epoch 12/20\n"
     ]
    },
    {
     "name": "stderr",
     "output_type": "stream",
     "text": [
      "  0%|          | 0/23 [00:00<?, ?it/s]"
     ]
    },
    {
     "name": "stdout",
     "output_type": "stream",
     "text": [
      "torch.Size([32, 64, 128, 128])\n",
      "torch.Size([32, 128, 64, 64])\n",
      "torch.Size([32, 256, 32, 32])\n",
      "torch.Size([32, 512, 16, 16])\n",
      "torch.Size([32, 1024, 8, 8])\n",
      "torch.Size([32, 512, 16, 16])\n",
      "torch.Size([32, 256, 32, 32])\n",
      "torch.Size([32, 128, 64, 64])\n",
      "torch.Size([32, 64, 128, 128])\n"
     ]
    },
    {
     "name": "stderr",
     "output_type": "stream",
     "text": [
      "  4%|▍         | 1/23 [00:31<11:40, 31.85s/it]"
     ]
    },
    {
     "name": "stdout",
     "output_type": "stream",
     "text": [
      "torch.Size([32, 64, 128, 128])\n",
      "torch.Size([32, 128, 64, 64])\n",
      "torch.Size([32, 256, 32, 32])\n",
      "torch.Size([32, 512, 16, 16])\n",
      "torch.Size([32, 1024, 8, 8])\n",
      "torch.Size([32, 512, 16, 16])\n",
      "torch.Size([32, 256, 32, 32])\n",
      "torch.Size([32, 128, 64, 64])\n",
      "torch.Size([32, 64, 128, 128])\n"
     ]
    },
    {
     "name": "stderr",
     "output_type": "stream",
     "text": [
      "  9%|▊         | 2/23 [01:05<11:27, 32.74s/it]"
     ]
    },
    {
     "name": "stdout",
     "output_type": "stream",
     "text": [
      "torch.Size([32, 64, 128, 128])\n",
      "torch.Size([32, 128, 64, 64])\n",
      "torch.Size([32, 256, 32, 32])\n",
      "torch.Size([32, 512, 16, 16])\n",
      "torch.Size([32, 1024, 8, 8])\n",
      "torch.Size([32, 512, 16, 16])\n",
      "torch.Size([32, 256, 32, 32])\n",
      "torch.Size([32, 128, 64, 64])\n",
      "torch.Size([32, 64, 128, 128])\n"
     ]
    },
    {
     "name": "stderr",
     "output_type": "stream",
     "text": [
      " 13%|█▎        | 3/23 [01:36<10:44, 32.21s/it]"
     ]
    },
    {
     "name": "stdout",
     "output_type": "stream",
     "text": [
      "torch.Size([32, 64, 128, 128])\n",
      "torch.Size([32, 128, 64, 64])\n",
      "torch.Size([32, 256, 32, 32])\n",
      "torch.Size([32, 512, 16, 16])\n",
      "torch.Size([32, 1024, 8, 8])\n",
      "torch.Size([32, 512, 16, 16])\n",
      "torch.Size([32, 256, 32, 32])\n",
      "torch.Size([32, 128, 64, 64])\n",
      "torch.Size([32, 64, 128, 128])\n"
     ]
    },
    {
     "name": "stderr",
     "output_type": "stream",
     "text": [
      " 17%|█▋        | 4/23 [02:08<10:07, 31.96s/it]"
     ]
    },
    {
     "name": "stdout",
     "output_type": "stream",
     "text": [
      "torch.Size([32, 64, 128, 128])\n",
      "torch.Size([32, 128, 64, 64])\n",
      "torch.Size([32, 256, 32, 32])\n",
      "torch.Size([32, 512, 16, 16])\n",
      "torch.Size([32, 1024, 8, 8])\n",
      "torch.Size([32, 512, 16, 16])\n",
      "torch.Size([32, 256, 32, 32])\n",
      "torch.Size([32, 128, 64, 64])\n",
      "torch.Size([32, 64, 128, 128])\n"
     ]
    },
    {
     "name": "stderr",
     "output_type": "stream",
     "text": [
      " 22%|██▏       | 5/23 [02:40<09:38, 32.15s/it]"
     ]
    },
    {
     "name": "stdout",
     "output_type": "stream",
     "text": [
      "torch.Size([32, 64, 128, 128])\n",
      "torch.Size([32, 128, 64, 64])\n",
      "torch.Size([32, 256, 32, 32])\n",
      "torch.Size([32, 512, 16, 16])\n",
      "torch.Size([32, 1024, 8, 8])\n",
      "torch.Size([32, 512, 16, 16])\n",
      "torch.Size([32, 256, 32, 32])\n",
      "torch.Size([32, 128, 64, 64])\n",
      "torch.Size([32, 64, 128, 128])\n"
     ]
    },
    {
     "name": "stderr",
     "output_type": "stream",
     "text": [
      " 26%|██▌       | 6/23 [03:13<09:06, 32.18s/it]"
     ]
    },
    {
     "name": "stdout",
     "output_type": "stream",
     "text": [
      "torch.Size([32, 64, 128, 128])\n",
      "torch.Size([32, 128, 64, 64])\n",
      "torch.Size([32, 256, 32, 32])\n",
      "torch.Size([32, 512, 16, 16])\n",
      "torch.Size([32, 1024, 8, 8])\n",
      "torch.Size([32, 512, 16, 16])\n",
      "torch.Size([32, 256, 32, 32])\n",
      "torch.Size([32, 128, 64, 64])\n",
      "torch.Size([32, 64, 128, 128])\n"
     ]
    },
    {
     "name": "stderr",
     "output_type": "stream",
     "text": [
      " 30%|███       | 7/23 [03:45<08:35, 32.23s/it]"
     ]
    },
    {
     "name": "stdout",
     "output_type": "stream",
     "text": [
      "torch.Size([32, 64, 128, 128])\n",
      "torch.Size([32, 128, 64, 64])\n",
      "torch.Size([32, 256, 32, 32])\n",
      "torch.Size([32, 512, 16, 16])\n",
      "torch.Size([32, 1024, 8, 8])\n",
      "torch.Size([32, 512, 16, 16])\n",
      "torch.Size([32, 256, 32, 32])\n",
      "torch.Size([32, 128, 64, 64])\n",
      "torch.Size([32, 64, 128, 128])\n"
     ]
    },
    {
     "name": "stderr",
     "output_type": "stream",
     "text": [
      " 35%|███▍      | 8/23 [04:18<08:05, 32.37s/it]"
     ]
    },
    {
     "name": "stdout",
     "output_type": "stream",
     "text": [
      "torch.Size([32, 64, 128, 128])\n",
      "torch.Size([32, 128, 64, 64])\n",
      "torch.Size([32, 256, 32, 32])\n",
      "torch.Size([32, 512, 16, 16])\n",
      "torch.Size([32, 1024, 8, 8])\n",
      "torch.Size([32, 512, 16, 16])\n",
      "torch.Size([32, 256, 32, 32])\n",
      "torch.Size([32, 128, 64, 64])\n",
      "torch.Size([32, 64, 128, 128])\n"
     ]
    },
    {
     "name": "stderr",
     "output_type": "stream",
     "text": [
      " 39%|███▉      | 9/23 [04:50<07:35, 32.50s/it]"
     ]
    },
    {
     "name": "stdout",
     "output_type": "stream",
     "text": [
      "torch.Size([32, 64, 128, 128])\n",
      "torch.Size([32, 128, 64, 64])\n",
      "torch.Size([32, 256, 32, 32])\n",
      "torch.Size([32, 512, 16, 16])\n",
      "torch.Size([32, 1024, 8, 8])\n",
      "torch.Size([32, 512, 16, 16])\n",
      "torch.Size([32, 256, 32, 32])\n",
      "torch.Size([32, 128, 64, 64])\n",
      "torch.Size([32, 64, 128, 128])\n"
     ]
    },
    {
     "name": "stderr",
     "output_type": "stream",
     "text": [
      " 43%|████▎     | 10/23 [05:22<06:58, 32.19s/it]"
     ]
    },
    {
     "name": "stdout",
     "output_type": "stream",
     "text": [
      "torch.Size([32, 64, 128, 128])\n",
      "torch.Size([32, 128, 64, 64])\n",
      "torch.Size([32, 256, 32, 32])\n",
      "torch.Size([32, 512, 16, 16])\n",
      "torch.Size([32, 1024, 8, 8])\n",
      "torch.Size([32, 512, 16, 16])\n",
      "torch.Size([32, 256, 32, 32])\n",
      "torch.Size([32, 128, 64, 64])\n",
      "torch.Size([32, 64, 128, 128])\n"
     ]
    },
    {
     "name": "stderr",
     "output_type": "stream",
     "text": [
      " 48%|████▊     | 11/23 [05:55<06:29, 32.49s/it]"
     ]
    },
    {
     "name": "stdout",
     "output_type": "stream",
     "text": [
      "torch.Size([32, 64, 128, 128])\n",
      "torch.Size([32, 128, 64, 64])\n",
      "torch.Size([32, 256, 32, 32])\n",
      "torch.Size([32, 512, 16, 16])\n",
      "torch.Size([32, 1024, 8, 8])\n",
      "torch.Size([32, 512, 16, 16])\n",
      "torch.Size([32, 256, 32, 32])\n",
      "torch.Size([32, 128, 64, 64])\n",
      "torch.Size([32, 64, 128, 128])\n"
     ]
    },
    {
     "name": "stderr",
     "output_type": "stream",
     "text": [
      " 52%|█████▏    | 12/23 [06:28<06:00, 32.74s/it]"
     ]
    },
    {
     "name": "stdout",
     "output_type": "stream",
     "text": [
      "torch.Size([32, 64, 128, 128])\n",
      "torch.Size([32, 128, 64, 64])\n",
      "torch.Size([32, 256, 32, 32])\n",
      "torch.Size([32, 512, 16, 16])\n",
      "torch.Size([32, 1024, 8, 8])\n",
      "torch.Size([32, 512, 16, 16])\n",
      "torch.Size([32, 256, 32, 32])\n",
      "torch.Size([32, 128, 64, 64])\n",
      "torch.Size([32, 64, 128, 128])\n"
     ]
    },
    {
     "name": "stderr",
     "output_type": "stream",
     "text": [
      " 57%|█████▋    | 13/23 [07:01<05:26, 32.61s/it]"
     ]
    },
    {
     "name": "stdout",
     "output_type": "stream",
     "text": [
      "torch.Size([32, 64, 128, 128])\n",
      "torch.Size([32, 128, 64, 64])\n",
      "torch.Size([32, 256, 32, 32])\n",
      "torch.Size([32, 512, 16, 16])\n",
      "torch.Size([32, 1024, 8, 8])\n",
      "torch.Size([32, 512, 16, 16])\n",
      "torch.Size([32, 256, 32, 32])\n",
      "torch.Size([32, 128, 64, 64])\n",
      "torch.Size([32, 64, 128, 128])\n"
     ]
    },
    {
     "name": "stderr",
     "output_type": "stream",
     "text": [
      " 61%|██████    | 14/23 [07:34<04:54, 32.71s/it]"
     ]
    },
    {
     "name": "stdout",
     "output_type": "stream",
     "text": [
      "torch.Size([32, 64, 128, 128])\n",
      "torch.Size([32, 128, 64, 64])\n",
      "torch.Size([32, 256, 32, 32])\n",
      "torch.Size([32, 512, 16, 16])\n",
      "torch.Size([32, 1024, 8, 8])\n",
      "torch.Size([32, 512, 16, 16])\n",
      "torch.Size([32, 256, 32, 32])\n",
      "torch.Size([32, 128, 64, 64])\n",
      "torch.Size([32, 64, 128, 128])\n"
     ]
    },
    {
     "name": "stderr",
     "output_type": "stream",
     "text": [
      " 65%|██████▌   | 15/23 [08:06<04:20, 32.58s/it]"
     ]
    },
    {
     "name": "stdout",
     "output_type": "stream",
     "text": [
      "torch.Size([32, 64, 128, 128])\n",
      "torch.Size([32, 128, 64, 64])\n",
      "torch.Size([32, 256, 32, 32])\n",
      "torch.Size([32, 512, 16, 16])\n",
      "torch.Size([32, 1024, 8, 8])\n",
      "torch.Size([32, 512, 16, 16])\n",
      "torch.Size([32, 256, 32, 32])\n",
      "torch.Size([32, 128, 64, 64])\n",
      "torch.Size([32, 64, 128, 128])\n"
     ]
    },
    {
     "name": "stderr",
     "output_type": "stream",
     "text": [
      " 70%|██████▉   | 16/23 [08:38<03:46, 32.37s/it]"
     ]
    },
    {
     "name": "stdout",
     "output_type": "stream",
     "text": [
      "torch.Size([32, 64, 128, 128])\n",
      "torch.Size([32, 128, 64, 64])\n",
      "torch.Size([32, 256, 32, 32])\n",
      "torch.Size([32, 512, 16, 16])\n",
      "torch.Size([32, 1024, 8, 8])\n",
      "torch.Size([32, 512, 16, 16])\n",
      "torch.Size([32, 256, 32, 32])\n",
      "torch.Size([32, 128, 64, 64])\n",
      "torch.Size([32, 64, 128, 128])\n"
     ]
    },
    {
     "name": "stderr",
     "output_type": "stream",
     "text": [
      " 74%|███████▍  | 17/23 [09:10<03:13, 32.18s/it]"
     ]
    },
    {
     "name": "stdout",
     "output_type": "stream",
     "text": [
      "torch.Size([32, 64, 128, 128])\n",
      "torch.Size([32, 128, 64, 64])\n",
      "torch.Size([32, 256, 32, 32])\n",
      "torch.Size([32, 512, 16, 16])\n",
      "torch.Size([32, 1024, 8, 8])\n",
      "torch.Size([32, 512, 16, 16])\n",
      "torch.Size([32, 256, 32, 32])\n",
      "torch.Size([32, 128, 64, 64])\n",
      "torch.Size([32, 64, 128, 128])\n"
     ]
    },
    {
     "name": "stderr",
     "output_type": "stream",
     "text": [
      " 78%|███████▊  | 18/23 [09:41<02:39, 31.93s/it]"
     ]
    },
    {
     "name": "stdout",
     "output_type": "stream",
     "text": [
      "torch.Size([32, 64, 128, 128])\n",
      "torch.Size([32, 128, 64, 64])\n",
      "torch.Size([32, 256, 32, 32])\n",
      "torch.Size([32, 512, 16, 16])\n",
      "torch.Size([32, 1024, 8, 8])\n",
      "torch.Size([32, 512, 16, 16])\n",
      "torch.Size([32, 256, 32, 32])\n",
      "torch.Size([32, 128, 64, 64])\n",
      "torch.Size([32, 64, 128, 128])\n"
     ]
    },
    {
     "name": "stderr",
     "output_type": "stream",
     "text": [
      " 83%|████████▎ | 19/23 [10:12<02:07, 31.79s/it]"
     ]
    },
    {
     "name": "stdout",
     "output_type": "stream",
     "text": [
      "torch.Size([32, 64, 128, 128])\n",
      "torch.Size([32, 128, 64, 64])\n",
      "torch.Size([32, 256, 32, 32])\n",
      "torch.Size([32, 512, 16, 16])\n",
      "torch.Size([32, 1024, 8, 8])\n",
      "torch.Size([32, 512, 16, 16])\n",
      "torch.Size([32, 256, 32, 32])\n",
      "torch.Size([32, 128, 64, 64])\n",
      "torch.Size([32, 64, 128, 128])\n"
     ]
    },
    {
     "name": "stderr",
     "output_type": "stream",
     "text": [
      " 87%|████████▋ | 20/23 [10:45<01:36, 32.13s/it]"
     ]
    },
    {
     "name": "stdout",
     "output_type": "stream",
     "text": [
      "torch.Size([32, 64, 128, 128])\n",
      "torch.Size([32, 128, 64, 64])\n",
      "torch.Size([32, 256, 32, 32])\n",
      "torch.Size([32, 512, 16, 16])\n",
      "torch.Size([32, 1024, 8, 8])\n",
      "torch.Size([32, 512, 16, 16])\n",
      "torch.Size([32, 256, 32, 32])\n",
      "torch.Size([32, 128, 64, 64])\n",
      "torch.Size([32, 64, 128, 128])\n"
     ]
    },
    {
     "name": "stderr",
     "output_type": "stream",
     "text": [
      " 91%|█████████▏| 21/23 [11:20<01:05, 32.97s/it]"
     ]
    },
    {
     "name": "stdout",
     "output_type": "stream",
     "text": [
      "torch.Size([32, 64, 128, 128])\n",
      "torch.Size([32, 128, 64, 64])\n",
      "torch.Size([32, 256, 32, 32])\n",
      "torch.Size([32, 512, 16, 16])\n",
      "torch.Size([32, 1024, 8, 8])\n",
      "torch.Size([32, 512, 16, 16])\n",
      "torch.Size([32, 256, 32, 32])\n",
      "torch.Size([32, 128, 64, 64])\n",
      "torch.Size([32, 64, 128, 128])\n"
     ]
    },
    {
     "name": "stderr",
     "output_type": "stream",
     "text": [
      " 96%|█████████▌| 22/23 [11:52<00:32, 32.62s/it]"
     ]
    },
    {
     "name": "stdout",
     "output_type": "stream",
     "text": [
      "torch.Size([16, 64, 128, 128])\n",
      "torch.Size([16, 128, 64, 64])\n",
      "torch.Size([16, 256, 32, 32])\n",
      "torch.Size([16, 512, 16, 16])\n",
      "torch.Size([16, 1024, 8, 8])\n",
      "torch.Size([16, 512, 16, 16])\n",
      "torch.Size([16, 256, 32, 32])\n",
      "torch.Size([16, 128, 64, 64])\n",
      "torch.Size([16, 64, 128, 128])\n"
     ]
    },
    {
     "name": "stderr",
     "output_type": "stream",
     "text": [
      "100%|██████████| 23/23 [12:07<00:00, 31.64s/it]\n",
      "  0%|          | 0/2 [00:00<?, ?it/s]"
     ]
    },
    {
     "name": "stdout",
     "output_type": "stream",
     "text": [
      "torch.Size([32, 64, 128, 128])\n",
      "torch.Size([32, 128, 64, 64])\n",
      "torch.Size([32, 256, 32, 32])\n",
      "torch.Size([32, 512, 16, 16])\n",
      "torch.Size([32, 1024, 8, 8])\n",
      "torch.Size([32, 512, 16, 16])\n",
      "torch.Size([32, 256, 32, 32])\n",
      "torch.Size([32, 128, 64, 64])\n"
     ]
    },
    {
     "name": "stderr",
     "output_type": "stream",
     "text": [
      " 50%|█████     | 1/2 [00:10<00:10, 10.43s/it]"
     ]
    },
    {
     "name": "stdout",
     "output_type": "stream",
     "text": [
      "torch.Size([32, 64, 128, 128])\n",
      "torch.Size([28, 64, 128, 128])\n",
      "torch.Size([28, 128, 64, 64])\n",
      "torch.Size([28, 256, 32, 32])\n",
      "torch.Size([28, 512, 16, 16])\n",
      "torch.Size([28, 1024, 8, 8])\n",
      "torch.Size([28, 512, 16, 16])\n",
      "torch.Size([28, 256, 32, 32])\n",
      "torch.Size([28, 128, 64, 64])\n"
     ]
    },
    {
     "name": "stderr",
     "output_type": "stream",
     "text": [
      "100%|██████████| 2/2 [00:19<00:00,  9.96s/it]\n"
     ]
    },
    {
     "name": "stdout",
     "output_type": "stream",
     "text": [
      "torch.Size([28, 64, 128, 128])\n",
      "Train Loss: 0.2443 | Val Loss: 0.3026\n",
      "\n",
      "Epoch 13/20\n"
     ]
    },
    {
     "name": "stderr",
     "output_type": "stream",
     "text": [
      "  0%|          | 0/23 [00:00<?, ?it/s]"
     ]
    },
    {
     "name": "stdout",
     "output_type": "stream",
     "text": [
      "torch.Size([32, 64, 128, 128])\n",
      "torch.Size([32, 128, 64, 64])\n",
      "torch.Size([32, 256, 32, 32])\n",
      "torch.Size([32, 512, 16, 16])\n",
      "torch.Size([32, 1024, 8, 8])\n",
      "torch.Size([32, 512, 16, 16])\n",
      "torch.Size([32, 256, 32, 32])\n",
      "torch.Size([32, 128, 64, 64])\n",
      "torch.Size([32, 64, 128, 128])\n"
     ]
    },
    {
     "name": "stderr",
     "output_type": "stream",
     "text": [
      "  4%|▍         | 1/23 [00:30<11:08, 30.40s/it]"
     ]
    },
    {
     "name": "stdout",
     "output_type": "stream",
     "text": [
      "torch.Size([32, 64, 128, 128])\n",
      "torch.Size([32, 128, 64, 64])\n",
      "torch.Size([32, 256, 32, 32])\n",
      "torch.Size([32, 512, 16, 16])\n",
      "torch.Size([32, 1024, 8, 8])\n",
      "torch.Size([32, 512, 16, 16])\n",
      "torch.Size([32, 256, 32, 32])\n",
      "torch.Size([32, 128, 64, 64])\n",
      "torch.Size([32, 64, 128, 128])\n"
     ]
    },
    {
     "name": "stderr",
     "output_type": "stream",
     "text": [
      "  9%|▊         | 2/23 [01:00<10:39, 30.45s/it]"
     ]
    },
    {
     "name": "stdout",
     "output_type": "stream",
     "text": [
      "torch.Size([32, 64, 128, 128])\n",
      "torch.Size([32, 128, 64, 64])\n",
      "torch.Size([32, 256, 32, 32])\n",
      "torch.Size([32, 512, 16, 16])\n",
      "torch.Size([32, 1024, 8, 8])\n",
      "torch.Size([32, 512, 16, 16])\n",
      "torch.Size([32, 256, 32, 32])\n",
      "torch.Size([32, 128, 64, 64])\n",
      "torch.Size([32, 64, 128, 128])\n"
     ]
    },
    {
     "name": "stderr",
     "output_type": "stream",
     "text": [
      " 13%|█▎        | 3/23 [01:31<10:10, 30.50s/it]"
     ]
    },
    {
     "name": "stdout",
     "output_type": "stream",
     "text": [
      "torch.Size([32, 64, 128, 128])\n",
      "torch.Size([32, 128, 64, 64])\n",
      "torch.Size([32, 256, 32, 32])\n",
      "torch.Size([32, 512, 16, 16])\n",
      "torch.Size([32, 1024, 8, 8])\n",
      "torch.Size([32, 512, 16, 16])\n",
      "torch.Size([32, 256, 32, 32])\n",
      "torch.Size([32, 128, 64, 64])\n",
      "torch.Size([32, 64, 128, 128])\n"
     ]
    },
    {
     "name": "stderr",
     "output_type": "stream",
     "text": [
      " 17%|█▋        | 4/23 [02:02<09:41, 30.63s/it]"
     ]
    },
    {
     "name": "stdout",
     "output_type": "stream",
     "text": [
      "torch.Size([32, 64, 128, 128])\n",
      "torch.Size([32, 128, 64, 64])\n",
      "torch.Size([32, 256, 32, 32])\n",
      "torch.Size([32, 512, 16, 16])\n",
      "torch.Size([32, 1024, 8, 8])\n",
      "torch.Size([32, 512, 16, 16])\n",
      "torch.Size([32, 256, 32, 32])\n",
      "torch.Size([32, 128, 64, 64])\n",
      "torch.Size([32, 64, 128, 128])\n"
     ]
    },
    {
     "name": "stderr",
     "output_type": "stream",
     "text": [
      " 22%|██▏       | 5/23 [02:32<09:11, 30.64s/it]"
     ]
    },
    {
     "name": "stdout",
     "output_type": "stream",
     "text": [
      "torch.Size([32, 64, 128, 128])\n",
      "torch.Size([32, 128, 64, 64])\n",
      "torch.Size([32, 256, 32, 32])\n",
      "torch.Size([32, 512, 16, 16])\n",
      "torch.Size([32, 1024, 8, 8])\n",
      "torch.Size([32, 512, 16, 16])\n",
      "torch.Size([32, 256, 32, 32])\n",
      "torch.Size([32, 128, 64, 64])\n",
      "torch.Size([32, 64, 128, 128])\n"
     ]
    },
    {
     "name": "stderr",
     "output_type": "stream",
     "text": [
      " 26%|██▌       | 6/23 [03:03<08:40, 30.61s/it]"
     ]
    },
    {
     "name": "stdout",
     "output_type": "stream",
     "text": [
      "torch.Size([32, 64, 128, 128])\n",
      "torch.Size([32, 128, 64, 64])\n",
      "torch.Size([32, 256, 32, 32])\n",
      "torch.Size([32, 512, 16, 16])\n",
      "torch.Size([32, 1024, 8, 8])\n",
      "torch.Size([32, 512, 16, 16])\n",
      "torch.Size([32, 256, 32, 32])\n",
      "torch.Size([32, 128, 64, 64])\n",
      "torch.Size([32, 64, 128, 128])\n"
     ]
    },
    {
     "name": "stderr",
     "output_type": "stream",
     "text": [
      " 30%|███       | 7/23 [03:34<08:10, 30.64s/it]"
     ]
    },
    {
     "name": "stdout",
     "output_type": "stream",
     "text": [
      "torch.Size([32, 64, 128, 128])\n",
      "torch.Size([32, 128, 64, 64])\n",
      "torch.Size([32, 256, 32, 32])\n",
      "torch.Size([32, 512, 16, 16])\n",
      "torch.Size([32, 1024, 8, 8])\n",
      "torch.Size([32, 512, 16, 16])\n",
      "torch.Size([32, 256, 32, 32])\n",
      "torch.Size([32, 128, 64, 64])\n",
      "torch.Size([32, 64, 128, 128])\n"
     ]
    },
    {
     "name": "stderr",
     "output_type": "stream",
     "text": [
      " 35%|███▍      | 8/23 [04:04<07:39, 30.62s/it]"
     ]
    },
    {
     "name": "stdout",
     "output_type": "stream",
     "text": [
      "torch.Size([32, 64, 128, 128])\n",
      "torch.Size([32, 128, 64, 64])\n",
      "torch.Size([32, 256, 32, 32])\n",
      "torch.Size([32, 512, 16, 16])\n",
      "torch.Size([32, 1024, 8, 8])\n",
      "torch.Size([32, 512, 16, 16])\n",
      "torch.Size([32, 256, 32, 32])\n",
      "torch.Size([32, 128, 64, 64])\n",
      "torch.Size([32, 64, 128, 128])\n"
     ]
    },
    {
     "name": "stderr",
     "output_type": "stream",
     "text": [
      " 39%|███▉      | 9/23 [04:34<07:06, 30.49s/it]"
     ]
    },
    {
     "name": "stdout",
     "output_type": "stream",
     "text": [
      "torch.Size([32, 64, 128, 128])\n",
      "torch.Size([32, 128, 64, 64])\n",
      "torch.Size([32, 256, 32, 32])\n",
      "torch.Size([32, 512, 16, 16])\n",
      "torch.Size([32, 1024, 8, 8])\n",
      "torch.Size([32, 512, 16, 16])\n",
      "torch.Size([32, 256, 32, 32])\n",
      "torch.Size([32, 128, 64, 64])\n",
      "torch.Size([32, 64, 128, 128])\n"
     ]
    },
    {
     "name": "stderr",
     "output_type": "stream",
     "text": [
      " 43%|████▎     | 10/23 [05:05<06:35, 30.45s/it]"
     ]
    },
    {
     "name": "stdout",
     "output_type": "stream",
     "text": [
      "torch.Size([32, 64, 128, 128])\n",
      "torch.Size([32, 128, 64, 64])\n",
      "torch.Size([32, 256, 32, 32])\n",
      "torch.Size([32, 512, 16, 16])\n",
      "torch.Size([32, 1024, 8, 8])\n",
      "torch.Size([32, 512, 16, 16])\n",
      "torch.Size([32, 256, 32, 32])\n",
      "torch.Size([32, 128, 64, 64])\n",
      "torch.Size([32, 64, 128, 128])\n"
     ]
    },
    {
     "name": "stderr",
     "output_type": "stream",
     "text": [
      " 48%|████▊     | 11/23 [05:35<06:05, 30.47s/it]"
     ]
    },
    {
     "name": "stdout",
     "output_type": "stream",
     "text": [
      "torch.Size([32, 64, 128, 128])\n",
      "torch.Size([32, 128, 64, 64])\n",
      "torch.Size([32, 256, 32, 32])\n",
      "torch.Size([32, 512, 16, 16])\n",
      "torch.Size([32, 1024, 8, 8])\n",
      "torch.Size([32, 512, 16, 16])\n",
      "torch.Size([32, 256, 32, 32])\n",
      "torch.Size([32, 128, 64, 64])\n",
      "torch.Size([32, 64, 128, 128])\n"
     ]
    },
    {
     "name": "stderr",
     "output_type": "stream",
     "text": [
      " 52%|█████▏    | 12/23 [06:06<05:35, 30.53s/it]"
     ]
    },
    {
     "name": "stdout",
     "output_type": "stream",
     "text": [
      "torch.Size([32, 64, 128, 128])\n",
      "torch.Size([32, 128, 64, 64])\n",
      "torch.Size([32, 256, 32, 32])\n",
      "torch.Size([32, 512, 16, 16])\n",
      "torch.Size([32, 1024, 8, 8])\n",
      "torch.Size([32, 512, 16, 16])\n",
      "torch.Size([32, 256, 32, 32])\n",
      "torch.Size([32, 128, 64, 64])\n",
      "torch.Size([32, 64, 128, 128])\n"
     ]
    },
    {
     "name": "stderr",
     "output_type": "stream",
     "text": [
      " 57%|█████▋    | 13/23 [06:36<05:04, 30.46s/it]"
     ]
    },
    {
     "name": "stdout",
     "output_type": "stream",
     "text": [
      "torch.Size([32, 64, 128, 128])\n",
      "torch.Size([32, 128, 64, 64])\n",
      "torch.Size([32, 256, 32, 32])\n",
      "torch.Size([32, 512, 16, 16])\n",
      "torch.Size([32, 1024, 8, 8])\n",
      "torch.Size([32, 512, 16, 16])\n",
      "torch.Size([32, 256, 32, 32])\n",
      "torch.Size([32, 128, 64, 64])\n",
      "torch.Size([32, 64, 128, 128])\n"
     ]
    },
    {
     "name": "stderr",
     "output_type": "stream",
     "text": [
      " 61%|██████    | 14/23 [07:07<04:34, 30.47s/it]"
     ]
    },
    {
     "name": "stdout",
     "output_type": "stream",
     "text": [
      "torch.Size([32, 64, 128, 128])\n",
      "torch.Size([32, 128, 64, 64])\n",
      "torch.Size([32, 256, 32, 32])\n",
      "torch.Size([32, 512, 16, 16])\n",
      "torch.Size([32, 1024, 8, 8])\n",
      "torch.Size([32, 512, 16, 16])\n",
      "torch.Size([32, 256, 32, 32])\n",
      "torch.Size([32, 128, 64, 64])\n",
      "torch.Size([32, 64, 128, 128])\n"
     ]
    },
    {
     "name": "stderr",
     "output_type": "stream",
     "text": [
      " 65%|██████▌   | 15/23 [07:37<04:03, 30.48s/it]"
     ]
    },
    {
     "name": "stdout",
     "output_type": "stream",
     "text": [
      "torch.Size([32, 64, 128, 128])\n",
      "torch.Size([32, 128, 64, 64])\n",
      "torch.Size([32, 256, 32, 32])\n",
      "torch.Size([32, 512, 16, 16])\n",
      "torch.Size([32, 1024, 8, 8])\n",
      "torch.Size([32, 512, 16, 16])\n",
      "torch.Size([32, 256, 32, 32])\n",
      "torch.Size([32, 128, 64, 64])\n",
      "torch.Size([32, 64, 128, 128])\n"
     ]
    },
    {
     "name": "stderr",
     "output_type": "stream",
     "text": [
      " 70%|██████▉   | 16/23 [08:08<03:33, 30.49s/it]"
     ]
    },
    {
     "name": "stdout",
     "output_type": "stream",
     "text": [
      "torch.Size([32, 64, 128, 128])\n",
      "torch.Size([32, 128, 64, 64])\n",
      "torch.Size([32, 256, 32, 32])\n",
      "torch.Size([32, 512, 16, 16])\n",
      "torch.Size([32, 1024, 8, 8])\n",
      "torch.Size([32, 512, 16, 16])\n",
      "torch.Size([32, 256, 32, 32])\n",
      "torch.Size([32, 128, 64, 64])\n",
      "torch.Size([32, 64, 128, 128])\n"
     ]
    },
    {
     "name": "stderr",
     "output_type": "stream",
     "text": [
      " 74%|███████▍  | 17/23 [08:38<03:02, 30.45s/it]"
     ]
    },
    {
     "name": "stdout",
     "output_type": "stream",
     "text": [
      "torch.Size([32, 64, 128, 128])\n",
      "torch.Size([32, 128, 64, 64])\n",
      "torch.Size([32, 256, 32, 32])\n",
      "torch.Size([32, 512, 16, 16])\n",
      "torch.Size([32, 1024, 8, 8])\n",
      "torch.Size([32, 512, 16, 16])\n",
      "torch.Size([32, 256, 32, 32])\n",
      "torch.Size([32, 128, 64, 64])\n",
      "torch.Size([32, 64, 128, 128])\n"
     ]
    },
    {
     "name": "stderr",
     "output_type": "stream",
     "text": [
      " 78%|███████▊  | 18/23 [09:08<02:31, 30.39s/it]"
     ]
    },
    {
     "name": "stdout",
     "output_type": "stream",
     "text": [
      "torch.Size([32, 64, 128, 128])\n",
      "torch.Size([32, 128, 64, 64])\n",
      "torch.Size([32, 256, 32, 32])\n",
      "torch.Size([32, 512, 16, 16])\n",
      "torch.Size([32, 1024, 8, 8])\n",
      "torch.Size([32, 512, 16, 16])\n",
      "torch.Size([32, 256, 32, 32])\n",
      "torch.Size([32, 128, 64, 64])\n",
      "torch.Size([32, 64, 128, 128])\n"
     ]
    },
    {
     "name": "stderr",
     "output_type": "stream",
     "text": [
      " 83%|████████▎ | 19/23 [09:39<02:01, 30.46s/it]"
     ]
    },
    {
     "name": "stdout",
     "output_type": "stream",
     "text": [
      "torch.Size([32, 64, 128, 128])\n",
      "torch.Size([32, 128, 64, 64])\n",
      "torch.Size([32, 256, 32, 32])\n",
      "torch.Size([32, 512, 16, 16])\n",
      "torch.Size([32, 1024, 8, 8])\n",
      "torch.Size([32, 512, 16, 16])\n",
      "torch.Size([32, 256, 32, 32])\n",
      "torch.Size([32, 128, 64, 64])\n",
      "torch.Size([32, 64, 128, 128])\n"
     ]
    },
    {
     "name": "stderr",
     "output_type": "stream",
     "text": [
      " 87%|████████▋ | 20/23 [10:09<01:31, 30.45s/it]"
     ]
    },
    {
     "name": "stdout",
     "output_type": "stream",
     "text": [
      "torch.Size([32, 64, 128, 128])\n",
      "torch.Size([32, 128, 64, 64])\n",
      "torch.Size([32, 256, 32, 32])\n",
      "torch.Size([32, 512, 16, 16])\n",
      "torch.Size([32, 1024, 8, 8])\n",
      "torch.Size([32, 512, 16, 16])\n",
      "torch.Size([32, 256, 32, 32])\n",
      "torch.Size([32, 128, 64, 64])\n",
      "torch.Size([32, 64, 128, 128])\n"
     ]
    },
    {
     "name": "stderr",
     "output_type": "stream",
     "text": [
      " 91%|█████████▏| 21/23 [10:40<01:00, 30.42s/it]"
     ]
    },
    {
     "name": "stdout",
     "output_type": "stream",
     "text": [
      "torch.Size([32, 64, 128, 128])\n",
      "torch.Size([32, 128, 64, 64])\n",
      "torch.Size([32, 256, 32, 32])\n",
      "torch.Size([32, 512, 16, 16])\n",
      "torch.Size([32, 1024, 8, 8])\n",
      "torch.Size([32, 512, 16, 16])\n",
      "torch.Size([32, 256, 32, 32])\n",
      "torch.Size([32, 128, 64, 64])\n",
      "torch.Size([32, 64, 128, 128])\n"
     ]
    },
    {
     "name": "stderr",
     "output_type": "stream",
     "text": [
      " 96%|█████████▌| 22/23 [11:10<00:30, 30.48s/it]"
     ]
    },
    {
     "name": "stdout",
     "output_type": "stream",
     "text": [
      "torch.Size([16, 64, 128, 128])\n",
      "torch.Size([16, 128, 64, 64])\n",
      "torch.Size([16, 256, 32, 32])\n",
      "torch.Size([16, 512, 16, 16])\n",
      "torch.Size([16, 1024, 8, 8])\n",
      "torch.Size([16, 512, 16, 16])\n",
      "torch.Size([16, 256, 32, 32])\n",
      "torch.Size([16, 128, 64, 64])\n",
      "torch.Size([16, 64, 128, 128])\n"
     ]
    },
    {
     "name": "stderr",
     "output_type": "stream",
     "text": [
      "100%|██████████| 23/23 [11:26<00:00, 29.83s/it]\n",
      "  0%|          | 0/2 [00:00<?, ?it/s]"
     ]
    },
    {
     "name": "stdout",
     "output_type": "stream",
     "text": [
      "torch.Size([32, 64, 128, 128])\n",
      "torch.Size([32, 128, 64, 64])\n",
      "torch.Size([32, 256, 32, 32])\n",
      "torch.Size([32, 512, 16, 16])\n",
      "torch.Size([32, 1024, 8, 8])\n",
      "torch.Size([32, 512, 16, 16])\n",
      "torch.Size([32, 256, 32, 32])\n",
      "torch.Size([32, 128, 64, 64])\n"
     ]
    },
    {
     "name": "stderr",
     "output_type": "stream",
     "text": [
      " 50%|█████     | 1/2 [00:10<00:10, 10.65s/it]"
     ]
    },
    {
     "name": "stdout",
     "output_type": "stream",
     "text": [
      "torch.Size([32, 64, 128, 128])\n",
      "torch.Size([28, 64, 128, 128])\n",
      "torch.Size([28, 128, 64, 64])\n",
      "torch.Size([28, 256, 32, 32])\n",
      "torch.Size([28, 512, 16, 16])\n",
      "torch.Size([28, 1024, 8, 8])\n",
      "torch.Size([28, 512, 16, 16])\n",
      "torch.Size([28, 256, 32, 32])\n",
      "torch.Size([28, 128, 64, 64])\n"
     ]
    },
    {
     "name": "stderr",
     "output_type": "stream",
     "text": [
      "100%|██████████| 2/2 [00:19<00:00, 10.00s/it]\n"
     ]
    },
    {
     "name": "stdout",
     "output_type": "stream",
     "text": [
      "torch.Size([28, 64, 128, 128])\n",
      "Train Loss: 0.2333 | Val Loss: 0.2784\n",
      "\n",
      "Epoch 14/20\n"
     ]
    },
    {
     "name": "stderr",
     "output_type": "stream",
     "text": [
      "  0%|          | 0/23 [00:00<?, ?it/s]"
     ]
    },
    {
     "name": "stdout",
     "output_type": "stream",
     "text": [
      "torch.Size([32, 64, 128, 128])\n",
      "torch.Size([32, 128, 64, 64])\n",
      "torch.Size([32, 256, 32, 32])\n",
      "torch.Size([32, 512, 16, 16])\n",
      "torch.Size([32, 1024, 8, 8])\n",
      "torch.Size([32, 512, 16, 16])\n",
      "torch.Size([32, 256, 32, 32])\n",
      "torch.Size([32, 128, 64, 64])\n",
      "torch.Size([32, 64, 128, 128])\n"
     ]
    },
    {
     "name": "stderr",
     "output_type": "stream",
     "text": [
      "  4%|▍         | 1/23 [00:30<11:09, 30.42s/it]"
     ]
    },
    {
     "name": "stdout",
     "output_type": "stream",
     "text": [
      "torch.Size([32, 64, 128, 128])\n",
      "torch.Size([32, 128, 64, 64])\n",
      "torch.Size([32, 256, 32, 32])\n",
      "torch.Size([32, 512, 16, 16])\n",
      "torch.Size([32, 1024, 8, 8])\n",
      "torch.Size([32, 512, 16, 16])\n",
      "torch.Size([32, 256, 32, 32])\n",
      "torch.Size([32, 128, 64, 64])\n",
      "torch.Size([32, 64, 128, 128])\n"
     ]
    },
    {
     "name": "stderr",
     "output_type": "stream",
     "text": [
      "  9%|▊         | 2/23 [01:00<10:38, 30.40s/it]"
     ]
    },
    {
     "name": "stdout",
     "output_type": "stream",
     "text": [
      "torch.Size([32, 64, 128, 128])\n",
      "torch.Size([32, 128, 64, 64])\n",
      "torch.Size([32, 256, 32, 32])\n",
      "torch.Size([32, 512, 16, 16])\n",
      "torch.Size([32, 1024, 8, 8])\n",
      "torch.Size([32, 512, 16, 16])\n",
      "torch.Size([32, 256, 32, 32])\n",
      "torch.Size([32, 128, 64, 64])\n",
      "torch.Size([32, 64, 128, 128])\n"
     ]
    },
    {
     "name": "stderr",
     "output_type": "stream",
     "text": [
      " 13%|█▎        | 3/23 [01:31<10:08, 30.43s/it]"
     ]
    },
    {
     "name": "stdout",
     "output_type": "stream",
     "text": [
      "torch.Size([32, 64, 128, 128])\n",
      "torch.Size([32, 128, 64, 64])\n",
      "torch.Size([32, 256, 32, 32])\n",
      "torch.Size([32, 512, 16, 16])\n",
      "torch.Size([32, 1024, 8, 8])\n",
      "torch.Size([32, 512, 16, 16])\n",
      "torch.Size([32, 256, 32, 32])\n",
      "torch.Size([32, 128, 64, 64])\n",
      "torch.Size([32, 64, 128, 128])\n"
     ]
    },
    {
     "name": "stderr",
     "output_type": "stream",
     "text": [
      " 17%|█▋        | 4/23 [02:02<09:43, 30.69s/it]"
     ]
    },
    {
     "name": "stdout",
     "output_type": "stream",
     "text": [
      "torch.Size([32, 64, 128, 128])\n",
      "torch.Size([32, 128, 64, 64])\n",
      "torch.Size([32, 256, 32, 32])\n",
      "torch.Size([32, 512, 16, 16])\n",
      "torch.Size([32, 1024, 8, 8])\n",
      "torch.Size([32, 512, 16, 16])\n",
      "torch.Size([32, 256, 32, 32])\n",
      "torch.Size([32, 128, 64, 64])\n",
      "torch.Size([32, 64, 128, 128])\n"
     ]
    },
    {
     "name": "stderr",
     "output_type": "stream",
     "text": [
      " 22%|██▏       | 5/23 [02:32<09:11, 30.65s/it]"
     ]
    },
    {
     "name": "stdout",
     "output_type": "stream",
     "text": [
      "torch.Size([32, 64, 128, 128])\n",
      "torch.Size([32, 128, 64, 64])\n",
      "torch.Size([32, 256, 32, 32])\n",
      "torch.Size([32, 512, 16, 16])\n",
      "torch.Size([32, 1024, 8, 8])\n",
      "torch.Size([32, 512, 16, 16])\n",
      "torch.Size([32, 256, 32, 32])\n",
      "torch.Size([32, 128, 64, 64])\n",
      "torch.Size([32, 64, 128, 128])\n"
     ]
    },
    {
     "name": "stderr",
     "output_type": "stream",
     "text": [
      " 26%|██▌       | 6/23 [03:03<08:41, 30.67s/it]"
     ]
    },
    {
     "name": "stdout",
     "output_type": "stream",
     "text": [
      "torch.Size([32, 64, 128, 128])\n",
      "torch.Size([32, 128, 64, 64])\n",
      "torch.Size([32, 256, 32, 32])\n",
      "torch.Size([32, 512, 16, 16])\n",
      "torch.Size([32, 1024, 8, 8])\n",
      "torch.Size([32, 512, 16, 16])\n",
      "torch.Size([32, 256, 32, 32])\n",
      "torch.Size([32, 128, 64, 64])\n",
      "torch.Size([32, 64, 128, 128])\n"
     ]
    },
    {
     "name": "stderr",
     "output_type": "stream",
     "text": [
      " 30%|███       | 7/23 [03:34<08:11, 30.70s/it]"
     ]
    },
    {
     "name": "stdout",
     "output_type": "stream",
     "text": [
      "torch.Size([32, 64, 128, 128])\n",
      "torch.Size([32, 128, 64, 64])\n",
      "torch.Size([32, 256, 32, 32])\n",
      "torch.Size([32, 512, 16, 16])\n",
      "torch.Size([32, 1024, 8, 8])\n",
      "torch.Size([32, 512, 16, 16])\n",
      "torch.Size([32, 256, 32, 32])\n",
      "torch.Size([32, 128, 64, 64])\n",
      "torch.Size([32, 64, 128, 128])\n"
     ]
    },
    {
     "name": "stderr",
     "output_type": "stream",
     "text": [
      " 35%|███▍      | 8/23 [04:05<07:42, 30.81s/it]"
     ]
    },
    {
     "name": "stdout",
     "output_type": "stream",
     "text": [
      "torch.Size([32, 64, 128, 128])\n",
      "torch.Size([32, 128, 64, 64])\n",
      "torch.Size([32, 256, 32, 32])\n",
      "torch.Size([32, 512, 16, 16])\n",
      "torch.Size([32, 1024, 8, 8])\n",
      "torch.Size([32, 512, 16, 16])\n",
      "torch.Size([32, 256, 32, 32])\n",
      "torch.Size([32, 128, 64, 64])\n",
      "torch.Size([32, 64, 128, 128])\n"
     ]
    },
    {
     "name": "stderr",
     "output_type": "stream",
     "text": [
      " 39%|███▉      | 9/23 [04:36<07:11, 30.79s/it]"
     ]
    },
    {
     "name": "stdout",
     "output_type": "stream",
     "text": [
      "torch.Size([32, 64, 128, 128])\n",
      "torch.Size([32, 128, 64, 64])\n",
      "torch.Size([32, 256, 32, 32])\n",
      "torch.Size([32, 512, 16, 16])\n",
      "torch.Size([32, 1024, 8, 8])\n",
      "torch.Size([32, 512, 16, 16])\n",
      "torch.Size([32, 256, 32, 32])\n",
      "torch.Size([32, 128, 64, 64])\n",
      "torch.Size([32, 64, 128, 128])\n"
     ]
    },
    {
     "name": "stderr",
     "output_type": "stream",
     "text": [
      " 43%|████▎     | 10/23 [05:06<06:39, 30.70s/it]"
     ]
    },
    {
     "name": "stdout",
     "output_type": "stream",
     "text": [
      "torch.Size([32, 64, 128, 128])\n",
      "torch.Size([32, 128, 64, 64])\n",
      "torch.Size([32, 256, 32, 32])\n",
      "torch.Size([32, 512, 16, 16])\n",
      "torch.Size([32, 1024, 8, 8])\n",
      "torch.Size([32, 512, 16, 16])\n",
      "torch.Size([32, 256, 32, 32])\n",
      "torch.Size([32, 128, 64, 64])\n",
      "torch.Size([32, 64, 128, 128])\n"
     ]
    },
    {
     "name": "stderr",
     "output_type": "stream",
     "text": [
      " 48%|████▊     | 11/23 [05:37<06:07, 30.63s/it]"
     ]
    },
    {
     "name": "stdout",
     "output_type": "stream",
     "text": [
      "torch.Size([32, 64, 128, 128])\n",
      "torch.Size([32, 128, 64, 64])\n",
      "torch.Size([32, 256, 32, 32])\n",
      "torch.Size([32, 512, 16, 16])\n",
      "torch.Size([32, 1024, 8, 8])\n",
      "torch.Size([32, 512, 16, 16])\n",
      "torch.Size([32, 256, 32, 32])\n",
      "torch.Size([32, 128, 64, 64])\n",
      "torch.Size([32, 64, 128, 128])\n"
     ]
    },
    {
     "name": "stderr",
     "output_type": "stream",
     "text": [
      " 52%|█████▏    | 12/23 [06:07<05:36, 30.63s/it]"
     ]
    },
    {
     "name": "stdout",
     "output_type": "stream",
     "text": [
      "torch.Size([32, 64, 128, 128])\n",
      "torch.Size([32, 128, 64, 64])\n",
      "torch.Size([32, 256, 32, 32])\n",
      "torch.Size([32, 512, 16, 16])\n",
      "torch.Size([32, 1024, 8, 8])\n",
      "torch.Size([32, 512, 16, 16])\n",
      "torch.Size([32, 256, 32, 32])\n",
      "torch.Size([32, 128, 64, 64])\n",
      "torch.Size([32, 64, 128, 128])\n"
     ]
    },
    {
     "name": "stderr",
     "output_type": "stream",
     "text": [
      " 57%|█████▋    | 13/23 [06:37<05:04, 30.46s/it]"
     ]
    },
    {
     "name": "stdout",
     "output_type": "stream",
     "text": [
      "torch.Size([32, 64, 128, 128])\n",
      "torch.Size([32, 128, 64, 64])\n",
      "torch.Size([32, 256, 32, 32])\n",
      "torch.Size([32, 512, 16, 16])\n",
      "torch.Size([32, 1024, 8, 8])\n",
      "torch.Size([32, 512, 16, 16])\n",
      "torch.Size([32, 256, 32, 32])\n",
      "torch.Size([32, 128, 64, 64])\n",
      "torch.Size([32, 64, 128, 128])\n"
     ]
    },
    {
     "name": "stderr",
     "output_type": "stream",
     "text": [
      " 61%|██████    | 14/23 [07:08<04:33, 30.44s/it]"
     ]
    },
    {
     "name": "stdout",
     "output_type": "stream",
     "text": [
      "torch.Size([32, 64, 128, 128])\n",
      "torch.Size([32, 128, 64, 64])\n",
      "torch.Size([32, 256, 32, 32])\n",
      "torch.Size([32, 512, 16, 16])\n",
      "torch.Size([32, 1024, 8, 8])\n",
      "torch.Size([32, 512, 16, 16])\n",
      "torch.Size([32, 256, 32, 32])\n",
      "torch.Size([32, 128, 64, 64])\n",
      "torch.Size([32, 64, 128, 128])\n"
     ]
    },
    {
     "name": "stderr",
     "output_type": "stream",
     "text": [
      " 65%|██████▌   | 15/23 [07:38<04:03, 30.41s/it]"
     ]
    },
    {
     "name": "stdout",
     "output_type": "stream",
     "text": [
      "torch.Size([32, 64, 128, 128])\n",
      "torch.Size([32, 128, 64, 64])\n",
      "torch.Size([32, 256, 32, 32])\n",
      "torch.Size([32, 512, 16, 16])\n",
      "torch.Size([32, 1024, 8, 8])\n",
      "torch.Size([32, 512, 16, 16])\n",
      "torch.Size([32, 256, 32, 32])\n",
      "torch.Size([32, 128, 64, 64])\n",
      "torch.Size([32, 64, 128, 128])\n"
     ]
    },
    {
     "name": "stderr",
     "output_type": "stream",
     "text": [
      " 70%|██████▉   | 16/23 [08:09<03:33, 30.46s/it]"
     ]
    },
    {
     "name": "stdout",
     "output_type": "stream",
     "text": [
      "torch.Size([32, 64, 128, 128])\n",
      "torch.Size([32, 128, 64, 64])\n",
      "torch.Size([32, 256, 32, 32])\n",
      "torch.Size([32, 512, 16, 16])\n",
      "torch.Size([32, 1024, 8, 8])\n",
      "torch.Size([32, 512, 16, 16])\n",
      "torch.Size([32, 256, 32, 32])\n",
      "torch.Size([32, 128, 64, 64])\n",
      "torch.Size([32, 64, 128, 128])\n"
     ]
    },
    {
     "name": "stderr",
     "output_type": "stream",
     "text": [
      " 74%|███████▍  | 17/23 [08:39<03:02, 30.42s/it]"
     ]
    },
    {
     "name": "stdout",
     "output_type": "stream",
     "text": [
      "torch.Size([32, 64, 128, 128])\n",
      "torch.Size([32, 128, 64, 64])\n",
      "torch.Size([32, 256, 32, 32])\n",
      "torch.Size([32, 512, 16, 16])\n",
      "torch.Size([32, 1024, 8, 8])\n",
      "torch.Size([32, 512, 16, 16])\n",
      "torch.Size([32, 256, 32, 32])\n",
      "torch.Size([32, 128, 64, 64])\n",
      "torch.Size([32, 64, 128, 128])\n"
     ]
    },
    {
     "name": "stderr",
     "output_type": "stream",
     "text": [
      " 78%|███████▊  | 18/23 [09:09<02:31, 30.37s/it]"
     ]
    },
    {
     "name": "stdout",
     "output_type": "stream",
     "text": [
      "torch.Size([32, 64, 128, 128])\n",
      "torch.Size([32, 128, 64, 64])\n",
      "torch.Size([32, 256, 32, 32])\n",
      "torch.Size([32, 512, 16, 16])\n",
      "torch.Size([32, 1024, 8, 8])\n",
      "torch.Size([32, 512, 16, 16])\n",
      "torch.Size([32, 256, 32, 32])\n",
      "torch.Size([32, 128, 64, 64])\n",
      "torch.Size([32, 64, 128, 128])\n"
     ]
    },
    {
     "name": "stderr",
     "output_type": "stream",
     "text": [
      " 83%|████████▎ | 19/23 [09:40<02:01, 30.40s/it]"
     ]
    },
    {
     "name": "stdout",
     "output_type": "stream",
     "text": [
      "torch.Size([32, 64, 128, 128])\n",
      "torch.Size([32, 128, 64, 64])\n",
      "torch.Size([32, 256, 32, 32])\n",
      "torch.Size([32, 512, 16, 16])\n",
      "torch.Size([32, 1024, 8, 8])\n",
      "torch.Size([32, 512, 16, 16])\n",
      "torch.Size([32, 256, 32, 32])\n",
      "torch.Size([32, 128, 64, 64])\n",
      "torch.Size([32, 64, 128, 128])\n"
     ]
    },
    {
     "name": "stderr",
     "output_type": "stream",
     "text": [
      " 87%|████████▋ | 20/23 [10:10<01:31, 30.49s/it]"
     ]
    },
    {
     "name": "stdout",
     "output_type": "stream",
     "text": [
      "torch.Size([32, 64, 128, 128])\n",
      "torch.Size([32, 128, 64, 64])\n",
      "torch.Size([32, 256, 32, 32])\n",
      "torch.Size([32, 512, 16, 16])\n",
      "torch.Size([32, 1024, 8, 8])\n",
      "torch.Size([32, 512, 16, 16])\n",
      "torch.Size([32, 256, 32, 32])\n",
      "torch.Size([32, 128, 64, 64])\n",
      "torch.Size([32, 64, 128, 128])\n"
     ]
    },
    {
     "name": "stderr",
     "output_type": "stream",
     "text": [
      " 91%|█████████▏| 21/23 [10:41<01:00, 30.46s/it]"
     ]
    },
    {
     "name": "stdout",
     "output_type": "stream",
     "text": [
      "torch.Size([32, 64, 128, 128])\n",
      "torch.Size([32, 128, 64, 64])\n",
      "torch.Size([32, 256, 32, 32])\n",
      "torch.Size([32, 512, 16, 16])\n",
      "torch.Size([32, 1024, 8, 8])\n",
      "torch.Size([32, 512, 16, 16])\n",
      "torch.Size([32, 256, 32, 32])\n",
      "torch.Size([32, 128, 64, 64])\n",
      "torch.Size([32, 64, 128, 128])\n"
     ]
    },
    {
     "name": "stderr",
     "output_type": "stream",
     "text": [
      " 96%|█████████▌| 22/23 [11:12<00:30, 30.55s/it]"
     ]
    },
    {
     "name": "stdout",
     "output_type": "stream",
     "text": [
      "torch.Size([16, 64, 128, 128])\n",
      "torch.Size([16, 128, 64, 64])\n",
      "torch.Size([16, 256, 32, 32])\n",
      "torch.Size([16, 512, 16, 16])\n",
      "torch.Size([16, 1024, 8, 8])\n",
      "torch.Size([16, 512, 16, 16])\n",
      "torch.Size([16, 256, 32, 32])\n",
      "torch.Size([16, 128, 64, 64])\n",
      "torch.Size([16, 64, 128, 128])\n"
     ]
    },
    {
     "name": "stderr",
     "output_type": "stream",
     "text": [
      "100%|██████████| 23/23 [11:27<00:00, 29.88s/it]\n",
      "  0%|          | 0/2 [00:00<?, ?it/s]"
     ]
    },
    {
     "name": "stdout",
     "output_type": "stream",
     "text": [
      "torch.Size([32, 64, 128, 128])\n",
      "torch.Size([32, 128, 64, 64])\n",
      "torch.Size([32, 256, 32, 32])\n",
      "torch.Size([32, 512, 16, 16])\n",
      "torch.Size([32, 1024, 8, 8])\n",
      "torch.Size([32, 512, 16, 16])\n",
      "torch.Size([32, 256, 32, 32])\n",
      "torch.Size([32, 128, 64, 64])\n"
     ]
    },
    {
     "name": "stderr",
     "output_type": "stream",
     "text": [
      " 50%|█████     | 1/2 [00:10<00:10, 10.47s/it]"
     ]
    },
    {
     "name": "stdout",
     "output_type": "stream",
     "text": [
      "torch.Size([32, 64, 128, 128])\n",
      "torch.Size([28, 64, 128, 128])\n",
      "torch.Size([28, 128, 64, 64])\n",
      "torch.Size([28, 256, 32, 32])\n",
      "torch.Size([28, 512, 16, 16])\n",
      "torch.Size([28, 1024, 8, 8])\n",
      "torch.Size([28, 512, 16, 16])\n",
      "torch.Size([28, 256, 32, 32])\n",
      "torch.Size([28, 128, 64, 64])\n"
     ]
    },
    {
     "name": "stderr",
     "output_type": "stream",
     "text": [
      "100%|██████████| 2/2 [00:20<00:00, 10.09s/it]\n"
     ]
    },
    {
     "name": "stdout",
     "output_type": "stream",
     "text": [
      "torch.Size([28, 64, 128, 128])\n",
      "Train Loss: 0.2241 | Val Loss: 0.3020\n",
      "\n",
      "Epoch 15/20\n"
     ]
    },
    {
     "name": "stderr",
     "output_type": "stream",
     "text": [
      "  0%|          | 0/23 [00:00<?, ?it/s]"
     ]
    },
    {
     "name": "stdout",
     "output_type": "stream",
     "text": [
      "torch.Size([32, 64, 128, 128])\n",
      "torch.Size([32, 128, 64, 64])\n",
      "torch.Size([32, 256, 32, 32])\n",
      "torch.Size([32, 512, 16, 16])\n",
      "torch.Size([32, 1024, 8, 8])\n",
      "torch.Size([32, 512, 16, 16])\n",
      "torch.Size([32, 256, 32, 32])\n",
      "torch.Size([32, 128, 64, 64])\n",
      "torch.Size([32, 64, 128, 128])\n"
     ]
    },
    {
     "name": "stderr",
     "output_type": "stream",
     "text": [
      "  4%|▍         | 1/23 [00:30<11:09, 30.42s/it]"
     ]
    },
    {
     "name": "stdout",
     "output_type": "stream",
     "text": [
      "torch.Size([32, 64, 128, 128])\n",
      "torch.Size([32, 128, 64, 64])\n",
      "torch.Size([32, 256, 32, 32])\n",
      "torch.Size([32, 512, 16, 16])\n",
      "torch.Size([32, 1024, 8, 8])\n",
      "torch.Size([32, 512, 16, 16])\n",
      "torch.Size([32, 256, 32, 32])\n",
      "torch.Size([32, 128, 64, 64])\n",
      "torch.Size([32, 64, 128, 128])\n"
     ]
    },
    {
     "name": "stderr",
     "output_type": "stream",
     "text": [
      "  9%|▊         | 2/23 [01:00<10:37, 30.34s/it]"
     ]
    },
    {
     "name": "stdout",
     "output_type": "stream",
     "text": [
      "torch.Size([32, 64, 128, 128])\n",
      "torch.Size([32, 128, 64, 64])\n",
      "torch.Size([32, 256, 32, 32])\n",
      "torch.Size([32, 512, 16, 16])\n",
      "torch.Size([32, 1024, 8, 8])\n",
      "torch.Size([32, 512, 16, 16])\n",
      "torch.Size([32, 256, 32, 32])\n",
      "torch.Size([32, 128, 64, 64])\n",
      "torch.Size([32, 64, 128, 128])\n"
     ]
    },
    {
     "name": "stderr",
     "output_type": "stream",
     "text": [
      " 13%|█▎        | 3/23 [01:31<10:06, 30.33s/it]"
     ]
    },
    {
     "name": "stdout",
     "output_type": "stream",
     "text": [
      "torch.Size([32, 64, 128, 128])\n",
      "torch.Size([32, 128, 64, 64])\n",
      "torch.Size([32, 256, 32, 32])\n",
      "torch.Size([32, 512, 16, 16])\n",
      "torch.Size([32, 1024, 8, 8])\n",
      "torch.Size([32, 512, 16, 16])\n",
      "torch.Size([32, 256, 32, 32])\n",
      "torch.Size([32, 128, 64, 64])\n",
      "torch.Size([32, 64, 128, 128])\n"
     ]
    },
    {
     "name": "stderr",
     "output_type": "stream",
     "text": [
      " 17%|█▋        | 4/23 [02:01<09:41, 30.58s/it]"
     ]
    },
    {
     "name": "stdout",
     "output_type": "stream",
     "text": [
      "torch.Size([32, 64, 128, 128])\n",
      "torch.Size([32, 128, 64, 64])\n",
      "torch.Size([32, 256, 32, 32])\n",
      "torch.Size([32, 512, 16, 16])\n",
      "torch.Size([32, 1024, 8, 8])\n",
      "torch.Size([32, 512, 16, 16])\n",
      "torch.Size([32, 256, 32, 32])\n",
      "torch.Size([32, 128, 64, 64])\n",
      "torch.Size([32, 64, 128, 128])\n"
     ]
    },
    {
     "name": "stderr",
     "output_type": "stream",
     "text": [
      " 22%|██▏       | 5/23 [02:32<09:12, 30.67s/it]"
     ]
    },
    {
     "name": "stdout",
     "output_type": "stream",
     "text": [
      "torch.Size([32, 64, 128, 128])\n",
      "torch.Size([32, 128, 64, 64])\n",
      "torch.Size([32, 256, 32, 32])\n",
      "torch.Size([32, 512, 16, 16])\n",
      "torch.Size([32, 1024, 8, 8])\n",
      "torch.Size([32, 512, 16, 16])\n",
      "torch.Size([32, 256, 32, 32])\n",
      "torch.Size([32, 128, 64, 64])\n",
      "torch.Size([32, 64, 128, 128])\n"
     ]
    },
    {
     "name": "stderr",
     "output_type": "stream",
     "text": [
      " 26%|██▌       | 6/23 [03:03<08:44, 30.83s/it]"
     ]
    },
    {
     "name": "stdout",
     "output_type": "stream",
     "text": [
      "torch.Size([32, 64, 128, 128])\n",
      "torch.Size([32, 128, 64, 64])\n",
      "torch.Size([32, 256, 32, 32])\n",
      "torch.Size([32, 512, 16, 16])\n",
      "torch.Size([32, 1024, 8, 8])\n",
      "torch.Size([32, 512, 16, 16])\n",
      "torch.Size([32, 256, 32, 32])\n",
      "torch.Size([32, 128, 64, 64])\n",
      "torch.Size([32, 64, 128, 128])\n"
     ]
    },
    {
     "name": "stderr",
     "output_type": "stream",
     "text": [
      " 30%|███       | 7/23 [03:34<08:14, 30.89s/it]"
     ]
    },
    {
     "name": "stdout",
     "output_type": "stream",
     "text": [
      "torch.Size([32, 64, 128, 128])\n",
      "torch.Size([32, 128, 64, 64])\n",
      "torch.Size([32, 256, 32, 32])\n",
      "torch.Size([32, 512, 16, 16])\n",
      "torch.Size([32, 1024, 8, 8])\n",
      "torch.Size([32, 512, 16, 16])\n",
      "torch.Size([32, 256, 32, 32])\n",
      "torch.Size([32, 128, 64, 64])\n",
      "torch.Size([32, 64, 128, 128])\n"
     ]
    },
    {
     "name": "stderr",
     "output_type": "stream",
     "text": [
      " 35%|███▍      | 8/23 [04:05<07:41, 30.77s/it]"
     ]
    },
    {
     "name": "stdout",
     "output_type": "stream",
     "text": [
      "torch.Size([32, 64, 128, 128])\n",
      "torch.Size([32, 128, 64, 64])\n",
      "torch.Size([32, 256, 32, 32])\n",
      "torch.Size([32, 512, 16, 16])\n",
      "torch.Size([32, 1024, 8, 8])\n",
      "torch.Size([32, 512, 16, 16])\n",
      "torch.Size([32, 256, 32, 32])\n",
      "torch.Size([32, 128, 64, 64])\n",
      "torch.Size([32, 64, 128, 128])\n"
     ]
    },
    {
     "name": "stderr",
     "output_type": "stream",
     "text": [
      " 39%|███▉      | 9/23 [04:36<07:10, 30.72s/it]"
     ]
    },
    {
     "name": "stdout",
     "output_type": "stream",
     "text": [
      "torch.Size([32, 64, 128, 128])\n",
      "torch.Size([32, 128, 64, 64])\n",
      "torch.Size([32, 256, 32, 32])\n",
      "torch.Size([32, 512, 16, 16])\n",
      "torch.Size([32, 1024, 8, 8])\n",
      "torch.Size([32, 512, 16, 16])\n",
      "torch.Size([32, 256, 32, 32])\n",
      "torch.Size([32, 128, 64, 64])\n",
      "torch.Size([32, 64, 128, 128])\n"
     ]
    },
    {
     "name": "stderr",
     "output_type": "stream",
     "text": [
      " 43%|████▎     | 10/23 [05:07<06:41, 30.85s/it]"
     ]
    },
    {
     "name": "stdout",
     "output_type": "stream",
     "text": [
      "torch.Size([32, 64, 128, 128])\n",
      "torch.Size([32, 128, 64, 64])\n",
      "torch.Size([32, 256, 32, 32])\n",
      "torch.Size([32, 512, 16, 16])\n",
      "torch.Size([32, 1024, 8, 8])\n",
      "torch.Size([32, 512, 16, 16])\n",
      "torch.Size([32, 256, 32, 32])\n",
      "torch.Size([32, 128, 64, 64])\n",
      "torch.Size([32, 64, 128, 128])\n"
     ]
    },
    {
     "name": "stderr",
     "output_type": "stream",
     "text": [
      " 48%|████▊     | 11/23 [05:37<06:09, 30.77s/it]"
     ]
    },
    {
     "name": "stdout",
     "output_type": "stream",
     "text": [
      "torch.Size([32, 64, 128, 128])\n",
      "torch.Size([32, 128, 64, 64])\n",
      "torch.Size([32, 256, 32, 32])\n",
      "torch.Size([32, 512, 16, 16])\n",
      "torch.Size([32, 1024, 8, 8])\n",
      "torch.Size([32, 512, 16, 16])\n",
      "torch.Size([32, 256, 32, 32])\n",
      "torch.Size([32, 128, 64, 64])\n",
      "torch.Size([32, 64, 128, 128])\n"
     ]
    },
    {
     "name": "stderr",
     "output_type": "stream",
     "text": [
      " 52%|█████▏    | 12/23 [06:08<05:37, 30.68s/it]"
     ]
    },
    {
     "name": "stdout",
     "output_type": "stream",
     "text": [
      "torch.Size([32, 64, 128, 128])\n",
      "torch.Size([32, 128, 64, 64])\n",
      "torch.Size([32, 256, 32, 32])\n",
      "torch.Size([32, 512, 16, 16])\n",
      "torch.Size([32, 1024, 8, 8])\n",
      "torch.Size([32, 512, 16, 16])\n",
      "torch.Size([32, 256, 32, 32])\n",
      "torch.Size([32, 128, 64, 64])\n",
      "torch.Size([32, 64, 128, 128])\n"
     ]
    },
    {
     "name": "stderr",
     "output_type": "stream",
     "text": [
      " 57%|█████▋    | 13/23 [06:38<05:05, 30.54s/it]"
     ]
    },
    {
     "name": "stdout",
     "output_type": "stream",
     "text": [
      "torch.Size([32, 64, 128, 128])\n",
      "torch.Size([32, 128, 64, 64])\n",
      "torch.Size([32, 256, 32, 32])\n",
      "torch.Size([32, 512, 16, 16])\n",
      "torch.Size([32, 1024, 8, 8])\n",
      "torch.Size([32, 512, 16, 16])\n",
      "torch.Size([32, 256, 32, 32])\n",
      "torch.Size([32, 128, 64, 64])\n",
      "torch.Size([32, 64, 128, 128])\n"
     ]
    },
    {
     "name": "stderr",
     "output_type": "stream",
     "text": [
      " 61%|██████    | 14/23 [07:08<04:34, 30.47s/it]"
     ]
    },
    {
     "name": "stdout",
     "output_type": "stream",
     "text": [
      "torch.Size([32, 64, 128, 128])\n",
      "torch.Size([32, 128, 64, 64])\n",
      "torch.Size([32, 256, 32, 32])\n",
      "torch.Size([32, 512, 16, 16])\n",
      "torch.Size([32, 1024, 8, 8])\n",
      "torch.Size([32, 512, 16, 16])\n",
      "torch.Size([32, 256, 32, 32])\n",
      "torch.Size([32, 128, 64, 64])\n",
      "torch.Size([32, 64, 128, 128])\n"
     ]
    },
    {
     "name": "stderr",
     "output_type": "stream",
     "text": [
      " 65%|██████▌   | 15/23 [07:38<04:02, 30.34s/it]"
     ]
    },
    {
     "name": "stdout",
     "output_type": "stream",
     "text": [
      "torch.Size([32, 64, 128, 128])\n",
      "torch.Size([32, 128, 64, 64])\n",
      "torch.Size([32, 256, 32, 32])\n",
      "torch.Size([32, 512, 16, 16])\n",
      "torch.Size([32, 1024, 8, 8])\n",
      "torch.Size([32, 512, 16, 16])\n",
      "torch.Size([32, 256, 32, 32])\n",
      "torch.Size([32, 128, 64, 64])\n",
      "torch.Size([32, 64, 128, 128])\n"
     ]
    },
    {
     "name": "stderr",
     "output_type": "stream",
     "text": [
      " 70%|██████▉   | 16/23 [08:09<03:32, 30.29s/it]"
     ]
    },
    {
     "name": "stdout",
     "output_type": "stream",
     "text": [
      "torch.Size([32, 64, 128, 128])\n",
      "torch.Size([32, 128, 64, 64])\n",
      "torch.Size([32, 256, 32, 32])\n",
      "torch.Size([32, 512, 16, 16])\n",
      "torch.Size([32, 1024, 8, 8])\n",
      "torch.Size([32, 512, 16, 16])\n",
      "torch.Size([32, 256, 32, 32])\n",
      "torch.Size([32, 128, 64, 64])\n",
      "torch.Size([32, 64, 128, 128])\n"
     ]
    },
    {
     "name": "stderr",
     "output_type": "stream",
     "text": [
      " 74%|███████▍  | 17/23 [08:39<03:02, 30.37s/it]"
     ]
    },
    {
     "name": "stdout",
     "output_type": "stream",
     "text": [
      "torch.Size([32, 64, 128, 128])\n",
      "torch.Size([32, 128, 64, 64])\n",
      "torch.Size([32, 256, 32, 32])\n",
      "torch.Size([32, 512, 16, 16])\n",
      "torch.Size([32, 1024, 8, 8])\n",
      "torch.Size([32, 512, 16, 16])\n",
      "torch.Size([32, 256, 32, 32])\n",
      "torch.Size([32, 128, 64, 64])\n",
      "torch.Size([32, 64, 128, 128])\n"
     ]
    },
    {
     "name": "stderr",
     "output_type": "stream",
     "text": [
      " 78%|███████▊  | 18/23 [09:10<02:32, 30.50s/it]"
     ]
    },
    {
     "name": "stdout",
     "output_type": "stream",
     "text": [
      "torch.Size([32, 64, 128, 128])\n",
      "torch.Size([32, 128, 64, 64])\n",
      "torch.Size([32, 256, 32, 32])\n",
      "torch.Size([32, 512, 16, 16])\n",
      "torch.Size([32, 1024, 8, 8])\n",
      "torch.Size([32, 512, 16, 16])\n",
      "torch.Size([32, 256, 32, 32])\n",
      "torch.Size([32, 128, 64, 64])\n",
      "torch.Size([32, 64, 128, 128])\n"
     ]
    },
    {
     "name": "stderr",
     "output_type": "stream",
     "text": [
      " 83%|████████▎ | 19/23 [09:41<02:02, 30.55s/it]"
     ]
    },
    {
     "name": "stdout",
     "output_type": "stream",
     "text": [
      "torch.Size([32, 64, 128, 128])\n",
      "torch.Size([32, 128, 64, 64])\n",
      "torch.Size([32, 256, 32, 32])\n",
      "torch.Size([32, 512, 16, 16])\n",
      "torch.Size([32, 1024, 8, 8])\n",
      "torch.Size([32, 512, 16, 16])\n",
      "torch.Size([32, 256, 32, 32])\n",
      "torch.Size([32, 128, 64, 64])\n",
      "torch.Size([32, 64, 128, 128])\n"
     ]
    },
    {
     "name": "stderr",
     "output_type": "stream",
     "text": [
      " 87%|████████▋ | 20/23 [10:11<01:31, 30.53s/it]"
     ]
    },
    {
     "name": "stdout",
     "output_type": "stream",
     "text": [
      "torch.Size([32, 64, 128, 128])\n",
      "torch.Size([32, 128, 64, 64])\n",
      "torch.Size([32, 256, 32, 32])\n",
      "torch.Size([32, 512, 16, 16])\n",
      "torch.Size([32, 1024, 8, 8])\n",
      "torch.Size([32, 512, 16, 16])\n",
      "torch.Size([32, 256, 32, 32])\n",
      "torch.Size([32, 128, 64, 64])\n",
      "torch.Size([32, 64, 128, 128])\n"
     ]
    },
    {
     "name": "stderr",
     "output_type": "stream",
     "text": [
      " 91%|█████████▏| 21/23 [10:42<01:01, 30.57s/it]"
     ]
    },
    {
     "name": "stdout",
     "output_type": "stream",
     "text": [
      "torch.Size([32, 64, 128, 128])\n",
      "torch.Size([32, 128, 64, 64])\n",
      "torch.Size([32, 256, 32, 32])\n",
      "torch.Size([32, 512, 16, 16])\n",
      "torch.Size([32, 1024, 8, 8])\n",
      "torch.Size([32, 512, 16, 16])\n",
      "torch.Size([32, 256, 32, 32])\n",
      "torch.Size([32, 128, 64, 64])\n",
      "torch.Size([32, 64, 128, 128])\n"
     ]
    },
    {
     "name": "stderr",
     "output_type": "stream",
     "text": [
      " 96%|█████████▌| 22/23 [11:13<00:30, 30.65s/it]"
     ]
    },
    {
     "name": "stdout",
     "output_type": "stream",
     "text": [
      "torch.Size([16, 64, 128, 128])\n",
      "torch.Size([16, 128, 64, 64])\n",
      "torch.Size([16, 256, 32, 32])\n",
      "torch.Size([16, 512, 16, 16])\n",
      "torch.Size([16, 1024, 8, 8])\n",
      "torch.Size([16, 512, 16, 16])\n",
      "torch.Size([16, 256, 32, 32])\n",
      "torch.Size([16, 128, 64, 64])\n",
      "torch.Size([16, 64, 128, 128])\n"
     ]
    },
    {
     "name": "stderr",
     "output_type": "stream",
     "text": [
      "100%|██████████| 23/23 [11:28<00:00, 29.93s/it]\n",
      "  0%|          | 0/2 [00:00<?, ?it/s]"
     ]
    },
    {
     "name": "stdout",
     "output_type": "stream",
     "text": [
      "torch.Size([32, 64, 128, 128])\n",
      "torch.Size([32, 128, 64, 64])\n",
      "torch.Size([32, 256, 32, 32])\n",
      "torch.Size([32, 512, 16, 16])\n",
      "torch.Size([32, 1024, 8, 8])\n",
      "torch.Size([32, 512, 16, 16])\n",
      "torch.Size([32, 256, 32, 32])\n",
      "torch.Size([32, 128, 64, 64])\n"
     ]
    },
    {
     "name": "stderr",
     "output_type": "stream",
     "text": [
      " 50%|█████     | 1/2 [00:10<00:10, 10.74s/it]"
     ]
    },
    {
     "name": "stdout",
     "output_type": "stream",
     "text": [
      "torch.Size([32, 64, 128, 128])\n",
      "torch.Size([28, 64, 128, 128])\n",
      "torch.Size([28, 128, 64, 64])\n",
      "torch.Size([28, 256, 32, 32])\n",
      "torch.Size([28, 512, 16, 16])\n",
      "torch.Size([28, 1024, 8, 8])\n",
      "torch.Size([28, 512, 16, 16])\n",
      "torch.Size([28, 256, 32, 32])\n",
      "torch.Size([28, 128, 64, 64])\n"
     ]
    },
    {
     "name": "stderr",
     "output_type": "stream",
     "text": [
      "100%|██████████| 2/2 [00:20<00:00, 10.00s/it]\n"
     ]
    },
    {
     "name": "stdout",
     "output_type": "stream",
     "text": [
      "torch.Size([28, 64, 128, 128])\n",
      "Train Loss: 0.2141 | Val Loss: 0.2912\n",
      "\n",
      "Epoch 16/20\n"
     ]
    },
    {
     "name": "stderr",
     "output_type": "stream",
     "text": [
      "  0%|          | 0/23 [00:00<?, ?it/s]"
     ]
    },
    {
     "name": "stdout",
     "output_type": "stream",
     "text": [
      "torch.Size([32, 64, 128, 128])\n",
      "torch.Size([32, 128, 64, 64])\n",
      "torch.Size([32, 256, 32, 32])\n",
      "torch.Size([32, 512, 16, 16])\n",
      "torch.Size([32, 1024, 8, 8])\n",
      "torch.Size([32, 512, 16, 16])\n",
      "torch.Size([32, 256, 32, 32])\n",
      "torch.Size([32, 128, 64, 64])\n",
      "torch.Size([32, 64, 128, 128])\n"
     ]
    },
    {
     "name": "stderr",
     "output_type": "stream",
     "text": [
      "  4%|▍         | 1/23 [00:30<11:08, 30.37s/it]"
     ]
    },
    {
     "name": "stdout",
     "output_type": "stream",
     "text": [
      "torch.Size([32, 64, 128, 128])\n",
      "torch.Size([32, 128, 64, 64])\n",
      "torch.Size([32, 256, 32, 32])\n",
      "torch.Size([32, 512, 16, 16])\n",
      "torch.Size([32, 1024, 8, 8])\n",
      "torch.Size([32, 512, 16, 16])\n",
      "torch.Size([32, 256, 32, 32])\n",
      "torch.Size([32, 128, 64, 64])\n",
      "torch.Size([32, 64, 128, 128])\n"
     ]
    },
    {
     "name": "stderr",
     "output_type": "stream",
     "text": [
      "  9%|▊         | 2/23 [01:01<10:41, 30.53s/it]"
     ]
    },
    {
     "name": "stdout",
     "output_type": "stream",
     "text": [
      "torch.Size([32, 64, 128, 128])\n",
      "torch.Size([32, 128, 64, 64])\n",
      "torch.Size([32, 256, 32, 32])\n",
      "torch.Size([32, 512, 16, 16])\n",
      "torch.Size([32, 1024, 8, 8])\n",
      "torch.Size([32, 512, 16, 16])\n",
      "torch.Size([32, 256, 32, 32])\n",
      "torch.Size([32, 128, 64, 64])\n",
      "torch.Size([32, 64, 128, 128])\n"
     ]
    },
    {
     "name": "stderr",
     "output_type": "stream",
     "text": [
      " 13%|█▎        | 3/23 [01:31<10:08, 30.45s/it]"
     ]
    },
    {
     "name": "stdout",
     "output_type": "stream",
     "text": [
      "torch.Size([32, 64, 128, 128])\n",
      "torch.Size([32, 128, 64, 64])\n",
      "torch.Size([32, 256, 32, 32])\n",
      "torch.Size([32, 512, 16, 16])\n",
      "torch.Size([32, 1024, 8, 8])\n",
      "torch.Size([32, 512, 16, 16])\n",
      "torch.Size([32, 256, 32, 32])\n",
      "torch.Size([32, 128, 64, 64])\n",
      "torch.Size([32, 64, 128, 128])\n"
     ]
    },
    {
     "name": "stderr",
     "output_type": "stream",
     "text": [
      " 17%|█▋        | 4/23 [02:02<09:42, 30.64s/it]"
     ]
    },
    {
     "name": "stdout",
     "output_type": "stream",
     "text": [
      "torch.Size([32, 64, 128, 128])\n",
      "torch.Size([32, 128, 64, 64])\n",
      "torch.Size([32, 256, 32, 32])\n",
      "torch.Size([32, 512, 16, 16])\n",
      "torch.Size([32, 1024, 8, 8])\n",
      "torch.Size([32, 512, 16, 16])\n",
      "torch.Size([32, 256, 32, 32])\n",
      "torch.Size([32, 128, 64, 64])\n",
      "torch.Size([32, 64, 128, 128])\n"
     ]
    },
    {
     "name": "stderr",
     "output_type": "stream",
     "text": [
      " 22%|██▏       | 5/23 [02:32<09:08, 30.45s/it]"
     ]
    },
    {
     "name": "stdout",
     "output_type": "stream",
     "text": [
      "torch.Size([32, 64, 128, 128])\n",
      "torch.Size([32, 128, 64, 64])\n",
      "torch.Size([32, 256, 32, 32])\n",
      "torch.Size([32, 512, 16, 16])\n",
      "torch.Size([32, 1024, 8, 8])\n",
      "torch.Size([32, 512, 16, 16])\n",
      "torch.Size([32, 256, 32, 32])\n",
      "torch.Size([32, 128, 64, 64])\n",
      "torch.Size([32, 64, 128, 128])\n"
     ]
    },
    {
     "name": "stderr",
     "output_type": "stream",
     "text": [
      " 26%|██▌       | 6/23 [03:02<08:36, 30.39s/it]"
     ]
    },
    {
     "name": "stdout",
     "output_type": "stream",
     "text": [
      "torch.Size([32, 64, 128, 128])\n",
      "torch.Size([32, 128, 64, 64])\n",
      "torch.Size([32, 256, 32, 32])\n",
      "torch.Size([32, 512, 16, 16])\n",
      "torch.Size([32, 1024, 8, 8])\n",
      "torch.Size([32, 512, 16, 16])\n",
      "torch.Size([32, 256, 32, 32])\n",
      "torch.Size([32, 128, 64, 64])\n",
      "torch.Size([32, 64, 128, 128])\n"
     ]
    },
    {
     "name": "stderr",
     "output_type": "stream",
     "text": [
      " 30%|███       | 7/23 [03:33<08:08, 30.55s/it]"
     ]
    },
    {
     "name": "stdout",
     "output_type": "stream",
     "text": [
      "torch.Size([32, 64, 128, 128])\n",
      "torch.Size([32, 128, 64, 64])\n",
      "torch.Size([32, 256, 32, 32])\n",
      "torch.Size([32, 512, 16, 16])\n",
      "torch.Size([32, 1024, 8, 8])\n",
      "torch.Size([32, 512, 16, 16])\n",
      "torch.Size([32, 256, 32, 32])\n",
      "torch.Size([32, 128, 64, 64])\n",
      "torch.Size([32, 64, 128, 128])\n"
     ]
    },
    {
     "name": "stderr",
     "output_type": "stream",
     "text": [
      " 35%|███▍      | 8/23 [04:04<07:39, 30.62s/it]"
     ]
    },
    {
     "name": "stdout",
     "output_type": "stream",
     "text": [
      "torch.Size([32, 64, 128, 128])\n",
      "torch.Size([32, 128, 64, 64])\n",
      "torch.Size([32, 256, 32, 32])\n",
      "torch.Size([32, 512, 16, 16])\n",
      "torch.Size([32, 1024, 8, 8])\n",
      "torch.Size([32, 512, 16, 16])\n",
      "torch.Size([32, 256, 32, 32])\n",
      "torch.Size([32, 128, 64, 64])\n",
      "torch.Size([32, 64, 128, 128])\n"
     ]
    },
    {
     "name": "stderr",
     "output_type": "stream",
     "text": [
      " 39%|███▉      | 9/23 [04:35<07:09, 30.64s/it]"
     ]
    },
    {
     "name": "stdout",
     "output_type": "stream",
     "text": [
      "torch.Size([32, 64, 128, 128])\n",
      "torch.Size([32, 128, 64, 64])\n",
      "torch.Size([32, 256, 32, 32])\n",
      "torch.Size([32, 512, 16, 16])\n",
      "torch.Size([32, 1024, 8, 8])\n",
      "torch.Size([32, 512, 16, 16])\n",
      "torch.Size([32, 256, 32, 32])\n",
      "torch.Size([32, 128, 64, 64])\n",
      "torch.Size([32, 64, 128, 128])\n"
     ]
    },
    {
     "name": "stderr",
     "output_type": "stream",
     "text": [
      " 43%|████▎     | 10/23 [05:06<06:39, 30.76s/it]"
     ]
    },
    {
     "name": "stdout",
     "output_type": "stream",
     "text": [
      "torch.Size([32, 64, 128, 128])\n",
      "torch.Size([32, 128, 64, 64])\n",
      "torch.Size([32, 256, 32, 32])\n",
      "torch.Size([32, 512, 16, 16])\n",
      "torch.Size([32, 1024, 8, 8])\n",
      "torch.Size([32, 512, 16, 16])\n",
      "torch.Size([32, 256, 32, 32])\n",
      "torch.Size([32, 128, 64, 64])\n",
      "torch.Size([32, 64, 128, 128])\n"
     ]
    },
    {
     "name": "stderr",
     "output_type": "stream",
     "text": [
      " 48%|████▊     | 11/23 [05:36<06:09, 30.76s/it]"
     ]
    },
    {
     "name": "stdout",
     "output_type": "stream",
     "text": [
      "torch.Size([32, 64, 128, 128])\n",
      "torch.Size([32, 128, 64, 64])\n",
      "torch.Size([32, 256, 32, 32])\n",
      "torch.Size([32, 512, 16, 16])\n",
      "torch.Size([32, 1024, 8, 8])\n",
      "torch.Size([32, 512, 16, 16])\n",
      "torch.Size([32, 256, 32, 32])\n",
      "torch.Size([32, 128, 64, 64])\n",
      "torch.Size([32, 64, 128, 128])\n"
     ]
    },
    {
     "name": "stderr",
     "output_type": "stream",
     "text": [
      " 52%|█████▏    | 12/23 [06:07<05:38, 30.73s/it]"
     ]
    },
    {
     "name": "stdout",
     "output_type": "stream",
     "text": [
      "torch.Size([32, 64, 128, 128])\n",
      "torch.Size([32, 128, 64, 64])\n",
      "torch.Size([32, 256, 32, 32])\n",
      "torch.Size([32, 512, 16, 16])\n",
      "torch.Size([32, 1024, 8, 8])\n",
      "torch.Size([32, 512, 16, 16])\n",
      "torch.Size([32, 256, 32, 32])\n",
      "torch.Size([32, 128, 64, 64])\n",
      "torch.Size([32, 64, 128, 128])\n"
     ]
    },
    {
     "name": "stderr",
     "output_type": "stream",
     "text": [
      " 57%|█████▋    | 13/23 [06:38<05:06, 30.69s/it]"
     ]
    },
    {
     "name": "stdout",
     "output_type": "stream",
     "text": [
      "torch.Size([32, 64, 128, 128])\n",
      "torch.Size([32, 128, 64, 64])\n",
      "torch.Size([32, 256, 32, 32])\n",
      "torch.Size([32, 512, 16, 16])\n",
      "torch.Size([32, 1024, 8, 8])\n",
      "torch.Size([32, 512, 16, 16])\n",
      "torch.Size([32, 256, 32, 32])\n",
      "torch.Size([32, 128, 64, 64])\n",
      "torch.Size([32, 64, 128, 128])\n"
     ]
    },
    {
     "name": "stderr",
     "output_type": "stream",
     "text": [
      " 61%|██████    | 14/23 [07:08<04:36, 30.68s/it]"
     ]
    },
    {
     "name": "stdout",
     "output_type": "stream",
     "text": [
      "torch.Size([32, 64, 128, 128])\n",
      "torch.Size([32, 128, 64, 64])\n",
      "torch.Size([32, 256, 32, 32])\n",
      "torch.Size([32, 512, 16, 16])\n",
      "torch.Size([32, 1024, 8, 8])\n",
      "torch.Size([32, 512, 16, 16])\n",
      "torch.Size([32, 256, 32, 32])\n",
      "torch.Size([32, 128, 64, 64])\n",
      "torch.Size([32, 64, 128, 128])\n"
     ]
    },
    {
     "name": "stderr",
     "output_type": "stream",
     "text": [
      " 65%|██████▌   | 15/23 [07:39<04:05, 30.69s/it]"
     ]
    },
    {
     "name": "stdout",
     "output_type": "stream",
     "text": [
      "torch.Size([32, 64, 128, 128])\n",
      "torch.Size([32, 128, 64, 64])\n",
      "torch.Size([32, 256, 32, 32])\n",
      "torch.Size([32, 512, 16, 16])\n",
      "torch.Size([32, 1024, 8, 8])\n",
      "torch.Size([32, 512, 16, 16])\n",
      "torch.Size([32, 256, 32, 32])\n",
      "torch.Size([32, 128, 64, 64])\n",
      "torch.Size([32, 64, 128, 128])\n"
     ]
    },
    {
     "name": "stderr",
     "output_type": "stream",
     "text": [
      " 70%|██████▉   | 16/23 [08:09<03:34, 30.58s/it]"
     ]
    },
    {
     "name": "stdout",
     "output_type": "stream",
     "text": [
      "torch.Size([32, 64, 128, 128])\n",
      "torch.Size([32, 128, 64, 64])\n",
      "torch.Size([32, 256, 32, 32])\n",
      "torch.Size([32, 512, 16, 16])\n",
      "torch.Size([32, 1024, 8, 8])\n",
      "torch.Size([32, 512, 16, 16])\n",
      "torch.Size([32, 256, 32, 32])\n",
      "torch.Size([32, 128, 64, 64])\n",
      "torch.Size([32, 64, 128, 128])\n"
     ]
    },
    {
     "name": "stderr",
     "output_type": "stream",
     "text": [
      " 74%|███████▍  | 17/23 [08:40<03:03, 30.52s/it]"
     ]
    },
    {
     "name": "stdout",
     "output_type": "stream",
     "text": [
      "torch.Size([32, 64, 128, 128])\n",
      "torch.Size([32, 128, 64, 64])\n",
      "torch.Size([32, 256, 32, 32])\n",
      "torch.Size([32, 512, 16, 16])\n",
      "torch.Size([32, 1024, 8, 8])\n",
      "torch.Size([32, 512, 16, 16])\n",
      "torch.Size([32, 256, 32, 32])\n",
      "torch.Size([32, 128, 64, 64])\n",
      "torch.Size([32, 64, 128, 128])\n"
     ]
    },
    {
     "name": "stderr",
     "output_type": "stream",
     "text": [
      " 78%|███████▊  | 18/23 [09:10<02:33, 30.60s/it]"
     ]
    },
    {
     "name": "stdout",
     "output_type": "stream",
     "text": [
      "torch.Size([32, 64, 128, 128])\n",
      "torch.Size([32, 128, 64, 64])\n",
      "torch.Size([32, 256, 32, 32])\n",
      "torch.Size([32, 512, 16, 16])\n",
      "torch.Size([32, 1024, 8, 8])\n",
      "torch.Size([32, 512, 16, 16])\n",
      "torch.Size([32, 256, 32, 32])\n",
      "torch.Size([32, 128, 64, 64])\n",
      "torch.Size([32, 64, 128, 128])\n"
     ]
    },
    {
     "name": "stderr",
     "output_type": "stream",
     "text": [
      " 83%|████████▎ | 19/23 [09:41<02:02, 30.71s/it]"
     ]
    },
    {
     "name": "stdout",
     "output_type": "stream",
     "text": [
      "torch.Size([32, 64, 128, 128])\n",
      "torch.Size([32, 128, 64, 64])\n",
      "torch.Size([32, 256, 32, 32])\n",
      "torch.Size([32, 512, 16, 16])\n",
      "torch.Size([32, 1024, 8, 8])\n",
      "torch.Size([32, 512, 16, 16])\n",
      "torch.Size([32, 256, 32, 32])\n",
      "torch.Size([32, 128, 64, 64])\n",
      "torch.Size([32, 64, 128, 128])\n"
     ]
    },
    {
     "name": "stderr",
     "output_type": "stream",
     "text": [
      " 87%|████████▋ | 20/23 [10:13<01:32, 30.86s/it]"
     ]
    },
    {
     "name": "stdout",
     "output_type": "stream",
     "text": [
      "torch.Size([32, 64, 128, 128])\n",
      "torch.Size([32, 128, 64, 64])\n",
      "torch.Size([32, 256, 32, 32])\n",
      "torch.Size([32, 512, 16, 16])\n",
      "torch.Size([32, 1024, 8, 8])\n",
      "torch.Size([32, 512, 16, 16])\n",
      "torch.Size([32, 256, 32, 32])\n",
      "torch.Size([32, 128, 64, 64])\n",
      "torch.Size([32, 64, 128, 128])\n"
     ]
    },
    {
     "name": "stderr",
     "output_type": "stream",
     "text": [
      " 91%|█████████▏| 21/23 [10:43<01:01, 30.81s/it]"
     ]
    },
    {
     "name": "stdout",
     "output_type": "stream",
     "text": [
      "torch.Size([32, 64, 128, 128])\n",
      "torch.Size([32, 128, 64, 64])\n",
      "torch.Size([32, 256, 32, 32])\n",
      "torch.Size([32, 512, 16, 16])\n",
      "torch.Size([32, 1024, 8, 8])\n",
      "torch.Size([32, 512, 16, 16])\n",
      "torch.Size([32, 256, 32, 32])\n",
      "torch.Size([32, 128, 64, 64])\n",
      "torch.Size([32, 64, 128, 128])\n"
     ]
    },
    {
     "name": "stderr",
     "output_type": "stream",
     "text": [
      " 96%|█████████▌| 22/23 [11:14<00:30, 30.80s/it]"
     ]
    },
    {
     "name": "stdout",
     "output_type": "stream",
     "text": [
      "torch.Size([16, 64, 128, 128])\n",
      "torch.Size([16, 128, 64, 64])\n",
      "torch.Size([16, 256, 32, 32])\n",
      "torch.Size([16, 512, 16, 16])\n",
      "torch.Size([16, 1024, 8, 8])\n",
      "torch.Size([16, 512, 16, 16])\n",
      "torch.Size([16, 256, 32, 32])\n",
      "torch.Size([16, 128, 64, 64])\n",
      "torch.Size([16, 64, 128, 128])\n"
     ]
    },
    {
     "name": "stderr",
     "output_type": "stream",
     "text": [
      "100%|██████████| 23/23 [11:29<00:00, 29.99s/it]\n",
      "  0%|          | 0/2 [00:00<?, ?it/s]"
     ]
    },
    {
     "name": "stdout",
     "output_type": "stream",
     "text": [
      "torch.Size([32, 64, 128, 128])\n",
      "torch.Size([32, 128, 64, 64])\n",
      "torch.Size([32, 256, 32, 32])\n",
      "torch.Size([32, 512, 16, 16])\n",
      "torch.Size([32, 1024, 8, 8])\n",
      "torch.Size([32, 512, 16, 16])\n",
      "torch.Size([32, 256, 32, 32])\n",
      "torch.Size([32, 128, 64, 64])\n"
     ]
    },
    {
     "name": "stderr",
     "output_type": "stream",
     "text": [
      " 50%|█████     | 1/2 [00:10<00:10, 10.53s/it]"
     ]
    },
    {
     "name": "stdout",
     "output_type": "stream",
     "text": [
      "torch.Size([32, 64, 128, 128])\n",
      "torch.Size([28, 64, 128, 128])\n",
      "torch.Size([28, 128, 64, 64])\n",
      "torch.Size([28, 256, 32, 32])\n",
      "torch.Size([28, 512, 16, 16])\n",
      "torch.Size([28, 1024, 8, 8])\n",
      "torch.Size([28, 512, 16, 16])\n",
      "torch.Size([28, 256, 32, 32])\n",
      "torch.Size([28, 128, 64, 64])\n"
     ]
    },
    {
     "name": "stderr",
     "output_type": "stream",
     "text": [
      "100%|██████████| 2/2 [00:19<00:00,  9.92s/it]\n"
     ]
    },
    {
     "name": "stdout",
     "output_type": "stream",
     "text": [
      "torch.Size([28, 64, 128, 128])\n",
      "Train Loss: 0.2000 | Val Loss: 0.2924\n",
      "\n",
      "Epoch 17/20\n"
     ]
    },
    {
     "name": "stderr",
     "output_type": "stream",
     "text": [
      "  0%|          | 0/23 [00:00<?, ?it/s]"
     ]
    },
    {
     "name": "stdout",
     "output_type": "stream",
     "text": [
      "torch.Size([32, 64, 128, 128])\n",
      "torch.Size([32, 128, 64, 64])\n",
      "torch.Size([32, 256, 32, 32])\n",
      "torch.Size([32, 512, 16, 16])\n",
      "torch.Size([32, 1024, 8, 8])\n",
      "torch.Size([32, 512, 16, 16])\n",
      "torch.Size([32, 256, 32, 32])\n",
      "torch.Size([32, 128, 64, 64])\n",
      "torch.Size([32, 64, 128, 128])\n"
     ]
    },
    {
     "name": "stderr",
     "output_type": "stream",
     "text": [
      "  4%|▍         | 1/23 [00:30<11:11, 30.53s/it]"
     ]
    },
    {
     "name": "stdout",
     "output_type": "stream",
     "text": [
      "torch.Size([32, 64, 128, 128])\n",
      "torch.Size([32, 128, 64, 64])\n",
      "torch.Size([32, 256, 32, 32])\n",
      "torch.Size([32, 512, 16, 16])\n",
      "torch.Size([32, 1024, 8, 8])\n",
      "torch.Size([32, 512, 16, 16])\n",
      "torch.Size([32, 256, 32, 32])\n",
      "torch.Size([32, 128, 64, 64])\n",
      "torch.Size([32, 64, 128, 128])\n"
     ]
    },
    {
     "name": "stderr",
     "output_type": "stream",
     "text": [
      "  9%|▊         | 2/23 [01:01<10:44, 30.68s/it]"
     ]
    },
    {
     "name": "stdout",
     "output_type": "stream",
     "text": [
      "torch.Size([32, 64, 128, 128])\n",
      "torch.Size([32, 128, 64, 64])\n",
      "torch.Size([32, 256, 32, 32])\n",
      "torch.Size([32, 512, 16, 16])\n",
      "torch.Size([32, 1024, 8, 8])\n",
      "torch.Size([32, 512, 16, 16])\n",
      "torch.Size([32, 256, 32, 32])\n",
      "torch.Size([32, 128, 64, 64])\n",
      "torch.Size([32, 64, 128, 128])\n"
     ]
    },
    {
     "name": "stderr",
     "output_type": "stream",
     "text": [
      " 13%|█▎        | 3/23 [01:32<10:13, 30.69s/it]"
     ]
    },
    {
     "name": "stdout",
     "output_type": "stream",
     "text": [
      "torch.Size([32, 64, 128, 128])\n",
      "torch.Size([32, 128, 64, 64])\n",
      "torch.Size([32, 256, 32, 32])\n",
      "torch.Size([32, 512, 16, 16])\n",
      "torch.Size([32, 1024, 8, 8])\n",
      "torch.Size([32, 512, 16, 16])\n",
      "torch.Size([32, 256, 32, 32])\n",
      "torch.Size([32, 128, 64, 64])\n",
      "torch.Size([32, 64, 128, 128])\n"
     ]
    },
    {
     "name": "stderr",
     "output_type": "stream",
     "text": [
      " 17%|█▋        | 4/23 [02:02<09:41, 30.63s/it]"
     ]
    },
    {
     "name": "stdout",
     "output_type": "stream",
     "text": [
      "torch.Size([32, 64, 128, 128])\n",
      "torch.Size([32, 128, 64, 64])\n",
      "torch.Size([32, 256, 32, 32])\n",
      "torch.Size([32, 512, 16, 16])\n",
      "torch.Size([32, 1024, 8, 8])\n",
      "torch.Size([32, 512, 16, 16])\n",
      "torch.Size([32, 256, 32, 32])\n",
      "torch.Size([32, 128, 64, 64])\n",
      "torch.Size([32, 64, 128, 128])\n"
     ]
    },
    {
     "name": "stderr",
     "output_type": "stream",
     "text": [
      " 22%|██▏       | 5/23 [02:33<09:10, 30.60s/it]"
     ]
    },
    {
     "name": "stdout",
     "output_type": "stream",
     "text": [
      "torch.Size([32, 64, 128, 128])\n",
      "torch.Size([32, 128, 64, 64])\n",
      "torch.Size([32, 256, 32, 32])\n",
      "torch.Size([32, 512, 16, 16])\n",
      "torch.Size([32, 1024, 8, 8])\n",
      "torch.Size([32, 512, 16, 16])\n",
      "torch.Size([32, 256, 32, 32])\n",
      "torch.Size([32, 128, 64, 64])\n",
      "torch.Size([32, 64, 128, 128])\n"
     ]
    },
    {
     "name": "stderr",
     "output_type": "stream",
     "text": [
      " 26%|██▌       | 6/23 [03:03<08:41, 30.67s/it]"
     ]
    },
    {
     "name": "stdout",
     "output_type": "stream",
     "text": [
      "torch.Size([32, 64, 128, 128])\n",
      "torch.Size([32, 128, 64, 64])\n",
      "torch.Size([32, 256, 32, 32])\n",
      "torch.Size([32, 512, 16, 16])\n",
      "torch.Size([32, 1024, 8, 8])\n",
      "torch.Size([32, 512, 16, 16])\n",
      "torch.Size([32, 256, 32, 32])\n",
      "torch.Size([32, 128, 64, 64])\n",
      "torch.Size([32, 64, 128, 128])\n"
     ]
    },
    {
     "name": "stderr",
     "output_type": "stream",
     "text": [
      " 30%|███       | 7/23 [03:34<08:10, 30.69s/it]"
     ]
    },
    {
     "name": "stdout",
     "output_type": "stream",
     "text": [
      "torch.Size([32, 64, 128, 128])\n",
      "torch.Size([32, 128, 64, 64])\n",
      "torch.Size([32, 256, 32, 32])\n",
      "torch.Size([32, 512, 16, 16])\n",
      "torch.Size([32, 1024, 8, 8])\n",
      "torch.Size([32, 512, 16, 16])\n",
      "torch.Size([32, 256, 32, 32])\n",
      "torch.Size([32, 128, 64, 64])\n",
      "torch.Size([32, 64, 128, 128])\n"
     ]
    },
    {
     "name": "stderr",
     "output_type": "stream",
     "text": [
      " 35%|███▍      | 8/23 [04:05<07:41, 30.76s/it]"
     ]
    },
    {
     "name": "stdout",
     "output_type": "stream",
     "text": [
      "torch.Size([32, 64, 128, 128])\n",
      "torch.Size([32, 128, 64, 64])\n",
      "torch.Size([32, 256, 32, 32])\n",
      "torch.Size([32, 512, 16, 16])\n",
      "torch.Size([32, 1024, 8, 8])\n",
      "torch.Size([32, 512, 16, 16])\n",
      "torch.Size([32, 256, 32, 32])\n",
      "torch.Size([32, 128, 64, 64])\n",
      "torch.Size([32, 64, 128, 128])\n"
     ]
    },
    {
     "name": "stderr",
     "output_type": "stream",
     "text": [
      " 39%|███▉      | 9/23 [04:35<07:08, 30.62s/it]"
     ]
    },
    {
     "name": "stdout",
     "output_type": "stream",
     "text": [
      "torch.Size([32, 64, 128, 128])\n",
      "torch.Size([32, 128, 64, 64])\n",
      "torch.Size([32, 256, 32, 32])\n",
      "torch.Size([32, 512, 16, 16])\n",
      "torch.Size([32, 1024, 8, 8])\n",
      "torch.Size([32, 512, 16, 16])\n",
      "torch.Size([32, 256, 32, 32])\n",
      "torch.Size([32, 128, 64, 64])\n",
      "torch.Size([32, 64, 128, 128])\n"
     ]
    },
    {
     "name": "stderr",
     "output_type": "stream",
     "text": [
      " 43%|████▎     | 10/23 [05:06<06:36, 30.53s/it]"
     ]
    },
    {
     "name": "stdout",
     "output_type": "stream",
     "text": [
      "torch.Size([32, 64, 128, 128])\n",
      "torch.Size([32, 128, 64, 64])\n",
      "torch.Size([32, 256, 32, 32])\n",
      "torch.Size([32, 512, 16, 16])\n",
      "torch.Size([32, 1024, 8, 8])\n",
      "torch.Size([32, 512, 16, 16])\n",
      "torch.Size([32, 256, 32, 32])\n",
      "torch.Size([32, 128, 64, 64])\n",
      "torch.Size([32, 64, 128, 128])\n"
     ]
    },
    {
     "name": "stderr",
     "output_type": "stream",
     "text": [
      " 48%|████▊     | 11/23 [05:36<06:04, 30.35s/it]"
     ]
    },
    {
     "name": "stdout",
     "output_type": "stream",
     "text": [
      "torch.Size([32, 64, 128, 128])\n",
      "torch.Size([32, 128, 64, 64])\n",
      "torch.Size([32, 256, 32, 32])\n",
      "torch.Size([32, 512, 16, 16])\n",
      "torch.Size([32, 1024, 8, 8])\n",
      "torch.Size([32, 512, 16, 16])\n",
      "torch.Size([32, 256, 32, 32])\n",
      "torch.Size([32, 128, 64, 64])\n",
      "torch.Size([32, 64, 128, 128])\n"
     ]
    },
    {
     "name": "stderr",
     "output_type": "stream",
     "text": [
      " 52%|█████▏    | 12/23 [06:06<05:34, 30.45s/it]"
     ]
    },
    {
     "name": "stdout",
     "output_type": "stream",
     "text": [
      "torch.Size([32, 64, 128, 128])\n",
      "torch.Size([32, 128, 64, 64])\n",
      "torch.Size([32, 256, 32, 32])\n",
      "torch.Size([32, 512, 16, 16])\n",
      "torch.Size([32, 1024, 8, 8])\n",
      "torch.Size([32, 512, 16, 16])\n",
      "torch.Size([32, 256, 32, 32])\n",
      "torch.Size([32, 128, 64, 64])\n",
      "torch.Size([32, 64, 128, 128])\n"
     ]
    },
    {
     "name": "stderr",
     "output_type": "stream",
     "text": [
      " 57%|█████▋    | 13/23 [06:37<05:04, 30.43s/it]"
     ]
    },
    {
     "name": "stdout",
     "output_type": "stream",
     "text": [
      "torch.Size([32, 64, 128, 128])\n",
      "torch.Size([32, 128, 64, 64])\n",
      "torch.Size([32, 256, 32, 32])\n",
      "torch.Size([32, 512, 16, 16])\n",
      "torch.Size([32, 1024, 8, 8])\n",
      "torch.Size([32, 512, 16, 16])\n",
      "torch.Size([32, 256, 32, 32])\n",
      "torch.Size([32, 128, 64, 64])\n",
      "torch.Size([32, 64, 128, 128])\n"
     ]
    },
    {
     "name": "stderr",
     "output_type": "stream",
     "text": [
      " 61%|██████    | 14/23 [07:07<04:34, 30.54s/it]"
     ]
    },
    {
     "name": "stdout",
     "output_type": "stream",
     "text": [
      "torch.Size([32, 64, 128, 128])\n",
      "torch.Size([32, 128, 64, 64])\n",
      "torch.Size([32, 256, 32, 32])\n",
      "torch.Size([32, 512, 16, 16])\n",
      "torch.Size([32, 1024, 8, 8])\n",
      "torch.Size([32, 512, 16, 16])\n",
      "torch.Size([32, 256, 32, 32])\n",
      "torch.Size([32, 128, 64, 64])\n",
      "torch.Size([32, 64, 128, 128])\n"
     ]
    },
    {
     "name": "stderr",
     "output_type": "stream",
     "text": [
      " 65%|██████▌   | 15/23 [07:38<04:04, 30.59s/it]"
     ]
    },
    {
     "name": "stdout",
     "output_type": "stream",
     "text": [
      "torch.Size([32, 64, 128, 128])\n",
      "torch.Size([32, 128, 64, 64])\n",
      "torch.Size([32, 256, 32, 32])\n",
      "torch.Size([32, 512, 16, 16])\n",
      "torch.Size([32, 1024, 8, 8])\n",
      "torch.Size([32, 512, 16, 16])\n",
      "torch.Size([32, 256, 32, 32])\n",
      "torch.Size([32, 128, 64, 64])\n",
      "torch.Size([32, 64, 128, 128])\n"
     ]
    },
    {
     "name": "stderr",
     "output_type": "stream",
     "text": [
      " 70%|██████▉   | 16/23 [08:10<03:35, 30.84s/it]"
     ]
    },
    {
     "name": "stdout",
     "output_type": "stream",
     "text": [
      "torch.Size([32, 64, 128, 128])\n",
      "torch.Size([32, 128, 64, 64])\n",
      "torch.Size([32, 256, 32, 32])\n",
      "torch.Size([32, 512, 16, 16])\n",
      "torch.Size([32, 1024, 8, 8])\n",
      "torch.Size([32, 512, 16, 16])\n",
      "torch.Size([32, 256, 32, 32])\n",
      "torch.Size([32, 128, 64, 64])\n",
      "torch.Size([32, 64, 128, 128])\n"
     ]
    },
    {
     "name": "stderr",
     "output_type": "stream",
     "text": [
      " 74%|███████▍  | 17/23 [08:40<03:04, 30.72s/it]"
     ]
    },
    {
     "name": "stdout",
     "output_type": "stream",
     "text": [
      "torch.Size([32, 64, 128, 128])\n",
      "torch.Size([32, 128, 64, 64])\n",
      "torch.Size([32, 256, 32, 32])\n",
      "torch.Size([32, 512, 16, 16])\n",
      "torch.Size([32, 1024, 8, 8])\n",
      "torch.Size([32, 512, 16, 16])\n",
      "torch.Size([32, 256, 32, 32])\n",
      "torch.Size([32, 128, 64, 64])\n",
      "torch.Size([32, 64, 128, 128])\n"
     ]
    },
    {
     "name": "stderr",
     "output_type": "stream",
     "text": [
      " 78%|███████▊  | 18/23 [09:11<02:33, 30.75s/it]"
     ]
    },
    {
     "name": "stdout",
     "output_type": "stream",
     "text": [
      "torch.Size([32, 64, 128, 128])\n",
      "torch.Size([32, 128, 64, 64])\n",
      "torch.Size([32, 256, 32, 32])\n",
      "torch.Size([32, 512, 16, 16])\n",
      "torch.Size([32, 1024, 8, 8])\n",
      "torch.Size([32, 512, 16, 16])\n",
      "torch.Size([32, 256, 32, 32])\n",
      "torch.Size([32, 128, 64, 64])\n",
      "torch.Size([32, 64, 128, 128])\n"
     ]
    },
    {
     "name": "stderr",
     "output_type": "stream",
     "text": [
      " 83%|████████▎ | 19/23 [09:41<02:02, 30.62s/it]"
     ]
    },
    {
     "name": "stdout",
     "output_type": "stream",
     "text": [
      "torch.Size([32, 64, 128, 128])\n",
      "torch.Size([32, 128, 64, 64])\n",
      "torch.Size([32, 256, 32, 32])\n",
      "torch.Size([32, 512, 16, 16])\n",
      "torch.Size([32, 1024, 8, 8])\n",
      "torch.Size([32, 512, 16, 16])\n",
      "torch.Size([32, 256, 32, 32])\n",
      "torch.Size([32, 128, 64, 64])\n",
      "torch.Size([32, 64, 128, 128])\n"
     ]
    },
    {
     "name": "stderr",
     "output_type": "stream",
     "text": [
      " 87%|████████▋ | 20/23 [10:12<01:32, 30.78s/it]"
     ]
    },
    {
     "name": "stdout",
     "output_type": "stream",
     "text": [
      "torch.Size([32, 64, 128, 128])\n",
      "torch.Size([32, 128, 64, 64])\n",
      "torch.Size([32, 256, 32, 32])\n",
      "torch.Size([32, 512, 16, 16])\n",
      "torch.Size([32, 1024, 8, 8])\n",
      "torch.Size([32, 512, 16, 16])\n",
      "torch.Size([32, 256, 32, 32])\n",
      "torch.Size([32, 128, 64, 64])\n",
      "torch.Size([32, 64, 128, 128])\n"
     ]
    },
    {
     "name": "stderr",
     "output_type": "stream",
     "text": [
      " 91%|█████████▏| 21/23 [10:43<01:01, 30.72s/it]"
     ]
    },
    {
     "name": "stdout",
     "output_type": "stream",
     "text": [
      "torch.Size([32, 64, 128, 128])\n",
      "torch.Size([32, 128, 64, 64])\n",
      "torch.Size([32, 256, 32, 32])\n",
      "torch.Size([32, 512, 16, 16])\n",
      "torch.Size([32, 1024, 8, 8])\n",
      "torch.Size([32, 512, 16, 16])\n",
      "torch.Size([32, 256, 32, 32])\n",
      "torch.Size([32, 128, 64, 64])\n",
      "torch.Size([32, 64, 128, 128])\n"
     ]
    },
    {
     "name": "stderr",
     "output_type": "stream",
     "text": [
      " 96%|█████████▌| 22/23 [11:13<00:30, 30.67s/it]"
     ]
    },
    {
     "name": "stdout",
     "output_type": "stream",
     "text": [
      "torch.Size([16, 64, 128, 128])\n",
      "torch.Size([16, 128, 64, 64])\n",
      "torch.Size([16, 256, 32, 32])\n",
      "torch.Size([16, 512, 16, 16])\n",
      "torch.Size([16, 1024, 8, 8])\n",
      "torch.Size([16, 512, 16, 16])\n",
      "torch.Size([16, 256, 32, 32])\n",
      "torch.Size([16, 128, 64, 64])\n",
      "torch.Size([16, 64, 128, 128])\n"
     ]
    },
    {
     "name": "stderr",
     "output_type": "stream",
     "text": [
      "100%|██████████| 23/23 [11:29<00:00, 29.96s/it]\n",
      "  0%|          | 0/2 [00:00<?, ?it/s]"
     ]
    },
    {
     "name": "stdout",
     "output_type": "stream",
     "text": [
      "torch.Size([32, 64, 128, 128])\n",
      "torch.Size([32, 128, 64, 64])\n",
      "torch.Size([32, 256, 32, 32])\n",
      "torch.Size([32, 512, 16, 16])\n",
      "torch.Size([32, 1024, 8, 8])\n",
      "torch.Size([32, 512, 16, 16])\n",
      "torch.Size([32, 256, 32, 32])\n",
      "torch.Size([32, 128, 64, 64])\n"
     ]
    },
    {
     "name": "stderr",
     "output_type": "stream",
     "text": [
      " 50%|█████     | 1/2 [00:10<00:10, 10.52s/it]"
     ]
    },
    {
     "name": "stdout",
     "output_type": "stream",
     "text": [
      "torch.Size([32, 64, 128, 128])\n",
      "torch.Size([28, 64, 128, 128])\n",
      "torch.Size([28, 128, 64, 64])\n",
      "torch.Size([28, 256, 32, 32])\n",
      "torch.Size([28, 512, 16, 16])\n",
      "torch.Size([28, 1024, 8, 8])\n",
      "torch.Size([28, 512, 16, 16])\n",
      "torch.Size([28, 256, 32, 32])\n",
      "torch.Size([28, 128, 64, 64])\n"
     ]
    },
    {
     "name": "stderr",
     "output_type": "stream",
     "text": [
      "100%|██████████| 2/2 [00:19<00:00,  9.89s/it]\n"
     ]
    },
    {
     "name": "stdout",
     "output_type": "stream",
     "text": [
      "torch.Size([28, 64, 128, 128])\n",
      "Train Loss: 0.1882 | Val Loss: 0.2910\n",
      "\n",
      "Epoch 18/20\n"
     ]
    },
    {
     "name": "stderr",
     "output_type": "stream",
     "text": [
      "  0%|          | 0/23 [00:00<?, ?it/s]"
     ]
    },
    {
     "name": "stdout",
     "output_type": "stream",
     "text": [
      "torch.Size([32, 64, 128, 128])\n",
      "torch.Size([32, 128, 64, 64])\n",
      "torch.Size([32, 256, 32, 32])\n",
      "torch.Size([32, 512, 16, 16])\n",
      "torch.Size([32, 1024, 8, 8])\n",
      "torch.Size([32, 512, 16, 16])\n",
      "torch.Size([32, 256, 32, 32])\n",
      "torch.Size([32, 128, 64, 64])\n",
      "torch.Size([32, 64, 128, 128])\n"
     ]
    },
    {
     "name": "stderr",
     "output_type": "stream",
     "text": [
      "  4%|▍         | 1/23 [00:30<11:17, 30.79s/it]"
     ]
    },
    {
     "name": "stdout",
     "output_type": "stream",
     "text": [
      "torch.Size([32, 64, 128, 128])\n",
      "torch.Size([32, 128, 64, 64])\n",
      "torch.Size([32, 256, 32, 32])\n",
      "torch.Size([32, 512, 16, 16])\n",
      "torch.Size([32, 1024, 8, 8])\n",
      "torch.Size([32, 512, 16, 16])\n",
      "torch.Size([32, 256, 32, 32])\n",
      "torch.Size([32, 128, 64, 64])\n",
      "torch.Size([32, 64, 128, 128])\n"
     ]
    },
    {
     "name": "stderr",
     "output_type": "stream",
     "text": [
      "  9%|▊         | 2/23 [01:02<11:02, 31.54s/it]"
     ]
    },
    {
     "name": "stdout",
     "output_type": "stream",
     "text": [
      "torch.Size([32, 64, 128, 128])\n",
      "torch.Size([32, 128, 64, 64])\n",
      "torch.Size([32, 256, 32, 32])\n",
      "torch.Size([32, 512, 16, 16])\n",
      "torch.Size([32, 1024, 8, 8])\n",
      "torch.Size([32, 512, 16, 16])\n",
      "torch.Size([32, 256, 32, 32])\n",
      "torch.Size([32, 128, 64, 64])\n",
      "torch.Size([32, 64, 128, 128])\n"
     ]
    },
    {
     "name": "stderr",
     "output_type": "stream",
     "text": [
      " 13%|█▎        | 3/23 [01:34<10:34, 31.71s/it]"
     ]
    },
    {
     "name": "stdout",
     "output_type": "stream",
     "text": [
      "torch.Size([32, 64, 128, 128])\n",
      "torch.Size([32, 128, 64, 64])\n",
      "torch.Size([32, 256, 32, 32])\n",
      "torch.Size([32, 512, 16, 16])\n",
      "torch.Size([32, 1024, 8, 8])\n",
      "torch.Size([32, 512, 16, 16])\n",
      "torch.Size([32, 256, 32, 32])\n",
      "torch.Size([32, 128, 64, 64])\n",
      "torch.Size([32, 64, 128, 128])\n"
     ]
    },
    {
     "name": "stderr",
     "output_type": "stream",
     "text": [
      " 17%|█▋        | 4/23 [02:06<10:03, 31.79s/it]"
     ]
    },
    {
     "name": "stdout",
     "output_type": "stream",
     "text": [
      "torch.Size([32, 64, 128, 128])\n",
      "torch.Size([32, 128, 64, 64])\n",
      "torch.Size([32, 256, 32, 32])\n",
      "torch.Size([32, 512, 16, 16])\n",
      "torch.Size([32, 1024, 8, 8])\n",
      "torch.Size([32, 512, 16, 16])\n",
      "torch.Size([32, 256, 32, 32])\n",
      "torch.Size([32, 128, 64, 64])\n",
      "torch.Size([32, 64, 128, 128])\n"
     ]
    },
    {
     "name": "stderr",
     "output_type": "stream",
     "text": [
      " 22%|██▏       | 5/23 [02:38<09:34, 31.90s/it]"
     ]
    },
    {
     "name": "stdout",
     "output_type": "stream",
     "text": [
      "torch.Size([32, 64, 128, 128])\n",
      "torch.Size([32, 128, 64, 64])\n",
      "torch.Size([32, 256, 32, 32])\n",
      "torch.Size([32, 512, 16, 16])\n",
      "torch.Size([32, 1024, 8, 8])\n",
      "torch.Size([32, 512, 16, 16])\n",
      "torch.Size([32, 256, 32, 32])\n",
      "torch.Size([32, 128, 64, 64])\n",
      "torch.Size([32, 64, 128, 128])\n"
     ]
    },
    {
     "name": "stderr",
     "output_type": "stream",
     "text": [
      " 26%|██▌       | 6/23 [03:11<09:06, 32.13s/it]"
     ]
    },
    {
     "name": "stdout",
     "output_type": "stream",
     "text": [
      "torch.Size([32, 64, 128, 128])\n",
      "torch.Size([32, 128, 64, 64])\n",
      "torch.Size([32, 256, 32, 32])\n",
      "torch.Size([32, 512, 16, 16])\n",
      "torch.Size([32, 1024, 8, 8])\n",
      "torch.Size([32, 512, 16, 16])\n",
      "torch.Size([32, 256, 32, 32])\n",
      "torch.Size([32, 128, 64, 64])\n",
      "torch.Size([32, 64, 128, 128])\n"
     ]
    },
    {
     "name": "stderr",
     "output_type": "stream",
     "text": [
      " 30%|███       | 7/23 [03:44<08:39, 32.46s/it]"
     ]
    },
    {
     "name": "stdout",
     "output_type": "stream",
     "text": [
      "torch.Size([32, 64, 128, 128])\n",
      "torch.Size([32, 128, 64, 64])\n",
      "torch.Size([32, 256, 32, 32])\n",
      "torch.Size([32, 512, 16, 16])\n",
      "torch.Size([32, 1024, 8, 8])\n",
      "torch.Size([32, 512, 16, 16])\n",
      "torch.Size([32, 256, 32, 32])\n",
      "torch.Size([32, 128, 64, 64])\n",
      "torch.Size([32, 64, 128, 128])\n"
     ]
    },
    {
     "name": "stderr",
     "output_type": "stream",
     "text": [
      " 35%|███▍      | 8/23 [04:16<08:06, 32.46s/it]"
     ]
    },
    {
     "name": "stdout",
     "output_type": "stream",
     "text": [
      "torch.Size([32, 64, 128, 128])\n",
      "torch.Size([32, 128, 64, 64])\n",
      "torch.Size([32, 256, 32, 32])\n",
      "torch.Size([32, 512, 16, 16])\n",
      "torch.Size([32, 1024, 8, 8])\n",
      "torch.Size([32, 512, 16, 16])\n",
      "torch.Size([32, 256, 32, 32])\n",
      "torch.Size([32, 128, 64, 64])\n",
      "torch.Size([32, 64, 128, 128])\n"
     ]
    },
    {
     "name": "stderr",
     "output_type": "stream",
     "text": [
      " 39%|███▉      | 9/23 [04:49<07:35, 32.57s/it]"
     ]
    },
    {
     "name": "stdout",
     "output_type": "stream",
     "text": [
      "torch.Size([32, 64, 128, 128])\n",
      "torch.Size([32, 128, 64, 64])\n",
      "torch.Size([32, 256, 32, 32])\n",
      "torch.Size([32, 512, 16, 16])\n",
      "torch.Size([32, 1024, 8, 8])\n",
      "torch.Size([32, 512, 16, 16])\n",
      "torch.Size([32, 256, 32, 32])\n",
      "torch.Size([32, 128, 64, 64])\n",
      "torch.Size([32, 64, 128, 128])\n"
     ]
    },
    {
     "name": "stderr",
     "output_type": "stream",
     "text": [
      " 43%|████▎     | 10/23 [05:23<07:09, 33.00s/it]"
     ]
    },
    {
     "name": "stdout",
     "output_type": "stream",
     "text": [
      "torch.Size([32, 64, 128, 128])\n",
      "torch.Size([32, 128, 64, 64])\n",
      "torch.Size([32, 256, 32, 32])\n",
      "torch.Size([32, 512, 16, 16])\n",
      "torch.Size([32, 1024, 8, 8])\n",
      "torch.Size([32, 512, 16, 16])\n",
      "torch.Size([32, 256, 32, 32])\n",
      "torch.Size([32, 128, 64, 64])\n",
      "torch.Size([32, 64, 128, 128])\n"
     ]
    },
    {
     "name": "stderr",
     "output_type": "stream",
     "text": [
      " 48%|████▊     | 11/23 [05:55<06:32, 32.68s/it]"
     ]
    },
    {
     "name": "stdout",
     "output_type": "stream",
     "text": [
      "torch.Size([32, 64, 128, 128])\n",
      "torch.Size([32, 128, 64, 64])\n",
      "torch.Size([32, 256, 32, 32])\n",
      "torch.Size([32, 512, 16, 16])\n",
      "torch.Size([32, 1024, 8, 8])\n",
      "torch.Size([32, 512, 16, 16])\n",
      "torch.Size([32, 256, 32, 32])\n",
      "torch.Size([32, 128, 64, 64])\n",
      "torch.Size([32, 64, 128, 128])\n"
     ]
    },
    {
     "name": "stderr",
     "output_type": "stream",
     "text": [
      " 52%|█████▏    | 12/23 [06:27<05:58, 32.55s/it]"
     ]
    },
    {
     "name": "stdout",
     "output_type": "stream",
     "text": [
      "torch.Size([32, 64, 128, 128])\n",
      "torch.Size([32, 128, 64, 64])\n",
      "torch.Size([32, 256, 32, 32])\n",
      "torch.Size([32, 512, 16, 16])\n",
      "torch.Size([32, 1024, 8, 8])\n",
      "torch.Size([32, 512, 16, 16])\n",
      "torch.Size([32, 256, 32, 32])\n",
      "torch.Size([32, 128, 64, 64])\n",
      "torch.Size([32, 64, 128, 128])\n"
     ]
    },
    {
     "name": "stderr",
     "output_type": "stream",
     "text": [
      " 57%|█████▋    | 13/23 [06:59<05:22, 32.26s/it]"
     ]
    },
    {
     "name": "stdout",
     "output_type": "stream",
     "text": [
      "torch.Size([32, 64, 128, 128])\n",
      "torch.Size([32, 128, 64, 64])\n",
      "torch.Size([32, 256, 32, 32])\n",
      "torch.Size([32, 512, 16, 16])\n",
      "torch.Size([32, 1024, 8, 8])\n",
      "torch.Size([32, 512, 16, 16])\n",
      "torch.Size([32, 256, 32, 32])\n",
      "torch.Size([32, 128, 64, 64])\n",
      "torch.Size([32, 64, 128, 128])\n"
     ]
    },
    {
     "name": "stderr",
     "output_type": "stream",
     "text": [
      " 61%|██████    | 14/23 [07:32<04:51, 32.43s/it]"
     ]
    },
    {
     "name": "stdout",
     "output_type": "stream",
     "text": [
      "torch.Size([32, 64, 128, 128])\n",
      "torch.Size([32, 128, 64, 64])\n",
      "torch.Size([32, 256, 32, 32])\n",
      "torch.Size([32, 512, 16, 16])\n",
      "torch.Size([32, 1024, 8, 8])\n",
      "torch.Size([32, 512, 16, 16])\n",
      "torch.Size([32, 256, 32, 32])\n",
      "torch.Size([32, 128, 64, 64])\n",
      "torch.Size([32, 64, 128, 128])\n"
     ]
    },
    {
     "name": "stderr",
     "output_type": "stream",
     "text": [
      " 65%|██████▌   | 15/23 [08:04<04:19, 32.43s/it]"
     ]
    },
    {
     "name": "stdout",
     "output_type": "stream",
     "text": [
      "torch.Size([32, 64, 128, 128])\n",
      "torch.Size([32, 128, 64, 64])\n",
      "torch.Size([32, 256, 32, 32])\n",
      "torch.Size([32, 512, 16, 16])\n",
      "torch.Size([32, 1024, 8, 8])\n",
      "torch.Size([32, 512, 16, 16])\n",
      "torch.Size([32, 256, 32, 32])\n",
      "torch.Size([32, 128, 64, 64])\n",
      "torch.Size([32, 64, 128, 128])\n"
     ]
    },
    {
     "name": "stderr",
     "output_type": "stream",
     "text": [
      " 70%|██████▉   | 16/23 [08:37<03:47, 32.45s/it]"
     ]
    },
    {
     "name": "stdout",
     "output_type": "stream",
     "text": [
      "torch.Size([32, 64, 128, 128])\n",
      "torch.Size([32, 128, 64, 64])\n",
      "torch.Size([32, 256, 32, 32])\n",
      "torch.Size([32, 512, 16, 16])\n",
      "torch.Size([32, 1024, 8, 8])\n",
      "torch.Size([32, 512, 16, 16])\n",
      "torch.Size([32, 256, 32, 32])\n",
      "torch.Size([32, 128, 64, 64])\n",
      "torch.Size([32, 64, 128, 128])\n"
     ]
    },
    {
     "name": "stderr",
     "output_type": "stream",
     "text": [
      " 74%|███████▍  | 17/23 [09:09<03:13, 32.33s/it]"
     ]
    },
    {
     "name": "stdout",
     "output_type": "stream",
     "text": [
      "torch.Size([32, 64, 128, 128])\n",
      "torch.Size([32, 128, 64, 64])\n",
      "torch.Size([32, 256, 32, 32])\n",
      "torch.Size([32, 512, 16, 16])\n",
      "torch.Size([32, 1024, 8, 8])\n",
      "torch.Size([32, 512, 16, 16])\n",
      "torch.Size([32, 256, 32, 32])\n",
      "torch.Size([32, 128, 64, 64])\n",
      "torch.Size([32, 64, 128, 128])\n"
     ]
    },
    {
     "name": "stderr",
     "output_type": "stream",
     "text": [
      " 78%|███████▊  | 18/23 [09:41<02:41, 32.39s/it]"
     ]
    },
    {
     "name": "stdout",
     "output_type": "stream",
     "text": [
      "torch.Size([32, 64, 128, 128])\n",
      "torch.Size([32, 128, 64, 64])\n",
      "torch.Size([32, 256, 32, 32])\n",
      "torch.Size([32, 512, 16, 16])\n",
      "torch.Size([32, 1024, 8, 8])\n",
      "torch.Size([32, 512, 16, 16])\n",
      "torch.Size([32, 256, 32, 32])\n",
      "torch.Size([32, 128, 64, 64])\n",
      "torch.Size([32, 64, 128, 128])\n"
     ]
    },
    {
     "name": "stderr",
     "output_type": "stream",
     "text": [
      " 83%|████████▎ | 19/23 [10:13<02:08, 32.11s/it]"
     ]
    },
    {
     "name": "stdout",
     "output_type": "stream",
     "text": [
      "torch.Size([32, 64, 128, 128])\n",
      "torch.Size([32, 128, 64, 64])\n",
      "torch.Size([32, 256, 32, 32])\n",
      "torch.Size([32, 512, 16, 16])\n",
      "torch.Size([32, 1024, 8, 8])\n",
      "torch.Size([32, 512, 16, 16])\n",
      "torch.Size([32, 256, 32, 32])\n",
      "torch.Size([32, 128, 64, 64])\n",
      "torch.Size([32, 64, 128, 128])\n"
     ]
    },
    {
     "name": "stderr",
     "output_type": "stream",
     "text": [
      " 87%|████████▋ | 20/23 [10:39<01:31, 30.43s/it]"
     ]
    },
    {
     "name": "stdout",
     "output_type": "stream",
     "text": [
      "torch.Size([32, 64, 128, 128])\n",
      "torch.Size([32, 128, 64, 64])\n",
      "torch.Size([32, 256, 32, 32])\n",
      "torch.Size([32, 512, 16, 16])\n",
      "torch.Size([32, 1024, 8, 8])\n",
      "torch.Size([32, 512, 16, 16])\n",
      "torch.Size([32, 256, 32, 32])\n",
      "torch.Size([32, 128, 64, 64])\n",
      "torch.Size([32, 64, 128, 128])\n"
     ]
    },
    {
     "name": "stderr",
     "output_type": "stream",
     "text": [
      " 91%|█████████▏| 21/23 [2:11:55<1:13:30, 2205.13s/it]"
     ]
    },
    {
     "name": "stdout",
     "output_type": "stream",
     "text": [
      "torch.Size([32, 64, 128, 128])\n",
      "torch.Size([32, 128, 64, 64])\n",
      "torch.Size([32, 256, 32, 32])\n",
      "torch.Size([32, 512, 16, 16])\n",
      "torch.Size([32, 1024, 8, 8])\n",
      "torch.Size([32, 512, 16, 16])\n",
      "torch.Size([32, 256, 32, 32])\n",
      "torch.Size([32, 128, 64, 64])\n",
      "torch.Size([32, 64, 128, 128])\n"
     ]
    },
    {
     "name": "stderr",
     "output_type": "stream",
     "text": [
      " 96%|█████████▌| 22/23 [2:12:20<25:50, 1550.98s/it]  "
     ]
    },
    {
     "name": "stdout",
     "output_type": "stream",
     "text": [
      "torch.Size([16, 64, 128, 128])\n",
      "torch.Size([16, 128, 64, 64])\n",
      "torch.Size([16, 256, 32, 32])\n",
      "torch.Size([16, 512, 16, 16])\n",
      "torch.Size([16, 1024, 8, 8])\n",
      "torch.Size([16, 512, 16, 16])\n",
      "torch.Size([16, 256, 32, 32])\n",
      "torch.Size([16, 128, 64, 64])\n",
      "torch.Size([16, 64, 128, 128])\n"
     ]
    }
   ],
   "source": [
    "num_epochs = 20\n",
    "\n",
    "for epoch in range(num_epochs):\n",
    "    print(f\"\\nEpoch {epoch+1}/{num_epochs}\")\n",
    "    train_loss = train(model, train_loader, optimizer, criterion)\n",
    "    val_loss = validate(model, val_loader, criterion)\n",
    "\n",
    "    print(f\"Train Loss: {train_loss:.4f} | Val Loss: {val_loss:.4f}\")"
   ]
  },
  {
   "cell_type": "markdown",
   "id": "c8f2397a",
   "metadata": {},
   "source": [
    "### Now let's see some output of the model"
   ]
  },
  {
   "cell_type": "code",
   "execution_count": null,
   "id": "480228da",
   "metadata": {},
   "outputs": [],
   "source": [
    "import random\n",
    "from matplotlib import pyplot as plt\n",
    "\n",
    "model.eval()\n",
    "fig = plt.figure(figsize=(10, 7))\n",
    "n = 3\n",
    "for i in range(n):\n",
    "    idx = random.randint(0, len(val_dataset)-1)\n",
    "    img, mask = val_dataset[idx] # img: [C, H, W]\n",
    "\n",
    "    input_tensor = img.unsqueeze(0)\n",
    "    with torch.no_grad():\n",
    "        output = model(input_tensor)\n",
    "        output = output.squeeze().cpu().numpy()\n",
    "\n",
    "    # Convert image to [H, W, C] for display 😼\n",
    "    img_disp = img.permute(1, 2, 0).numpy()\n",
    "    mask_disp = mask.squeeze(0).numpy()\n",
    "\n",
    "    plt.subplot(n, 3, 3*i+1)\n",
    "    plt.imshow(img_disp)\n",
    "    plt.title(\"Input Image\")\n",
    "    plt.axis('off')\n",
    "\n",
    "    plt.subplot(n, 3, 3*i+2)\n",
    "    plt.imshow(mask_disp)\n",
    "    plt.title(\"Input Mask\")\n",
    "    plt.axis('off')\n",
    "\n",
    "    plt.subplot(n, 3, 3*i+3)\n",
    "    if output.ndim == 3:\n",
    "        output = output[1] if output.shape[0] == 2 else output[0]  # binary seg\n",
    "    plt.imshow(output, cmap='gray')\n",
    "    plt.title(\"Output of the Model\")\n",
    "    plt.axis('off')\n",
    "\n",
    "plt.show()"
   ]
  },
  {
   "cell_type": "markdown",
   "id": "5cbd98cb",
   "metadata": {},
   "source": [
    "### Save the model just in case "
   ]
  },
  {
   "cell_type": "code",
   "execution_count": null,
   "id": "5efd0396",
   "metadata": {},
   "outputs": [],
   "source": [
    "torch.save(model.state_dict(), \"unet_weights.pth\")"
   ]
  },
  {
   "cell_type": "markdown",
   "id": "bf54c959",
   "metadata": {},
   "source": [
    "+load if needed"
   ]
  },
  {
   "cell_type": "code",
   "execution_count": null,
   "id": "9bbfbf26",
   "metadata": {},
   "outputs": [],
   "source": [
    "model = u_net()  # Or your model class\n",
    "model.load_state_dict(torch.load(\"unet_weights.pth\"))\n",
    "model.eval() "
   ]
  }
 ],
 "metadata": {
  "kernelspec": {
   "display_name": "Python 3",
   "language": "python",
   "name": "python3"
  },
  "language_info": {
   "codemirror_mode": {
    "name": "ipython",
    "version": 3
   },
   "file_extension": ".py",
   "mimetype": "text/x-python",
   "name": "python",
   "nbconvert_exporter": "python",
   "pygments_lexer": "ipython3",
   "version": "3.9.0"
  }
 },
 "nbformat": 4,
 "nbformat_minor": 5
}
