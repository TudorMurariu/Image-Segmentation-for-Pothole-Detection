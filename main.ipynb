{
 "cells": [
  {
   "cell_type": "markdown",
   "id": "5e6f9806",
   "metadata": {},
   "source": [
    "# Image Segmantation for Pothole Detection\n",
    "(we know this would be very helpful in Romania expecially)"
   ]
  },
  {
   "cell_type": "markdown",
   "id": "1a7765e4",
   "metadata": {},
   "source": [
    "Let's import the dataset:"
   ]
  },
  {
   "cell_type": "code",
   "execution_count": 2,
   "id": "7b5fc2a2",
   "metadata": {},
   "outputs": [
    {
     "name": "stdout",
     "output_type": "stream",
     "text": [
      "Warning: Looks like you're using an outdated `kagglehub` version, please consider updating (latest version: 0.3.12)\n",
      "Path to dataset files: C:\\Users\\Tudor\\.cache\\kagglehub\\datasets\\farzadnekouei\\pothole-image-segmentation-dataset\\versions\\2\n"
     ]
    }
   ],
   "source": [
    "import kagglehub\n",
    "\n",
    "# Download latest version\n",
    "path = kagglehub.dataset_download(\"farzadnekouei/pothole-image-segmentation-dataset\")\n",
    "\n",
    "print(\"Path to dataset files:\", path)"
   ]
  },
  {
   "cell_type": "code",
   "execution_count": 3,
   "id": "4826920c",
   "metadata": {},
   "outputs": [],
   "source": [
    "# imports\n",
    "import torch\n",
    "import torch.nn as nn\n",
    "import torch.nn.functional as F\n",
    "import torch.optim as optim\n",
    "from torch.utils.data import DataLoader\n",
    "import torchvision.datasets as datasets\n",
    "import torchvision.transforms as transforms"
   ]
  },
  {
   "cell_type": "markdown",
   "id": "fd9cc30a",
   "metadata": {},
   "source": [
    "Define basic block of U-Net"
   ]
  },
  {
   "cell_type": "code",
   "execution_count": 4,
   "id": "cc0eaebb",
   "metadata": {},
   "outputs": [],
   "source": [
    "class downConv(nn.Module):\n",
    "    def __init__(self, in_c, out_c, kernel_size=3, padding=0, stride=1,):\n",
    "        super().__init__()\n",
    "\n",
    "        self.conv = nn.Sequential(\n",
    "            nn.Conv2d(in_c, out_c, kernel_size=kernel_size, padding=padding, stride=stride,),\n",
    "            nn.BatchNorm2d(out_c),\n",
    "            nn.ReLU(inplace=True),\n",
    "            nn.Conv2d(out_c, out_c, kernel_size=kernel_size, padding=padding, stride=stride,),\n",
    "            nn.BatchNorm2d(out_c),\n",
    "            nn.ReLU(inplace=True),\n",
    "        )\n",
    "\n",
    "    def forward(self, x):\n",
    "        return self.conv(x)\n",
    "\n",
    "\n",
    "\n",
    "class upConv(nn.Module):\n",
    "    def __init__(self, in_c, out_c, kernel_size=3, padding=0, stride=1,):\n",
    "        super().__init__()\n",
    "\n",
    "        self.conv = nn.Sequential(\n",
    "            nn.Conv2d(in_c, in_c // 2, kernel_size=kernel_size, padding=padding, stride=stride,),\n",
    "            nn.BatchNorm2d(in_c // 2),\n",
    "            nn.ReLU(inplace=True),\n",
    "            nn.Conv2d(in_c // 2, out_c, kernel_size=kernel_size, padding=padding, stride=stride,),\n",
    "            nn.BatchNorm2d(out_c),\n",
    "            nn.ReLU(inplace=True),\n",
    "        )\n",
    "\n",
    "    def forward(self, x):\n",
    "        return self.conv(x)"
   ]
  },
  {
   "cell_type": "markdown",
   "id": "22f90543",
   "metadata": {},
   "source": [
    "Define U-Net"
   ]
  },
  {
   "cell_type": "code",
   "execution_count": 5,
   "id": "a0917d8d",
   "metadata": {},
   "outputs": [],
   "source": [
    "class unet_encoder(nn.Module):\n",
    "    def __init__(self):\n",
    "        super().__init__()\n",
    "\n",
    "        self.block1 = downConv(in_c=3, out_c=64)\n",
    "        self.block2 = downConv(in_c=64, out_c=128)\n",
    "        self.block3 = downConv(in_c=128, out_c=256)\n",
    "        self.block4 = downConv(in_c=256, out_c=512)\n",
    "        self.block5 = downConv(in_c=512, out_c=1024)\n",
    "        \n",
    "        self.pool = nn.MaxPool2d(2)\n",
    "\n",
    "    def forward(self, x):\n",
    "        x1 = self.block1(x)\n",
    "        print(x1.shape)\n",
    "        x2 = self.block2(self.pool(x1))\n",
    "        print(x2.shape)\n",
    "        x3 = self.block3(self.pool(x2))\n",
    "        print(x3.shape)\n",
    "        x4 = self.block4(self.pool(x3))\n",
    "        print(x4.shape)\n",
    "        x5 = self.block5(self.pool(x4))\n",
    "        print(x5.shape)\n",
    "\n",
    "        return [x1, x2, x3, x4, x5]\n",
    "    \n",
    "class unet_decoder(nn.Module):\n",
    "    def __init__(self):\n",
    "        super().__init__()\n",
    "\n",
    "        self.upconv1 = nn.ConvTranspose2d(in_channels=1024, out_channels=512, kernel_size=2, stride=2,)\n",
    "        self.upconv2 = nn.ConvTranspose2d(in_channels=512, out_channels=256, kernel_size=2, stride=2,)\n",
    "        self.upconv3 = nn.ConvTranspose2d(in_channels=256, out_channels=128, kernel_size=2, stride=2,)\n",
    "        self.upconv4 = nn.ConvTranspose2d(in_channels=128, out_channels=64, kernel_size=2, stride=2,)\n",
    "        \n",
    "        self.block1 = upConv(in_c=1024, out_c=512)\n",
    "        self.block2 = upConv(in_c=512, out_c=256)\n",
    "        self.block3 = upConv(in_c=256, out_c=128)\n",
    "        self.block4 = upConv(in_c=128, out_c=64)\n",
    "\n",
    "    def forward(self, x_set):\n",
    "        x1_1, x1_2, x1_3, x1_4, x1_5 = x_set\n",
    "        \n",
    "        x2_1 = self.upconv1(x1_5)\n",
    "        x1_4 = x1_4[:, :, :x2_1.shape[2], :x2_1.shape[3]]\n",
    "        \n",
    "        x2_1 = torch.cat([x2_1, x1_4], dim=1)\n",
    "        x2_1 = self.block1(x2_1)\n",
    "        print(x2_1.shape)\n",
    "        \n",
    "        x2_2 = self.upconv2(x2_1)\n",
    "        x1_3 = x1_3[:, :, :x2_2.shape[2], :x2_2.shape[3]]\n",
    "        \n",
    "        x2_2 = torch.cat([x2_2, x1_3], dim=1)\n",
    "        x2_2 = self.block2(x2_2)\n",
    "        print(x2_2.shape)\n",
    "\n",
    "        x2_3 = self.upconv3(x2_2)\n",
    "        x1_2 = x1_2[:, :, :x2_3.shape[2], :x2_3.shape[3]]\n",
    "        \n",
    "        x2_3 = torch.cat([x2_3, x1_2], dim=1)\n",
    "        x2_3 = self.block3(x2_3)\n",
    "        print(x2_3.shape)\n",
    "\n",
    "        x2_4 = self.upconv4(x2_3)\n",
    "        x1_1 = x1_1[:, :, :x2_4.shape[2], :x2_4.shape[3]]\n",
    "        \n",
    "        x2_4 = torch.cat([x2_4, x1_1], dim=1)\n",
    "        x2_4 = self.block4(x2_4)\n",
    "        print(x2_4.shape)\n",
    "        \n",
    "        return x2_4"
   ]
  },
  {
   "cell_type": "code",
   "execution_count": 6,
   "id": "de299e26",
   "metadata": {},
   "outputs": [],
   "source": [
    "class u_net(nn.Module):\n",
    "    def __init__(self):\n",
    "        super().__init__()\n",
    "\n",
    "        self.part1 = unet_encoder()\n",
    "        self.part2 = unet_decoder()\n",
    "\n",
    "        self.seg_head = nn.Sequential(\n",
    "            nn.Conv2d(64, 2, kernel_size=1),\n",
    "            nn.Sigmoid()\n",
    "        )\n",
    "\n",
    "    def forward(self, x):\n",
    "        x1 = self.part1(x)\n",
    "        x2 = self.part2(x1)\n",
    "\n",
    "        x = self.seg_head(x2)\n",
    "\n",
    "        return x"
   ]
  }
 ],
 "metadata": {
  "kernelspec": {
   "display_name": "Python 3",
   "language": "python",
   "name": "python3"
  },
  "language_info": {
   "codemirror_mode": {
    "name": "ipython",
    "version": 3
   },
   "file_extension": ".py",
   "mimetype": "text/x-python",
   "name": "python",
   "nbconvert_exporter": "python",
   "pygments_lexer": "ipython3",
   "version": "3.9.0"
  }
 },
 "nbformat": 4,
 "nbformat_minor": 5
}
