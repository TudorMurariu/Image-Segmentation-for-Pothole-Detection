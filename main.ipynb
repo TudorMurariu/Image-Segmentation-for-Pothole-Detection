{
 "cells": [
  {
   "cell_type": "markdown",
   "id": "5e6f9806",
   "metadata": {},
   "source": [
    "# Image Segmantation for Pothole Detection\n",
    "(we know this would be very helpful in Romania expecially)"
   ]
  },
  {
   "cell_type": "markdown",
   "id": "1a7765e4",
   "metadata": {},
   "source": [
    "Let's import the dataset:"
   ]
  },
  {
   "cell_type": "code",
   "execution_count": 2,
   "id": "7b5fc2a2",
   "metadata": {},
   "outputs": [
    {
     "name": "stdout",
     "output_type": "stream",
     "text": [
      "Warning: Looks like you're using an outdated `kagglehub` version, please consider updating (latest version: 0.3.12)\n",
      "Path to dataset files: C:\\Users\\Tudor\\.cache\\kagglehub\\datasets\\farzadnekouei\\pothole-image-segmentation-dataset\\versions\\2\n"
     ]
    }
   ],
   "source": [
    "import kagglehub\n",
    "\n",
    "# Download latest version\n",
    "path = kagglehub.dataset_download(\"farzadnekouei/pothole-image-segmentation-dataset\")\n",
    "\n",
    "print(\"Path to dataset files:\", path)"
   ]
  }
 ],
 "metadata": {
  "kernelspec": {
   "display_name": "Python 3",
   "language": "python",
   "name": "python3"
  },
  "language_info": {
   "codemirror_mode": {
    "name": "ipython",
    "version": 3
   },
   "file_extension": ".py",
   "mimetype": "text/x-python",
   "name": "python",
   "nbconvert_exporter": "python",
   "pygments_lexer": "ipython3",
   "version": "3.9.0"
  }
 },
 "nbformat": 4,
 "nbformat_minor": 5
}
